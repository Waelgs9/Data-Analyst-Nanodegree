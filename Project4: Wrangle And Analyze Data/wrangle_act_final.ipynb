{
 "cells": [
  {
   "cell_type": "markdown",
   "metadata": {},
   "source": [
 "## Table of Contents\n",
    "<ul>\n",
    "<li><a href=\"#intro\">1. Introduction</a></li>\n",
    "<li><a href=\"#wrangling \">2. Data Wrangling (Gather, Assess, Clean)</a></li>\n",
    "<li><a href=\"#eda\">3. Exploratory Data Analysis</a></li>\n",
    "<li><a href=\"#conclusions\">Conclusions</a></li>\n",
    "</ul>\n"
   ]
  }
  {
   "cell_type": "markdown",
   "metadata": {},
   "source": [
    "## 1. Introduction"
   ]
  },
  {
   "cell_type": "markdown",
   "metadata": {},
   "source": [
    "The dataset, that I will wrangle and analyze, is the tweet archive known as WeRateDogs. This twitter account rates people's dogs with a humorous comment about the dog. The goal of this project consist on wrangle the data: gather data from a variety of sources and in a variety of formats, assess its quality and tidiness, then clean it. "
   ]
  },

    "*By Wael Alharbi (: * "
   ]
  },
  {
   "cell_type": "code",
   "execution_count": 280,
   "metadata": {},
   "outputs": [],
   "source": [
    "import pandas as pd\n",
    "import numpy as np\n",
    "import requests\n",
    "import tweepy\n",
    "import os\n",
    "import json\n",
    "import time\n",
    "import re\n",
    "import matplotlib.pyplot as plt\n",
    "import warnings\n",
    "from IPython.display import Image\n",
    "from functools import reduce\n",
    "import seaborn as sns\n",
    "import datetime\n",
    "from IPython.core.display import HTML \n",
    "%matplotlib inline\n"
   ]
  },
  {
   "cell_type": "markdown",
   "metadata": {},
   "source": [
    "# 1 - Gather data\n"
   ]
  },
  {
   "cell_type": "code",
   "execution_count": 281,
   "metadata": {},
   "outputs": [
    {
     "data": {
      "text/html": [
       "<div>\n",
       "<style scoped>\n",
       "    .dataframe tbody tr th:only-of-type {\n",
       "        vertical-align: middle;\n",
       "    }\n",
       "\n",
       "    .dataframe tbody tr th {\n",
       "        vertical-align: top;\n",
       "    }\n",
       "\n",
       "    .dataframe thead th {\n",
       "        text-align: right;\n",
       "    }\n",
       "</style>\n",
       "<table border=\"1\" class=\"dataframe\">\n",
       "  <thead>\n",
       "    <tr style=\"text-align: right;\">\n",
       "      <th></th>\n",
       "      <th>tweet_id</th>\n",
       "      <th>in_reply_to_status_id</th>\n",
       "      <th>in_reply_to_user_id</th>\n",
       "      <th>timestamp</th>\n",
       "      <th>source</th>\n",
       "      <th>text</th>\n",
       "      <th>retweeted_status_id</th>\n",
       "      <th>retweeted_status_user_id</th>\n",
       "      <th>retweeted_status_timestamp</th>\n",
       "      <th>expanded_urls</th>\n",
       "      <th>rating_numerator</th>\n",
       "      <th>rating_denominator</th>\n",
       "      <th>name</th>\n",
       "      <th>doggo</th>\n",
       "      <th>floofer</th>\n",
       "      <th>pupper</th>\n",
       "      <th>puppo</th>\n",
       "    </tr>\n",
       "  </thead>\n",
       "  <tbody>\n",
       "    <tr>\n",
       "      <th>0</th>\n",
       "      <td>892420643555336193</td>\n",
       "      <td>NaN</td>\n",
       "      <td>NaN</td>\n",
       "      <td>2017-08-01 16:23:56 +0000</td>\n",
       "      <td>&lt;a href=\"http://twitter.com/download/iphone\" rel=\"nofollow\"&gt;Twitter for iPhone&lt;/a&gt;</td>\n",
       "      <td>This is Phineas. He's a mystical boy. Only ever appears in the hole of a donut. 13/10 https://t.co/MgUWQ76dJU</td>\n",
       "      <td>NaN</td>\n",
       "      <td>NaN</td>\n",
       "      <td>NaN</td>\n",
       "      <td>https://twitter.com/dog_rates/status/892420643555336193/photo/1</td>\n",
       "      <td>13</td>\n",
       "      <td>10</td>\n",
       "      <td>Phineas</td>\n",
       "      <td>None</td>\n",
       "      <td>None</td>\n",
       "      <td>None</td>\n",
       "      <td>None</td>\n",
       "    </tr>\n",
       "  </tbody>\n",
       "</table>\n",
       "</div>"
      ],
      "text/plain": [
       "             tweet_id  in_reply_to_status_id  in_reply_to_user_id  \\\n",
       "0  892420643555336193                    NaN                  NaN   \n",
       "\n",
       "                   timestamp  \\\n",
       "0  2017-08-01 16:23:56 +0000   \n",
       "\n",
       "                                                                               source  \\\n",
       "0  <a href=\"http://twitter.com/download/iphone\" rel=\"nofollow\">Twitter for iPhone</a>   \n",
       "\n",
       "                                                                                                            text  \\\n",
       "0  This is Phineas. He's a mystical boy. Only ever appears in the hole of a donut. 13/10 https://t.co/MgUWQ76dJU   \n",
       "\n",
       "   retweeted_status_id  retweeted_status_user_id retweeted_status_timestamp  \\\n",
       "0                  NaN                       NaN                        NaN   \n",
       "\n",
       "                                                     expanded_urls  \\\n",
       "0  https://twitter.com/dog_rates/status/892420643555336193/photo/1   \n",
       "\n",
       "   rating_numerator  rating_denominator     name doggo floofer pupper puppo  \n",
       "0                13                  10  Phineas  None    None   None  None  "
      ]
     },
     "execution_count": 281,
     "metadata": {},
     "output_type": "execute_result"
    }
   ],
   "source": [
    "twitter_archive = pd.read_csv('twitter-archive-enhanced.csv')\n",
    "twitter_archive.head(1)"
   ]
  },
  {
   "cell_type": "code",
   "execution_count": 282,
   "metadata": {},
   "outputs": [
    {
     "data": {
      "text/html": [
       "<div>\n",
       "<style scoped>\n",
       "    .dataframe tbody tr th:only-of-type {\n",
       "        vertical-align: middle;\n",
       "    }\n",
       "\n",
       "    .dataframe tbody tr th {\n",
       "        vertical-align: top;\n",
       "    }\n",
       "\n",
       "    .dataframe thead th {\n",
       "        text-align: right;\n",
       "    }\n",
       "</style>\n",
       "<table border=\"1\" class=\"dataframe\">\n",
       "  <thead>\n",
       "    <tr style=\"text-align: right;\">\n",
       "      <th></th>\n",
       "      <th>tweet_id</th>\n",
       "      <th>jpg_url</th>\n",
       "      <th>img_num</th>\n",
       "      <th>p1</th>\n",
       "      <th>p1_conf</th>\n",
       "      <th>p1_dog</th>\n",
       "      <th>p2</th>\n",
       "      <th>p2_conf</th>\n",
       "      <th>p2_dog</th>\n",
       "      <th>p3</th>\n",
       "      <th>p3_conf</th>\n",
       "      <th>p3_dog</th>\n",
       "    </tr>\n",
       "  </thead>\n",
       "  <tbody>\n",
       "    <tr>\n",
       "      <th>0</th>\n",
       "      <td>666020888022790149</td>\n",
       "      <td>https://pbs.twimg.com/media/CT4udn0WwAA0aMy.jpg</td>\n",
       "      <td>1</td>\n",
       "      <td>Welsh_springer_spaniel</td>\n",
       "      <td>0.465074</td>\n",
       "      <td>True</td>\n",
       "      <td>collie</td>\n",
       "      <td>0.156665</td>\n",
       "      <td>True</td>\n",
       "      <td>Shetland_sheepdog</td>\n",
       "      <td>0.061428</td>\n",
       "      <td>True</td>\n",
       "    </tr>\n",
       "  </tbody>\n",
       "</table>\n",
       "</div>"
      ],
      "text/plain": [
       "             tweet_id                                          jpg_url  \\\n",
       "0  666020888022790149  https://pbs.twimg.com/media/CT4udn0WwAA0aMy.jpg   \n",
       "\n",
       "   img_num                      p1   p1_conf  p1_dog      p2   p2_conf  \\\n",
       "0        1  Welsh_springer_spaniel  0.465074    True  collie  0.156665   \n",
       "\n",
       "   p2_dog                 p3   p3_conf  p3_dog  \n",
       "0    True  Shetland_sheepdog  0.061428    True  "
      ]
     },
     "execution_count": 282,
     "metadata": {},
     "output_type": "execute_result"
    }
   ],
   "source": [
    "url=\"https://d17h27t6h515a5.cloudfront.net/topher/2017/August/599fd2ad_image-predictions/image-predictions.tsv\"\n",
    "response = requests.get(url)\n",
    "with open('image_predictions.tsv', 'wb') as file:\n",
    "    file.write(response.content)\n",
    "df_image_predictions = pd.read_csv('image_predictions.tsv', sep='\\t')\n",
    "df_image_predictions.head(1)    "
   ]
  },
  {
   "cell_type": "code",
   "execution_count": 283,
   "metadata": {},
   "outputs": [],
   "source": [
    "tweet_json = pd.read_json('tw_json.txt', lines= True)"
   ]
  },
  {
   "cell_type": "markdown",
   "metadata": {},
   "source": [
    "# 2- Assess data\n"
   ]
  },
  {
   "cell_type": "code",
   "execution_count": 284,
   "metadata": {},
   "outputs": [
    {
     "name": "stdout",
     "output_type": "stream",
     "text": [
      "<class 'pandas.core.frame.DataFrame'>\n",
      "RangeIndex: 2356 entries, 0 to 2355\n",
      "Data columns (total 17 columns):\n",
      "tweet_id                      2356 non-null int64\n",
      "in_reply_to_status_id         78 non-null float64\n",
      "in_reply_to_user_id           78 non-null float64\n",
      "timestamp                     2356 non-null object\n",
      "source                        2356 non-null object\n",
      "text                          2356 non-null object\n",
      "retweeted_status_id           181 non-null float64\n",
      "retweeted_status_user_id      181 non-null float64\n",
      "retweeted_status_timestamp    181 non-null object\n",
      "expanded_urls                 2297 non-null object\n",
      "rating_numerator              2356 non-null int64\n",
      "rating_denominator            2356 non-null int64\n",
      "name                          2356 non-null object\n",
      "doggo                         2356 non-null object\n",
      "floofer                       2356 non-null object\n",
      "pupper                        2356 non-null object\n",
      "puppo                         2356 non-null object\n",
      "dtypes: float64(4), int64(3), object(10)\n",
      "memory usage: 313.0+ KB\n"
     ]
    }
   ],
   "source": [
    "twitter_archive.info()"
   ]
  },
  {
   "cell_type": "code",
   "execution_count": 285,
   "metadata": {},
   "outputs": [
    {
     "data": {
      "text/plain": [
       "0"
      ]
     },
     "execution_count": 285,
     "metadata": {},
     "output_type": "execute_result"
    }
   ],
   "source": [
    "twitter_archive.duplicated().sum()"
   ]
  },
  {
   "cell_type": "code",
   "execution_count": 286,
   "metadata": {},
   "outputs": [
    {
     "data": {
      "text/plain": [
       "2355    2015-11-15 22:32:08 +0000\n",
       "2354    2015-11-15 23:05:30 +0000\n",
       "2353    2015-11-15 23:21:54 +0000\n",
       "2352    2015-11-16 00:04:52 +0000\n",
       "2351    2015-11-16 00:24:50 +0000\n",
       "2350    2015-11-16 00:30:50 +0000\n",
       "2349    2015-11-16 00:35:11 +0000\n",
       "2348    2015-11-16 00:49:46 +0000\n",
       "2347    2015-11-16 00:55:59 +0000\n",
       "2346    2015-11-16 01:01:59 +0000\n",
       "2345    2015-11-16 01:22:45 +0000\n",
       "2344    2015-11-16 01:52:02 +0000\n",
       "2343    2015-11-16 01:59:36 +0000\n",
       "2342    2015-11-16 02:38:37 +0000\n",
       "2341    2015-11-16 03:22:39 +0000\n",
       "2340    2015-11-16 03:44:34 +0000\n",
       "2339    2015-11-16 03:55:04 +0000\n",
       "2338    2015-11-16 04:02:55 +0000\n",
       "2337    2015-11-16 14:57:41 +0000\n",
       "2336    2015-11-16 15:14:19 +0000\n",
       "2335    2015-11-16 16:11:11 +0000\n",
       "2334    2015-11-16 16:37:02 +0000\n",
       "2333    2015-11-16 19:31:45 +0000\n",
       "2332    2015-11-16 20:01:42 +0000\n",
       "2331    2015-11-16 20:32:58 +0000\n",
       "2330    2015-11-16 21:10:36 +0000\n",
       "2329    2015-11-16 21:54:18 +0000\n",
       "2328    2015-11-16 23:23:41 +0000\n",
       "2327    2015-11-17 00:06:54 +0000\n",
       "2326    2015-11-17 00:24:19 +0000\n",
       "                  ...            \n",
       "29      2017-07-15 23:25:31 +0000\n",
       "28      2017-07-16 20:14:00 +0000\n",
       "27      2017-07-16 23:58:41 +0000\n",
       "26      2017-07-17 16:17:36 +0000\n",
       "25      2017-07-18 00:07:08 +0000\n",
       "24      2017-07-18 16:08:03 +0000\n",
       "23      2017-07-19 00:47:34 +0000\n",
       "22      2017-07-19 03:39:09 +0000\n",
       "21      2017-07-19 16:06:48 +0000\n",
       "20      2017-07-20 16:49:33 +0000\n",
       "19      2017-07-21 01:02:36 +0000\n",
       "18      2017-07-22 00:23:06 +0000\n",
       "17      2017-07-22 16:56:37 +0000\n",
       "16      2017-07-23 00:22:39 +0000\n",
       "15      2017-07-24 00:19:32 +0000\n",
       "14      2017-07-24 17:02:04 +0000\n",
       "13      2017-07-25 00:10:02 +0000\n",
       "12      2017-07-25 01:55:32 +0000\n",
       "11      2017-07-25 16:11:53 +0000\n",
       "10      2017-07-26 00:31:25 +0000\n",
       "9       2017-07-26 15:59:51 +0000\n",
       "8       2017-07-27 16:25:51 +0000\n",
       "7       2017-07-28 00:22:40 +0000\n",
       "6       2017-07-28 16:27:12 +0000\n",
       "5       2017-07-29 00:08:17 +0000\n",
       "4       2017-07-29 16:00:24 +0000\n",
       "3       2017-07-30 15:58:51 +0000\n",
       "2       2017-07-31 00:18:03 +0000\n",
       "1       2017-08-01 00:17:27 +0000\n",
       "0       2017-08-01 16:23:56 +0000\n",
       "Name: timestamp, Length: 2356, dtype: object"
      ]
     },
     "execution_count": 286,
     "metadata": {},
     "output_type": "execute_result"
    }
   ],
   "source": [
    "twitter_archive.timestamp.sort_values()"
   ]
  },
  {
   "cell_type": "code",
   "execution_count": 287,
   "metadata": {},
   "outputs": [
    {
     "data": {
      "text/plain": [
       "None     2259\n",
       "doggo      97\n",
       "Name: doggo, dtype: int64"
      ]
     },
     "execution_count": 287,
     "metadata": {},
     "output_type": "execute_result"
    }
   ],
   "source": [
    "twitter_archive.doggo.value_counts()"
   ]
  },
  {
   "cell_type": "code",
   "execution_count": 288,
   "metadata": {},
   "outputs": [],
   "source": [
    "#len(twitter_archive.loc[twitter_archive['floofer']=='floofer'])\n"
   ]
  },
  {
   "cell_type": "code",
   "execution_count": 289,
   "metadata": {},
   "outputs": [
    {
     "data": {
      "text/plain": [
       "None       2346\n",
       "floofer      10\n",
       "Name: floofer, dtype: int64"
      ]
     },
     "execution_count": 289,
     "metadata": {},
     "output_type": "execute_result"
    }
   ],
   "source": [
    "twitter_archive.floofer.value_counts()\n"
   ]
  },
  {
   "cell_type": "code",
   "execution_count": 290,
   "metadata": {},
   "outputs": [
    {
     "data": {
      "text/plain": [
       "None      2099\n",
       "pupper     257\n",
       "Name: pupper, dtype: int64"
      ]
     },
     "execution_count": 290,
     "metadata": {},
     "output_type": "execute_result"
    }
   ],
   "source": [
    "twitter_archive.pupper.value_counts()"
   ]
  },
  {
   "cell_type": "code",
   "execution_count": 291,
   "metadata": {},
   "outputs": [
    {
     "data": {
      "text/plain": [
       "None     2326\n",
       "puppo      30\n",
       "Name: puppo, dtype: int64"
      ]
     },
     "execution_count": 291,
     "metadata": {},
     "output_type": "execute_result"
    }
   ],
   "source": [
    "twitter_archive.puppo.value_counts()"
   ]
  },
  {
   "cell_type": "code",
   "execution_count": 292,
   "metadata": {},
   "outputs": [
    {
     "data": {
      "text/plain": [
       "tweet_id                         0\n",
       "in_reply_to_status_id         2278\n",
       "in_reply_to_user_id           2278\n",
       "timestamp                        0\n",
       "source                           0\n",
       "text                             0\n",
       "retweeted_status_id           2175\n",
       "retweeted_status_user_id      2175\n",
       "retweeted_status_timestamp    2175\n",
       "expanded_urls                   59\n",
       "rating_numerator                 0\n",
       "rating_denominator               0\n",
       "name                             0\n",
       "doggo                            0\n",
       "floofer                          0\n",
       "pupper                           0\n",
       "puppo                            0\n",
       "dtype: int64"
      ]
     },
     "execution_count": 292,
     "metadata": {},
     "output_type": "execute_result"
    }
   ],
   "source": [
    "twitter_archive.isnull().sum()"
   ]
  },
  {
   "cell_type": "code",
   "execution_count": 293,
   "metadata": {},
   "outputs": [
    {
     "data": {
      "text/plain": [
       "None            745\n",
       "a                55\n",
       "Charlie          12\n",
       "Oliver           11\n",
       "Lucy             11\n",
       "Cooper           11\n",
       "Tucker           10\n",
       "Lola             10\n",
       "Penny            10\n",
       "Bo                9\n",
       "Winston           9\n",
       "the               8\n",
       "Sadie             8\n",
       "an                7\n",
       "Toby              7\n",
       "Buddy             7\n",
       "Daisy             7\n",
       "Bailey            7\n",
       "Bella             6\n",
       "Milo              6\n",
       "Oscar             6\n",
       "Rusty             6\n",
       "Scout             6\n",
       "Stanley           6\n",
       "Jack              6\n",
       "Koda              6\n",
       "Dave              6\n",
       "Jax               6\n",
       "Leo               6\n",
       "Oakley            5\n",
       "               ... \n",
       "Glenn             1\n",
       "Grizzie           1\n",
       "Emmie             1\n",
       "by                1\n",
       "Crouton           1\n",
       "Florence          1\n",
       "Karll             1\n",
       "Mutt              1\n",
       "Crumpet           1\n",
       "Hermione          1\n",
       "Bluebert          1\n",
       "Gordon            1\n",
       "Kirk              1\n",
       "Millie            1\n",
       "Stuart            1\n",
       "Vinnie            1\n",
       "Alexanderson      1\n",
       "Arlo              1\n",
       "Jomathan          1\n",
       "Aja               1\n",
       "Snickers          1\n",
       "Theo              1\n",
       "Damon             1\n",
       "Sprout            1\n",
       "Clybe             1\n",
       "Fabio             1\n",
       "Jarod             1\n",
       "Oreo              1\n",
       "Maya              1\n",
       "Skittles          1\n",
       "Name: name, Length: 957, dtype: int64"
      ]
     },
     "execution_count": 293,
     "metadata": {},
     "output_type": "execute_result"
    }
   ],
   "source": [
    "twitter_archive.name.value_counts()"
   ]
  },
  {
   "cell_type": "code",
   "execution_count": 294,
   "metadata": {},
   "outputs": [
    {
     "data": {
      "text/plain": [
       "12      558\n",
       "11      464\n",
       "10      461\n",
       "13      351\n",
       "9       158\n",
       "8       102\n",
       "7        55\n",
       "14       54\n",
       "5        37\n",
       "6        32\n",
       "3        19\n",
       "4        17\n",
       "1         9\n",
       "2         9\n",
       "420       2\n",
       "0         2\n",
       "15        2\n",
       "75        2\n",
       "80        1\n",
       "20        1\n",
       "24        1\n",
       "26        1\n",
       "44        1\n",
       "50        1\n",
       "60        1\n",
       "165       1\n",
       "84        1\n",
       "88        1\n",
       "144       1\n",
       "182       1\n",
       "143       1\n",
       "666       1\n",
       "960       1\n",
       "1776      1\n",
       "17        1\n",
       "27        1\n",
       "45        1\n",
       "99        1\n",
       "121       1\n",
       "204       1\n",
       "Name: rating_numerator, dtype: int64"
      ]
     },
     "execution_count": 294,
     "metadata": {},
     "output_type": "execute_result"
    }
   ],
   "source": [
    "twitter_archive.rating_numerator.value_counts()"
   ]
  },
  {
   "cell_type": "markdown",
   "metadata": {},
   "source": [
    "  ### Some values in the rating_numerator look wrong, let's check them "
   ]
  },
  {
   "cell_type": "code",
   "execution_count": 295,
   "metadata": {},
   "outputs": [
    {
     "data": {
      "text/plain": [
       "979    This is Atticus. He's quite simply America af. 1776/10 https://t.co/GRXwMxLBkh\n",
       "Name: text, dtype: object"
      ]
     },
     "execution_count": 295,
     "metadata": {},
     "output_type": "execute_result"
    }
   ],
   "source": [
    "# 1776 Seems wrong value, let's check the value\n",
    "pd.options.display.max_colwidth = 100\n",
    "twitter_archive.loc[twitter_archive['rating_numerator']== 1776 ]['text']"
   ]
  },
  {
   "cell_type": "code",
   "execution_count": 296,
   "metadata": {},
   "outputs": [
    {
     "data": {
      "text/html": [
       "<div>\n",
       "<style scoped>\n",
       "    .dataframe tbody tr th:only-of-type {\n",
       "        vertical-align: middle;\n",
       "    }\n",
       "\n",
       "    .dataframe tbody tr th {\n",
       "        vertical-align: top;\n",
       "    }\n",
       "\n",
       "    .dataframe thead th {\n",
       "        text-align: right;\n",
       "    }\n",
       "</style>\n",
       "<table border=\"1\" class=\"dataframe\">\n",
       "  <thead>\n",
       "    <tr style=\"text-align: right;\">\n",
       "      <th></th>\n",
       "      <th>tweet_id</th>\n",
       "      <th>in_reply_to_status_id</th>\n",
       "      <th>in_reply_to_user_id</th>\n",
       "      <th>timestamp</th>\n",
       "      <th>source</th>\n",
       "      <th>text</th>\n",
       "      <th>retweeted_status_id</th>\n",
       "      <th>retweeted_status_user_id</th>\n",
       "      <th>retweeted_status_timestamp</th>\n",
       "      <th>expanded_urls</th>\n",
       "      <th>rating_numerator</th>\n",
       "      <th>rating_denominator</th>\n",
       "      <th>name</th>\n",
       "      <th>doggo</th>\n",
       "      <th>floofer</th>\n",
       "      <th>pupper</th>\n",
       "      <th>puppo</th>\n",
       "    </tr>\n",
       "  </thead>\n",
       "  <tbody>\n",
       "    <tr>\n",
       "      <th>188</th>\n",
       "      <td>855862651834028034</td>\n",
       "      <td>8.558616e+17</td>\n",
       "      <td>194351775.0</td>\n",
       "      <td>2017-04-22 19:15:32 +0000</td>\n",
       "      <td>&lt;a href=\"http://twitter.com/download/iphone\" rel=\"nofollow\"&gt;Twitter for iPhone&lt;/a&gt;</td>\n",
       "      <td>@dhmontgomery We also gave snoop dogg a 420/10 but I think that predated your research</td>\n",
       "      <td>NaN</td>\n",
       "      <td>NaN</td>\n",
       "      <td>NaN</td>\n",
       "      <td>NaN</td>\n",
       "      <td>420</td>\n",
       "      <td>10</td>\n",
       "      <td>None</td>\n",
       "      <td>None</td>\n",
       "      <td>None</td>\n",
       "      <td>None</td>\n",
       "      <td>None</td>\n",
       "    </tr>\n",
       "    <tr>\n",
       "      <th>2074</th>\n",
       "      <td>670842764863651840</td>\n",
       "      <td>NaN</td>\n",
       "      <td>NaN</td>\n",
       "      <td>2015-11-29 05:52:33 +0000</td>\n",
       "      <td>&lt;a href=\"http://twitter.com/download/iphone\" rel=\"nofollow\"&gt;Twitter for iPhone&lt;/a&gt;</td>\n",
       "      <td>After so many requests... here you go.\\n\\nGood dogg. 420/10 https://t.co/yfAAo1gdeY</td>\n",
       "      <td>NaN</td>\n",
       "      <td>NaN</td>\n",
       "      <td>NaN</td>\n",
       "      <td>https://twitter.com/dog_rates/status/670842764863651840/photo/1</td>\n",
       "      <td>420</td>\n",
       "      <td>10</td>\n",
       "      <td>None</td>\n",
       "      <td>None</td>\n",
       "      <td>None</td>\n",
       "      <td>None</td>\n",
       "      <td>None</td>\n",
       "    </tr>\n",
       "  </tbody>\n",
       "</table>\n",
       "</div>"
      ],
      "text/plain": [
       "                tweet_id  in_reply_to_status_id  in_reply_to_user_id  \\\n",
       "188   855862651834028034           8.558616e+17          194351775.0   \n",
       "2074  670842764863651840                    NaN                  NaN   \n",
       "\n",
       "                      timestamp  \\\n",
       "188   2017-04-22 19:15:32 +0000   \n",
       "2074  2015-11-29 05:52:33 +0000   \n",
       "\n",
       "                                                                                  source  \\\n",
       "188   <a href=\"http://twitter.com/download/iphone\" rel=\"nofollow\">Twitter for iPhone</a>   \n",
       "2074  <a href=\"http://twitter.com/download/iphone\" rel=\"nofollow\">Twitter for iPhone</a>   \n",
       "\n",
       "                                                                                        text  \\\n",
       "188   @dhmontgomery We also gave snoop dogg a 420/10 but I think that predated your research   \n",
       "2074     After so many requests... here you go.\\n\\nGood dogg. 420/10 https://t.co/yfAAo1gdeY   \n",
       "\n",
       "      retweeted_status_id  retweeted_status_user_id  \\\n",
       "188                   NaN                       NaN   \n",
       "2074                  NaN                       NaN   \n",
       "\n",
       "     retweeted_status_timestamp  \\\n",
       "188                         NaN   \n",
       "2074                        NaN   \n",
       "\n",
       "                                                        expanded_urls  \\\n",
       "188                                                               NaN   \n",
       "2074  https://twitter.com/dog_rates/status/670842764863651840/photo/1   \n",
       "\n",
       "      rating_numerator  rating_denominator  name doggo floofer pupper puppo  \n",
       "188                420                  10  None  None    None   None  None  \n",
       "2074               420                  10  None  None    None   None  None  "
      ]
     },
     "execution_count": 296,
     "metadata": {},
     "output_type": "execute_result"
    }
   ],
   "source": [
    "# 420 Seems wrong value, let's check the value\n",
    "pd.options.display.max_colwidth = 100\n",
    "twitter_archive.loc[twitter_archive['rating_numerator']== 420 ]\n",
    "#It is not a image of a dog , We must drop it in clean part  "
   ]
  },
  {
   "cell_type": "code",
   "execution_count": 297,
   "metadata": {},
   "outputs": [
    {
     "data": {
      "text/html": [
       "<div>\n",
       "<style scoped>\n",
       "    .dataframe tbody tr th:only-of-type {\n",
       "        vertical-align: middle;\n",
       "    }\n",
       "\n",
       "    .dataframe tbody tr th {\n",
       "        vertical-align: top;\n",
       "    }\n",
       "\n",
       "    .dataframe thead th {\n",
       "        text-align: right;\n",
       "    }\n",
       "</style>\n",
       "<table border=\"1\" class=\"dataframe\">\n",
       "  <thead>\n",
       "    <tr style=\"text-align: right;\">\n",
       "      <th></th>\n",
       "      <th>tweet_id</th>\n",
       "      <th>in_reply_to_status_id</th>\n",
       "      <th>in_reply_to_user_id</th>\n",
       "      <th>timestamp</th>\n",
       "      <th>source</th>\n",
       "      <th>text</th>\n",
       "      <th>retweeted_status_id</th>\n",
       "      <th>retweeted_status_user_id</th>\n",
       "      <th>retweeted_status_timestamp</th>\n",
       "      <th>expanded_urls</th>\n",
       "      <th>rating_numerator</th>\n",
       "      <th>rating_denominator</th>\n",
       "      <th>name</th>\n",
       "      <th>doggo</th>\n",
       "      <th>floofer</th>\n",
       "      <th>pupper</th>\n",
       "      <th>puppo</th>\n",
       "    </tr>\n",
       "  </thead>\n",
       "  <tbody>\n",
       "    <tr>\n",
       "      <th>902</th>\n",
       "      <td>758467244762497024</td>\n",
       "      <td>NaN</td>\n",
       "      <td>NaN</td>\n",
       "      <td>2016-07-28 01:00:57 +0000</td>\n",
       "      <td>&lt;a href=\"http://twitter.com/download/iphone\" rel=\"nofollow\"&gt;Twitter for iPhone&lt;/a&gt;</td>\n",
       "      <td>Why does this never happen at my front door... 165/150 https://t.co/HmwrdfEfUE</td>\n",
       "      <td>NaN</td>\n",
       "      <td>NaN</td>\n",
       "      <td>NaN</td>\n",
       "      <td>https://twitter.com/dog_rates/status/758467244762497024/video/1</td>\n",
       "      <td>165</td>\n",
       "      <td>150</td>\n",
       "      <td>None</td>\n",
       "      <td>None</td>\n",
       "      <td>None</td>\n",
       "      <td>None</td>\n",
       "      <td>None</td>\n",
       "    </tr>\n",
       "  </tbody>\n",
       "</table>\n",
       "</div>"
      ],
      "text/plain": [
       "               tweet_id  in_reply_to_status_id  in_reply_to_user_id  \\\n",
       "902  758467244762497024                    NaN                  NaN   \n",
       "\n",
       "                     timestamp  \\\n",
       "902  2016-07-28 01:00:57 +0000   \n",
       "\n",
       "                                                                                 source  \\\n",
       "902  <a href=\"http://twitter.com/download/iphone\" rel=\"nofollow\">Twitter for iPhone</a>   \n",
       "\n",
       "                                                                               text  \\\n",
       "902  Why does this never happen at my front door... 165/150 https://t.co/HmwrdfEfUE   \n",
       "\n",
       "     retweeted_status_id  retweeted_status_user_id retweeted_status_timestamp  \\\n",
       "902                  NaN                       NaN                        NaN   \n",
       "\n",
       "                                                       expanded_urls  \\\n",
       "902  https://twitter.com/dog_rates/status/758467244762497024/video/1   \n",
       "\n",
       "     rating_numerator  rating_denominator  name doggo floofer pupper puppo  \n",
       "902               165                 150  None  None    None   None  None  "
      ]
     },
     "execution_count": 297,
     "metadata": {},
     "output_type": "execute_result"
    }
   ],
   "source": [
    "# 165 Seems wrong value, let's check the value\n",
    "pd.options.display.max_colwidth = 100\n",
    "twitter_archive.loc[twitter_archive['rating_numerator']== 165 ]"
   ]
  },
  {
   "cell_type": "code",
   "execution_count": 298,
   "metadata": {},
   "outputs": [
    {
     "data": {
      "text/html": [
       "<div>\n",
       "<style scoped>\n",
       "    .dataframe tbody tr th:only-of-type {\n",
       "        vertical-align: middle;\n",
       "    }\n",
       "\n",
       "    .dataframe tbody tr th {\n",
       "        vertical-align: top;\n",
       "    }\n",
       "\n",
       "    .dataframe thead th {\n",
       "        text-align: right;\n",
       "    }\n",
       "</style>\n",
       "<table border=\"1\" class=\"dataframe\">\n",
       "  <thead>\n",
       "    <tr style=\"text-align: right;\">\n",
       "      <th></th>\n",
       "      <th>tweet_id</th>\n",
       "      <th>in_reply_to_status_id</th>\n",
       "      <th>in_reply_to_user_id</th>\n",
       "      <th>timestamp</th>\n",
       "      <th>source</th>\n",
       "      <th>text</th>\n",
       "      <th>retweeted_status_id</th>\n",
       "      <th>retweeted_status_user_id</th>\n",
       "      <th>retweeted_status_timestamp</th>\n",
       "      <th>expanded_urls</th>\n",
       "      <th>rating_numerator</th>\n",
       "      <th>rating_denominator</th>\n",
       "      <th>name</th>\n",
       "      <th>doggo</th>\n",
       "      <th>floofer</th>\n",
       "      <th>pupper</th>\n",
       "      <th>puppo</th>\n",
       "    </tr>\n",
       "  </thead>\n",
       "  <tbody>\n",
       "    <tr>\n",
       "      <th>189</th>\n",
       "      <td>855860136149123072</td>\n",
       "      <td>8.558585e+17</td>\n",
       "      <td>13615722.0</td>\n",
       "      <td>2017-04-22 19:05:32 +0000</td>\n",
       "      <td>&lt;a href=\"http://twitter.com/download/iphone\" rel=\"nofollow\"&gt;Twitter for iPhone&lt;/a&gt;</td>\n",
       "      <td>@s8n You tried very hard to portray this good boy as not so good, but you have ultimately failed. His goodness shines through. 666/10</td>\n",
       "      <td>NaN</td>\n",
       "      <td>NaN</td>\n",
       "      <td>NaN</td>\n",
       "      <td>NaN</td>\n",
       "      <td>666</td>\n",
       "      <td>10</td>\n",
       "      <td>None</td>\n",
       "      <td>None</td>\n",
       "      <td>None</td>\n",
       "      <td>None</td>\n",
       "      <td>None</td>\n",
       "    </tr>\n",
       "  </tbody>\n",
       "</table>\n",
       "</div>"
      ],
      "text/plain": [
       "               tweet_id  in_reply_to_status_id  in_reply_to_user_id  \\\n",
       "189  855860136149123072           8.558585e+17           13615722.0   \n",
       "\n",
       "                     timestamp  \\\n",
       "189  2017-04-22 19:05:32 +0000   \n",
       "\n",
       "                                                                                 source  \\\n",
       "189  <a href=\"http://twitter.com/download/iphone\" rel=\"nofollow\">Twitter for iPhone</a>   \n",
       "\n",
       "                                                                                                                                      text  \\\n",
       "189  @s8n You tried very hard to portray this good boy as not so good, but you have ultimately failed. His goodness shines through. 666/10   \n",
       "\n",
       "     retweeted_status_id  retweeted_status_user_id retweeted_status_timestamp  \\\n",
       "189                  NaN                       NaN                        NaN   \n",
       "\n",
       "    expanded_urls  rating_numerator  rating_denominator  name doggo floofer  \\\n",
       "189           NaN               666                  10  None  None    None   \n",
       "\n",
       "    pupper puppo  \n",
       "189   None  None  "
      ]
     },
     "execution_count": 298,
     "metadata": {},
     "output_type": "execute_result"
    }
   ],
   "source": [
    "# 666 Seems wrong value, let's check the value\n",
    "pd.options.display.max_colwidth = 1000\n",
    "twitter_archive.loc[twitter_archive['rating_numerator']== 666 ]"
   ]
  },
  {
   "cell_type": "code",
   "execution_count": 299,
   "metadata": {},
   "outputs": [
    {
     "data": {
      "text/html": [
       "<div>\n",
       "<style scoped>\n",
       "    .dataframe tbody tr th:only-of-type {\n",
       "        vertical-align: middle;\n",
       "    }\n",
       "\n",
       "    .dataframe tbody tr th {\n",
       "        vertical-align: top;\n",
       "    }\n",
       "\n",
       "    .dataframe thead th {\n",
       "        text-align: right;\n",
       "    }\n",
       "</style>\n",
       "<table border=\"1\" class=\"dataframe\">\n",
       "  <thead>\n",
       "    <tr style=\"text-align: right;\">\n",
       "      <th></th>\n",
       "      <th>tweet_id</th>\n",
       "      <th>in_reply_to_status_id</th>\n",
       "      <th>in_reply_to_user_id</th>\n",
       "      <th>timestamp</th>\n",
       "      <th>source</th>\n",
       "      <th>text</th>\n",
       "      <th>retweeted_status_id</th>\n",
       "      <th>retweeted_status_user_id</th>\n",
       "      <th>retweeted_status_timestamp</th>\n",
       "      <th>expanded_urls</th>\n",
       "      <th>rating_numerator</th>\n",
       "      <th>rating_denominator</th>\n",
       "      <th>name</th>\n",
       "      <th>doggo</th>\n",
       "      <th>floofer</th>\n",
       "      <th>pupper</th>\n",
       "      <th>puppo</th>\n",
       "    </tr>\n",
       "  </thead>\n",
       "  <tbody>\n",
       "    <tr>\n",
       "      <th>1635</th>\n",
       "      <td>684222868335505415</td>\n",
       "      <td>NaN</td>\n",
       "      <td>NaN</td>\n",
       "      <td>2016-01-05 04:00:18 +0000</td>\n",
       "      <td>&lt;a href=\"http://twitter.com/download/iphone\" rel=\"nofollow\"&gt;Twitter for iPhone&lt;/a&gt;</td>\n",
       "      <td>Someone help the girl is being mugged. Several are distracting her while two steal her shoes. Clever puppers 121/110 https://t.co/1zfnTJLt55</td>\n",
       "      <td>NaN</td>\n",
       "      <td>NaN</td>\n",
       "      <td>NaN</td>\n",
       "      <td>https://twitter.com/dog_rates/status/684222868335505415/photo/1</td>\n",
       "      <td>121</td>\n",
       "      <td>110</td>\n",
       "      <td>None</td>\n",
       "      <td>None</td>\n",
       "      <td>None</td>\n",
       "      <td>None</td>\n",
       "      <td>None</td>\n",
       "    </tr>\n",
       "  </tbody>\n",
       "</table>\n",
       "</div>"
      ],
      "text/plain": [
       "                tweet_id  in_reply_to_status_id  in_reply_to_user_id  \\\n",
       "1635  684222868335505415                    NaN                  NaN   \n",
       "\n",
       "                      timestamp  \\\n",
       "1635  2016-01-05 04:00:18 +0000   \n",
       "\n",
       "                                                                                  source  \\\n",
       "1635  <a href=\"http://twitter.com/download/iphone\" rel=\"nofollow\">Twitter for iPhone</a>   \n",
       "\n",
       "                                                                                                                                              text  \\\n",
       "1635  Someone help the girl is being mugged. Several are distracting her while two steal her shoes. Clever puppers 121/110 https://t.co/1zfnTJLt55   \n",
       "\n",
       "      retweeted_status_id  retweeted_status_user_id  \\\n",
       "1635                  NaN                       NaN   \n",
       "\n",
       "     retweeted_status_timestamp  \\\n",
       "1635                        NaN   \n",
       "\n",
       "                                                        expanded_urls  \\\n",
       "1635  https://twitter.com/dog_rates/status/684222868335505415/photo/1   \n",
       "\n",
       "      rating_numerator  rating_denominator  name doggo floofer pupper puppo  \n",
       "1635               121                 110  None  None    None   None  None  "
      ]
     },
     "execution_count": 299,
     "metadata": {},
     "output_type": "execute_result"
    }
   ],
   "source": [
    "# 121 Seems wrong value, let's check the value\n",
    "pd.options.display.max_colwidth = 1000\n",
    "twitter_archive.loc[twitter_archive['rating_numerator']== 121 ]"
   ]
  },
  {
   "cell_type": "code",
   "execution_count": 300,
   "metadata": {},
   "outputs": [
    {
     "data": {
      "text/html": [
       "<div>\n",
       "<style scoped>\n",
       "    .dataframe tbody tr th:only-of-type {\n",
       "        vertical-align: middle;\n",
       "    }\n",
       "\n",
       "    .dataframe tbody tr th {\n",
       "        vertical-align: top;\n",
       "    }\n",
       "\n",
       "    .dataframe thead th {\n",
       "        text-align: right;\n",
       "    }\n",
       "</style>\n",
       "<table border=\"1\" class=\"dataframe\">\n",
       "  <thead>\n",
       "    <tr style=\"text-align: right;\">\n",
       "      <th></th>\n",
       "      <th>tweet_id</th>\n",
       "      <th>in_reply_to_status_id</th>\n",
       "      <th>in_reply_to_user_id</th>\n",
       "      <th>timestamp</th>\n",
       "      <th>source</th>\n",
       "      <th>text</th>\n",
       "      <th>retweeted_status_id</th>\n",
       "      <th>retweeted_status_user_id</th>\n",
       "      <th>retweeted_status_timestamp</th>\n",
       "      <th>expanded_urls</th>\n",
       "      <th>rating_numerator</th>\n",
       "      <th>rating_denominator</th>\n",
       "      <th>name</th>\n",
       "      <th>doggo</th>\n",
       "      <th>floofer</th>\n",
       "      <th>pupper</th>\n",
       "      <th>puppo</th>\n",
       "    </tr>\n",
       "  </thead>\n",
       "  <tbody>\n",
       "    <tr>\n",
       "      <th>902</th>\n",
       "      <td>758467244762497024</td>\n",
       "      <td>NaN</td>\n",
       "      <td>NaN</td>\n",
       "      <td>2016-07-28 01:00:57 +0000</td>\n",
       "      <td>&lt;a href=\"http://twitter.com/download/iphone\" rel=\"nofollow\"&gt;Twitter for iPhone&lt;/a&gt;</td>\n",
       "      <td>Why does this never happen at my front door... 165/150 https://t.co/HmwrdfEfUE</td>\n",
       "      <td>NaN</td>\n",
       "      <td>NaN</td>\n",
       "      <td>NaN</td>\n",
       "      <td>https://twitter.com/dog_rates/status/758467244762497024/video/1</td>\n",
       "      <td>165</td>\n",
       "      <td>150</td>\n",
       "      <td>None</td>\n",
       "      <td>None</td>\n",
       "      <td>None</td>\n",
       "      <td>None</td>\n",
       "      <td>None</td>\n",
       "    </tr>\n",
       "  </tbody>\n",
       "</table>\n",
       "</div>"
      ],
      "text/plain": [
       "               tweet_id  in_reply_to_status_id  in_reply_to_user_id  \\\n",
       "902  758467244762497024                    NaN                  NaN   \n",
       "\n",
       "                     timestamp  \\\n",
       "902  2016-07-28 01:00:57 +0000   \n",
       "\n",
       "                                                                                 source  \\\n",
       "902  <a href=\"http://twitter.com/download/iphone\" rel=\"nofollow\">Twitter for iPhone</a>   \n",
       "\n",
       "                                                                               text  \\\n",
       "902  Why does this never happen at my front door... 165/150 https://t.co/HmwrdfEfUE   \n",
       "\n",
       "     retweeted_status_id  retweeted_status_user_id retweeted_status_timestamp  \\\n",
       "902                  NaN                       NaN                        NaN   \n",
       "\n",
       "                                                       expanded_urls  \\\n",
       "902  https://twitter.com/dog_rates/status/758467244762497024/video/1   \n",
       "\n",
       "     rating_numerator  rating_denominator  name doggo floofer pupper puppo  \n",
       "902               165                 150  None  None    None   None  None  "
      ]
     },
     "execution_count": 300,
     "metadata": {},
     "output_type": "execute_result"
    }
   ],
   "source": [
    "# 165 Seems wrong value, let's check the value\n",
    "pd.options.display.max_colwidth = 100\n",
    "twitter_archive.loc[twitter_archive['rating_numerator']== 165 ]"
   ]
  },
  {
   "cell_type": "code",
   "execution_count": 301,
   "metadata": {},
   "outputs": [
    {
     "data": {
      "text/html": [
       "<div>\n",
       "<style scoped>\n",
       "    .dataframe tbody tr th:only-of-type {\n",
       "        vertical-align: middle;\n",
       "    }\n",
       "\n",
       "    .dataframe tbody tr th {\n",
       "        vertical-align: top;\n",
       "    }\n",
       "\n",
       "    .dataframe thead th {\n",
       "        text-align: right;\n",
       "    }\n",
       "</style>\n",
       "<table border=\"1\" class=\"dataframe\">\n",
       "  <thead>\n",
       "    <tr style=\"text-align: right;\">\n",
       "      <th></th>\n",
       "      <th>tweet_id</th>\n",
       "      <th>in_reply_to_status_id</th>\n",
       "      <th>in_reply_to_user_id</th>\n",
       "      <th>timestamp</th>\n",
       "      <th>source</th>\n",
       "      <th>text</th>\n",
       "      <th>retweeted_status_id</th>\n",
       "      <th>retweeted_status_user_id</th>\n",
       "      <th>retweeted_status_timestamp</th>\n",
       "      <th>expanded_urls</th>\n",
       "      <th>rating_numerator</th>\n",
       "      <th>rating_denominator</th>\n",
       "      <th>name</th>\n",
       "      <th>doggo</th>\n",
       "      <th>floofer</th>\n",
       "      <th>pupper</th>\n",
       "      <th>puppo</th>\n",
       "    </tr>\n",
       "  </thead>\n",
       "  <tbody>\n",
       "    <tr>\n",
       "      <th>1120</th>\n",
       "      <td>731156023742988288</td>\n",
       "      <td>NaN</td>\n",
       "      <td>NaN</td>\n",
       "      <td>2016-05-13 16:15:54 +0000</td>\n",
       "      <td>&lt;a href=\"http://twitter.com/download/iphone\" rel=\"nofollow\"&gt;Twitter for iPhone&lt;/a&gt;</td>\n",
       "      <td>Say hello to this unbelievably well behaved squad of doggos. 204/170 would try to pet all at onc...</td>\n",
       "      <td>NaN</td>\n",
       "      <td>NaN</td>\n",
       "      <td>NaN</td>\n",
       "      <td>https://twitter.com/dog_rates/status/731156023742988288/photo/1</td>\n",
       "      <td>204</td>\n",
       "      <td>170</td>\n",
       "      <td>this</td>\n",
       "      <td>None</td>\n",
       "      <td>None</td>\n",
       "      <td>None</td>\n",
       "      <td>None</td>\n",
       "    </tr>\n",
       "  </tbody>\n",
       "</table>\n",
       "</div>"
      ],
      "text/plain": [
       "                tweet_id  in_reply_to_status_id  in_reply_to_user_id  \\\n",
       "1120  731156023742988288                    NaN                  NaN   \n",
       "\n",
       "                      timestamp  \\\n",
       "1120  2016-05-13 16:15:54 +0000   \n",
       "\n",
       "                                                                                  source  \\\n",
       "1120  <a href=\"http://twitter.com/download/iphone\" rel=\"nofollow\">Twitter for iPhone</a>   \n",
       "\n",
       "                                                                                                     text  \\\n",
       "1120  Say hello to this unbelievably well behaved squad of doggos. 204/170 would try to pet all at onc...   \n",
       "\n",
       "      retweeted_status_id  retweeted_status_user_id  \\\n",
       "1120                  NaN                       NaN   \n",
       "\n",
       "     retweeted_status_timestamp  \\\n",
       "1120                        NaN   \n",
       "\n",
       "                                                        expanded_urls  \\\n",
       "1120  https://twitter.com/dog_rates/status/731156023742988288/photo/1   \n",
       "\n",
       "      rating_numerator  rating_denominator  name doggo floofer pupper puppo  \n",
       "1120               204                 170  this  None    None   None  None  "
      ]
     },
     "execution_count": 301,
     "metadata": {},
     "output_type": "execute_result"
    }
   ],
   "source": [
    "# 204 Seems wrong value, let's check the value\n",
    "pd.options.display.max_colwidth = 100\n",
    "twitter_archive.loc[twitter_archive['rating_numerator']== 204 ]"
   ]
  },
  {
   "cell_type": "markdown",
   "metadata": {},
   "source": [
    "    There are some wrong values in rating_numerator, which we will deal with in the cleaning part "
   ]
  },
  {
   "cell_type": "markdown",
   "metadata": {},
   "source": [
    "  ### Some values in the rating_denominator look wrong, let's check them "
   ]
  },
  {
   "cell_type": "code",
   "execution_count": 302,
   "metadata": {},
   "outputs": [
    {
     "data": {
      "text/plain": [
       "10     2333\n",
       "11        3\n",
       "50        3\n",
       "80        2\n",
       "20        2\n",
       "2         1\n",
       "16        1\n",
       "40        1\n",
       "70        1\n",
       "15        1\n",
       "90        1\n",
       "110       1\n",
       "120       1\n",
       "130       1\n",
       "150       1\n",
       "170       1\n",
       "7         1\n",
       "0         1\n",
       "Name: rating_denominator, dtype: int64"
      ]
     },
     "execution_count": 302,
     "metadata": {},
     "output_type": "execute_result"
    }
   ],
   "source": [
    "twitter_archive.rating_denominator.value_counts()"
   ]
  },
  {
   "cell_type": "code",
   "execution_count": 304,
   "metadata": {},
   "outputs": [
    {
     "data": {
      "text/plain": [
       "784     RT @dog_rates: After so many requests, this is Bretagne. She was the last surviving 9/11 search dog, and our second ever 14/10. RIP https:/…\n",
       "1068    After so many requests, this is Bretagne. She was the last surviving 9/11 search dog, and our second ever 14/10. RIP https://t.co/XAVDNDaVgQ\n",
       "1662     This is Darrel. He just robbed a 7/11 and is in a high speed police chase. Was just spotted by the helicopter 10/10 https://t.co/7EsP8LmSp5\n",
       "Name: text, dtype: object"
      ]
     },
     "execution_count": 304,
     "metadata": {},
     "output_type": "execute_result"
    }
   ],
   "source": [
    "pd.options.display.max_colwidth = 1000\n",
    "twitter_archive[twitter_archive['rating_denominator'] == 11 ] ['text']\n"
   ]
  },
  {
   "cell_type": "code",
   "execution_count": 305,
   "metadata": {},
   "outputs": [
    {
     "data": {
      "text/html": [
       "<div>\n",
       "<style scoped>\n",
       "    .dataframe tbody tr th:only-of-type {\n",
       "        vertical-align: middle;\n",
       "    }\n",
       "\n",
       "    .dataframe tbody tr th {\n",
       "        vertical-align: top;\n",
       "    }\n",
       "\n",
       "    .dataframe thead th {\n",
       "        text-align: right;\n",
       "    }\n",
       "</style>\n",
       "<table border=\"1\" class=\"dataframe\">\n",
       "  <thead>\n",
       "    <tr style=\"text-align: right;\">\n",
       "      <th></th>\n",
       "      <th>tweet_id</th>\n",
       "      <th>in_reply_to_status_id</th>\n",
       "      <th>in_reply_to_user_id</th>\n",
       "      <th>timestamp</th>\n",
       "      <th>source</th>\n",
       "      <th>text</th>\n",
       "      <th>retweeted_status_id</th>\n",
       "      <th>retweeted_status_user_id</th>\n",
       "      <th>retweeted_status_timestamp</th>\n",
       "      <th>expanded_urls</th>\n",
       "      <th>rating_numerator</th>\n",
       "      <th>rating_denominator</th>\n",
       "      <th>name</th>\n",
       "      <th>doggo</th>\n",
       "      <th>floofer</th>\n",
       "      <th>pupper</th>\n",
       "      <th>puppo</th>\n",
       "    </tr>\n",
       "  </thead>\n",
       "  <tbody>\n",
       "    <tr>\n",
       "      <th>2335</th>\n",
       "      <td>666287406224695296</td>\n",
       "      <td>NaN</td>\n",
       "      <td>NaN</td>\n",
       "      <td>2015-11-16 16:11:11 +0000</td>\n",
       "      <td>&lt;a href=\"http://twitter.com/download/iphone\" rel=\"nofollow\"&gt;Twitter for iPhone&lt;/a&gt;</td>\n",
       "      <td>This is an Albanian 3 1/2 legged  Episcopalian. Loves well-polished hardwood flooring. Penis on the collar. 9/10 https://t.co/d9NcXFKwLv</td>\n",
       "      <td>NaN</td>\n",
       "      <td>NaN</td>\n",
       "      <td>NaN</td>\n",
       "      <td>https://twitter.com/dog_rates/status/666287406224695296/photo/1</td>\n",
       "      <td>1</td>\n",
       "      <td>2</td>\n",
       "      <td>an</td>\n",
       "      <td>None</td>\n",
       "      <td>None</td>\n",
       "      <td>None</td>\n",
       "      <td>None</td>\n",
       "    </tr>\n",
       "  </tbody>\n",
       "</table>\n",
       "</div>"
      ],
      "text/plain": [
       "                tweet_id  in_reply_to_status_id  in_reply_to_user_id  \\\n",
       "2335  666287406224695296                    NaN                  NaN   \n",
       "\n",
       "                      timestamp  \\\n",
       "2335  2015-11-16 16:11:11 +0000   \n",
       "\n",
       "                                                                                  source  \\\n",
       "2335  <a href=\"http://twitter.com/download/iphone\" rel=\"nofollow\">Twitter for iPhone</a>   \n",
       "\n",
       "                                                                                                                                          text  \\\n",
       "2335  This is an Albanian 3 1/2 legged  Episcopalian. Loves well-polished hardwood flooring. Penis on the collar. 9/10 https://t.co/d9NcXFKwLv   \n",
       "\n",
       "      retweeted_status_id  retweeted_status_user_id  \\\n",
       "2335                  NaN                       NaN   \n",
       "\n",
       "     retweeted_status_timestamp  \\\n",
       "2335                        NaN   \n",
       "\n",
       "                                                        expanded_urls  \\\n",
       "2335  https://twitter.com/dog_rates/status/666287406224695296/photo/1   \n",
       "\n",
       "      rating_numerator  rating_denominator name doggo floofer pupper puppo  \n",
       "2335                 1                   2   an  None    None   None  None  "
      ]
     },
     "execution_count": 305,
     "metadata": {},
     "output_type": "execute_result"
    }
   ],
   "source": [
    "pd.options.display.max_colwidth = 1000\n",
    "twitter_archive[twitter_archive['rating_denominator'] == 2 ]"
   ]
  },
  {
   "cell_type": "code",
   "execution_count": 306,
   "metadata": {},
   "outputs": [
    {
     "data": {
      "text/html": [
       "<div>\n",
       "<style scoped>\n",
       "    .dataframe tbody tr th:only-of-type {\n",
       "        vertical-align: middle;\n",
       "    }\n",
       "\n",
       "    .dataframe tbody tr th {\n",
       "        vertical-align: top;\n",
       "    }\n",
       "\n",
       "    .dataframe thead th {\n",
       "        text-align: right;\n",
       "    }\n",
       "</style>\n",
       "<table border=\"1\" class=\"dataframe\">\n",
       "  <thead>\n",
       "    <tr style=\"text-align: right;\">\n",
       "      <th></th>\n",
       "      <th>tweet_id</th>\n",
       "      <th>in_reply_to_status_id</th>\n",
       "      <th>in_reply_to_user_id</th>\n",
       "      <th>timestamp</th>\n",
       "      <th>source</th>\n",
       "      <th>text</th>\n",
       "      <th>retweeted_status_id</th>\n",
       "      <th>retweeted_status_user_id</th>\n",
       "      <th>retweeted_status_timestamp</th>\n",
       "      <th>expanded_urls</th>\n",
       "      <th>rating_numerator</th>\n",
       "      <th>rating_denominator</th>\n",
       "      <th>name</th>\n",
       "      <th>doggo</th>\n",
       "      <th>floofer</th>\n",
       "      <th>pupper</th>\n",
       "      <th>puppo</th>\n",
       "    </tr>\n",
       "  </thead>\n",
       "  <tbody>\n",
       "    <tr>\n",
       "      <th>1663</th>\n",
       "      <td>682808988178739200</td>\n",
       "      <td>6.827884e+17</td>\n",
       "      <td>4.196984e+09</td>\n",
       "      <td>2016-01-01 06:22:03 +0000</td>\n",
       "      <td>&lt;a href=\"http://twitter.com/download/iphone\" rel=\"nofollow\"&gt;Twitter for iPhone&lt;/a&gt;</td>\n",
       "      <td>I'm aware that I could've said 20/16, but here at WeRateDogs we are very professional. An inconsistent rating scale is simply irresponsible</td>\n",
       "      <td>NaN</td>\n",
       "      <td>NaN</td>\n",
       "      <td>NaN</td>\n",
       "      <td>NaN</td>\n",
       "      <td>20</td>\n",
       "      <td>16</td>\n",
       "      <td>None</td>\n",
       "      <td>None</td>\n",
       "      <td>None</td>\n",
       "      <td>None</td>\n",
       "      <td>None</td>\n",
       "    </tr>\n",
       "  </tbody>\n",
       "</table>\n",
       "</div>"
      ],
      "text/plain": [
       "                tweet_id  in_reply_to_status_id  in_reply_to_user_id  \\\n",
       "1663  682808988178739200           6.827884e+17         4.196984e+09   \n",
       "\n",
       "                      timestamp  \\\n",
       "1663  2016-01-01 06:22:03 +0000   \n",
       "\n",
       "                                                                                  source  \\\n",
       "1663  <a href=\"http://twitter.com/download/iphone\" rel=\"nofollow\">Twitter for iPhone</a>   \n",
       "\n",
       "                                                                                                                                             text  \\\n",
       "1663  I'm aware that I could've said 20/16, but here at WeRateDogs we are very professional. An inconsistent rating scale is simply irresponsible   \n",
       "\n",
       "      retweeted_status_id  retweeted_status_user_id  \\\n",
       "1663                  NaN                       NaN   \n",
       "\n",
       "     retweeted_status_timestamp expanded_urls  rating_numerator  \\\n",
       "1663                        NaN           NaN                20   \n",
       "\n",
       "      rating_denominator  name doggo floofer pupper puppo  \n",
       "1663                  16  None  None    None   None  None  "
      ]
     },
     "execution_count": 306,
     "metadata": {},
     "output_type": "execute_result"
    }
   ],
   "source": [
    "pd.options.display.max_colwidth = 1000\n",
    "twitter_archive[twitter_archive['rating_denominator'] == 16 ]"
   ]
  },
  {
   "cell_type": "code",
   "execution_count": 307,
   "metadata": {},
   "outputs": [
    {
     "data": {
      "text/html": [
       "<div>\n",
       "<style scoped>\n",
       "    .dataframe tbody tr th:only-of-type {\n",
       "        vertical-align: middle;\n",
       "    }\n",
       "\n",
       "    .dataframe tbody tr th {\n",
       "        vertical-align: top;\n",
       "    }\n",
       "\n",
       "    .dataframe thead th {\n",
       "        text-align: right;\n",
       "    }\n",
       "</style>\n",
       "<table border=\"1\" class=\"dataframe\">\n",
       "  <thead>\n",
       "    <tr style=\"text-align: right;\">\n",
       "      <th></th>\n",
       "      <th>tweet_id</th>\n",
       "      <th>in_reply_to_status_id</th>\n",
       "      <th>in_reply_to_user_id</th>\n",
       "      <th>timestamp</th>\n",
       "      <th>source</th>\n",
       "      <th>text</th>\n",
       "      <th>retweeted_status_id</th>\n",
       "      <th>retweeted_status_user_id</th>\n",
       "      <th>retweeted_status_timestamp</th>\n",
       "      <th>expanded_urls</th>\n",
       "      <th>rating_numerator</th>\n",
       "      <th>rating_denominator</th>\n",
       "      <th>name</th>\n",
       "      <th>doggo</th>\n",
       "      <th>floofer</th>\n",
       "      <th>pupper</th>\n",
       "      <th>puppo</th>\n",
       "    </tr>\n",
       "  </thead>\n",
       "  <tbody>\n",
       "    <tr>\n",
       "      <th>342</th>\n",
       "      <td>832088576586297345</td>\n",
       "      <td>8.320875e+17</td>\n",
       "      <td>30582082.0</td>\n",
       "      <td>2017-02-16 04:45:50 +0000</td>\n",
       "      <td>&lt;a href=\"http://twitter.com/download/iphone\" rel=\"nofollow\"&gt;Twitter for iPhone&lt;/a&gt;</td>\n",
       "      <td>@docmisterio account started on 11/15/15</td>\n",
       "      <td>NaN</td>\n",
       "      <td>NaN</td>\n",
       "      <td>NaN</td>\n",
       "      <td>NaN</td>\n",
       "      <td>11</td>\n",
       "      <td>15</td>\n",
       "      <td>None</td>\n",
       "      <td>None</td>\n",
       "      <td>None</td>\n",
       "      <td>None</td>\n",
       "      <td>None</td>\n",
       "    </tr>\n",
       "  </tbody>\n",
       "</table>\n",
       "</div>"
      ],
      "text/plain": [
       "               tweet_id  in_reply_to_status_id  in_reply_to_user_id  \\\n",
       "342  832088576586297345           8.320875e+17           30582082.0   \n",
       "\n",
       "                     timestamp  \\\n",
       "342  2017-02-16 04:45:50 +0000   \n",
       "\n",
       "                                                                                 source  \\\n",
       "342  <a href=\"http://twitter.com/download/iphone\" rel=\"nofollow\">Twitter for iPhone</a>   \n",
       "\n",
       "                                         text  retweeted_status_id  \\\n",
       "342  @docmisterio account started on 11/15/15                  NaN   \n",
       "\n",
       "     retweeted_status_user_id retweeted_status_timestamp expanded_urls  \\\n",
       "342                       NaN                        NaN           NaN   \n",
       "\n",
       "     rating_numerator  rating_denominator  name doggo floofer pupper puppo  \n",
       "342                11                  15  None  None    None   None  None  "
      ]
     },
     "execution_count": 307,
     "metadata": {},
     "output_type": "execute_result"
    }
   ],
   "source": [
    "pd.options.display.max_colwidth = 1000\n",
    "twitter_archive[twitter_archive['rating_denominator'] == 15 ]"
   ]
  },
  {
   "cell_type": "code",
   "execution_count": 308,
   "metadata": {},
   "outputs": [
    {
     "data": {
      "text/html": [
       "<div>\n",
       "<style scoped>\n",
       "    .dataframe tbody tr th:only-of-type {\n",
       "        vertical-align: middle;\n",
       "    }\n",
       "\n",
       "    .dataframe tbody tr th {\n",
       "        vertical-align: top;\n",
       "    }\n",
       "\n",
       "    .dataframe thead th {\n",
       "        text-align: right;\n",
       "    }\n",
       "</style>\n",
       "<table border=\"1\" class=\"dataframe\">\n",
       "  <thead>\n",
       "    <tr style=\"text-align: right;\">\n",
       "      <th></th>\n",
       "      <th>tweet_id</th>\n",
       "      <th>in_reply_to_status_id</th>\n",
       "      <th>in_reply_to_user_id</th>\n",
       "      <th>timestamp</th>\n",
       "      <th>source</th>\n",
       "      <th>text</th>\n",
       "      <th>retweeted_status_id</th>\n",
       "      <th>retweeted_status_user_id</th>\n",
       "      <th>retweeted_status_timestamp</th>\n",
       "      <th>expanded_urls</th>\n",
       "      <th>rating_numerator</th>\n",
       "      <th>rating_denominator</th>\n",
       "      <th>name</th>\n",
       "      <th>doggo</th>\n",
       "      <th>floofer</th>\n",
       "      <th>pupper</th>\n",
       "      <th>puppo</th>\n",
       "    </tr>\n",
       "  </thead>\n",
       "  <tbody>\n",
       "    <tr>\n",
       "      <th>516</th>\n",
       "      <td>810984652412424192</td>\n",
       "      <td>NaN</td>\n",
       "      <td>NaN</td>\n",
       "      <td>2016-12-19 23:06:23 +0000</td>\n",
       "      <td>&lt;a href=\"http://twitter.com/download/iphone\" rel=\"nofollow\"&gt;Twitter for iPhone&lt;/a&gt;</td>\n",
       "      <td>Meet Sam. She smiles 24/7 &amp;amp; secretly aspires to be a reindeer. \\nKeep Sam smiling by clicking and sharing this link:\\nhttps://t.co/98tB8y7y7t https://t.co/LouL5vdvxx</td>\n",
       "      <td>NaN</td>\n",
       "      <td>NaN</td>\n",
       "      <td>NaN</td>\n",
       "      <td>https://www.gofundme.com/sams-smile,https://twitter.com/dog_rates/status/810984652412424192/photo/1</td>\n",
       "      <td>24</td>\n",
       "      <td>7</td>\n",
       "      <td>Sam</td>\n",
       "      <td>None</td>\n",
       "      <td>None</td>\n",
       "      <td>None</td>\n",
       "      <td>None</td>\n",
       "    </tr>\n",
       "  </tbody>\n",
       "</table>\n",
       "</div>"
      ],
      "text/plain": [
       "               tweet_id  in_reply_to_status_id  in_reply_to_user_id  \\\n",
       "516  810984652412424192                    NaN                  NaN   \n",
       "\n",
       "                     timestamp  \\\n",
       "516  2016-12-19 23:06:23 +0000   \n",
       "\n",
       "                                                                                 source  \\\n",
       "516  <a href=\"http://twitter.com/download/iphone\" rel=\"nofollow\">Twitter for iPhone</a>   \n",
       "\n",
       "                                                                                                                                                                          text  \\\n",
       "516  Meet Sam. She smiles 24/7 &amp; secretly aspires to be a reindeer. \\nKeep Sam smiling by clicking and sharing this link:\\nhttps://t.co/98tB8y7y7t https://t.co/LouL5vdvxx   \n",
       "\n",
       "     retweeted_status_id  retweeted_status_user_id retweeted_status_timestamp  \\\n",
       "516                  NaN                       NaN                        NaN   \n",
       "\n",
       "                                                                                           expanded_urls  \\\n",
       "516  https://www.gofundme.com/sams-smile,https://twitter.com/dog_rates/status/810984652412424192/photo/1   \n",
       "\n",
       "     rating_numerator  rating_denominator name doggo floofer pupper puppo  \n",
       "516                24                   7  Sam  None    None   None  None  "
      ]
     },
     "execution_count": 308,
     "metadata": {},
     "output_type": "execute_result"
    }
   ],
   "source": [
    "pd.options.display.max_colwidth = 1000\n",
    "twitter_archive[twitter_archive['rating_denominator'] == 7 ]"
   ]
  },
  {
   "cell_type": "code",
   "execution_count": 309,
   "metadata": {},
   "outputs": [
    {
     "data": {
      "text/html": [
       "<div>\n",
       "<style scoped>\n",
       "    .dataframe tbody tr th:only-of-type {\n",
       "        vertical-align: middle;\n",
       "    }\n",
       "\n",
       "    .dataframe tbody tr th {\n",
       "        vertical-align: top;\n",
       "    }\n",
       "\n",
       "    .dataframe thead th {\n",
       "        text-align: right;\n",
       "    }\n",
       "</style>\n",
       "<table border=\"1\" class=\"dataframe\">\n",
       "  <thead>\n",
       "    <tr style=\"text-align: right;\">\n",
       "      <th></th>\n",
       "      <th>tweet_id</th>\n",
       "      <th>in_reply_to_status_id</th>\n",
       "      <th>in_reply_to_user_id</th>\n",
       "      <th>timestamp</th>\n",
       "      <th>source</th>\n",
       "      <th>text</th>\n",
       "      <th>retweeted_status_id</th>\n",
       "      <th>retweeted_status_user_id</th>\n",
       "      <th>retweeted_status_timestamp</th>\n",
       "      <th>expanded_urls</th>\n",
       "      <th>rating_numerator</th>\n",
       "      <th>rating_denominator</th>\n",
       "      <th>name</th>\n",
       "      <th>doggo</th>\n",
       "      <th>floofer</th>\n",
       "      <th>pupper</th>\n",
       "      <th>puppo</th>\n",
       "    </tr>\n",
       "  </thead>\n",
       "  <tbody>\n",
       "    <tr>\n",
       "      <th>313</th>\n",
       "      <td>835246439529840640</td>\n",
       "      <td>8.352460e+17</td>\n",
       "      <td>26259576.0</td>\n",
       "      <td>2017-02-24 21:54:03 +0000</td>\n",
       "      <td>&lt;a href=\"http://twitter.com/download/iphone\" rel=\"nofollow\"&gt;Twitter for iPhone&lt;/a&gt;</td>\n",
       "      <td>@jonnysun @Lin_Manuel ok jomny I know you're excited but 960/00 isn't a valid rating, 13/10 is tho</td>\n",
       "      <td>NaN</td>\n",
       "      <td>NaN</td>\n",
       "      <td>NaN</td>\n",
       "      <td>NaN</td>\n",
       "      <td>960</td>\n",
       "      <td>0</td>\n",
       "      <td>None</td>\n",
       "      <td>None</td>\n",
       "      <td>None</td>\n",
       "      <td>None</td>\n",
       "      <td>None</td>\n",
       "    </tr>\n",
       "  </tbody>\n",
       "</table>\n",
       "</div>"
      ],
      "text/plain": [
       "               tweet_id  in_reply_to_status_id  in_reply_to_user_id  \\\n",
       "313  835246439529840640           8.352460e+17           26259576.0   \n",
       "\n",
       "                     timestamp  \\\n",
       "313  2017-02-24 21:54:03 +0000   \n",
       "\n",
       "                                                                                 source  \\\n",
       "313  <a href=\"http://twitter.com/download/iphone\" rel=\"nofollow\">Twitter for iPhone</a>   \n",
       "\n",
       "                                                                                                   text  \\\n",
       "313  @jonnysun @Lin_Manuel ok jomny I know you're excited but 960/00 isn't a valid rating, 13/10 is tho   \n",
       "\n",
       "     retweeted_status_id  retweeted_status_user_id retweeted_status_timestamp  \\\n",
       "313                  NaN                       NaN                        NaN   \n",
       "\n",
       "    expanded_urls  rating_numerator  rating_denominator  name doggo floofer  \\\n",
       "313           NaN               960                   0  None  None    None   \n",
       "\n",
       "    pupper puppo  \n",
       "313   None  None  "
      ]
     },
     "execution_count": 309,
     "metadata": {},
     "output_type": "execute_result"
    }
   ],
   "source": [
    "pd.options.display.max_colwidth = 1000\n",
    "twitter_archive[twitter_archive['rating_denominator'] == 0 ]"
   ]
  },
  {
   "cell_type": "markdown",
   "metadata": {},
   "source": [
    "    There are some wrong values rating_denominator, which we will deal with in the cleaning part "
   ]
  },
  {
   "cell_type": "code",
   "execution_count": 310,
   "metadata": {},
   "outputs": [
    {
     "data": {
      "text/plain": [
       "0"
      ]
     },
     "execution_count": 310,
     "metadata": {},
     "output_type": "execute_result"
    }
   ],
   "source": [
    "twitter_archive['tweet_id'].duplicated().sum()   "
   ]
  },
  {
   "cell_type": "code",
   "execution_count": 312,
   "metadata": {},
   "outputs": [
    {
     "data": {
      "text/plain": [
       "59"
      ]
     },
     "execution_count": 312,
     "metadata": {},
     "output_type": "execute_result"
    }
   ],
   "source": [
    "twitter_archive['expanded_urls'].isnull().sum()   "
   ]
  },
  {
   "cell_type": "code",
   "execution_count": 313,
   "metadata": {},
   "outputs": [],
   "source": [
    "#url=\"https://d17h27t6h515a5.cloudfront.net/topher/2017/August/599fd2ad_image-predictions/image-predictions.tsv\"\n",
    "#response = requests.get(url)\n",
    "#with open('image_predictions.tsv', 'wb') as file:\n",
    " #   file.write(response.content)\n",
    "#df_image_predictions = pd.read_csv('image_predictions.tsv', sep='\\t')\n",
    "#df_image_predictions.head()    "
   ]
  },
  {
   "cell_type": "code",
   "execution_count": 314,
   "metadata": {},
   "outputs": [
    {
     "data": {
      "text/plain": [
       "0"
      ]
     },
     "execution_count": 314,
     "metadata": {},
     "output_type": "execute_result"
    }
   ],
   "source": [
    "df_image_predictions.duplicated().sum()   "
   ]
  },
  {
   "cell_type": "code",
   "execution_count": 315,
   "metadata": {},
   "outputs": [
    {
     "data": {
      "text/plain": [
       "1    1780\n",
       "2     198\n",
       "3      66\n",
       "4      31\n",
       "Name: img_num, dtype: int64"
      ]
     },
     "execution_count": 315,
     "metadata": {},
     "output_type": "execute_result"
    }
   ],
   "source": [
    "df_image_predictions.img_num.value_counts()"
   ]
  },
  {
   "cell_type": "code",
   "execution_count": 316,
   "metadata": {},
   "outputs": [
    {
     "data": {
      "text/plain": [
       "0"
      ]
     },
     "execution_count": 316,
     "metadata": {},
     "output_type": "execute_result"
    }
   ],
   "source": [
    "df_image_predictions.tweet_id.duplicated().sum()"
   ]
  },
  {
   "cell_type": "code",
   "execution_count": 317,
   "metadata": {},
   "outputs": [],
   "source": [
    "##(df_image_predictions.loc[df_image_predictions['tweet_id']== 682962037429899265])\n"
   ]
  },
  {
   "cell_type": "code",
   "execution_count": 318,
   "metadata": {},
   "outputs": [
    {
     "data": {
      "text/html": [
       "<div>\n",
       "<style scoped>\n",
       "    .dataframe tbody tr th:only-of-type {\n",
       "        vertical-align: middle;\n",
       "    }\n",
       "\n",
       "    .dataframe tbody tr th {\n",
       "        vertical-align: top;\n",
       "    }\n",
       "\n",
       "    .dataframe thead th {\n",
       "        text-align: right;\n",
       "    }\n",
       "</style>\n",
       "<table border=\"1\" class=\"dataframe\">\n",
       "  <thead>\n",
       "    <tr style=\"text-align: right;\">\n",
       "      <th></th>\n",
       "      <th>tweet_id</th>\n",
       "      <th>jpg_url</th>\n",
       "      <th>img_num</th>\n",
       "      <th>p1</th>\n",
       "      <th>p1_conf</th>\n",
       "      <th>p1_dog</th>\n",
       "      <th>p2</th>\n",
       "      <th>p2_conf</th>\n",
       "      <th>p2_dog</th>\n",
       "      <th>p3</th>\n",
       "      <th>p3_conf</th>\n",
       "      <th>p3_dog</th>\n",
       "    </tr>\n",
       "  </thead>\n",
       "  <tbody>\n",
       "    <tr>\n",
       "      <th>2070</th>\n",
       "      <td>891327558926688256</td>\n",
       "      <td>https://pbs.twimg.com/media/DF6hr6BUMAAzZgT.jpg</td>\n",
       "      <td>2</td>\n",
       "      <td>basset</td>\n",
       "      <td>0.555712</td>\n",
       "      <td>True</td>\n",
       "      <td>English_springer</td>\n",
       "      <td>0.225770</td>\n",
       "      <td>True</td>\n",
       "      <td>German_short-haired_pointer</td>\n",
       "      <td>0.175219</td>\n",
       "      <td>True</td>\n",
       "    </tr>\n",
       "    <tr>\n",
       "      <th>2071</th>\n",
       "      <td>891689557279858688</td>\n",
       "      <td>https://pbs.twimg.com/media/DF_q7IAWsAEuuN8.jpg</td>\n",
       "      <td>1</td>\n",
       "      <td>paper_towel</td>\n",
       "      <td>0.170278</td>\n",
       "      <td>False</td>\n",
       "      <td>Labrador_retriever</td>\n",
       "      <td>0.168086</td>\n",
       "      <td>True</td>\n",
       "      <td>spatula</td>\n",
       "      <td>0.040836</td>\n",
       "      <td>False</td>\n",
       "    </tr>\n",
       "    <tr>\n",
       "      <th>2072</th>\n",
       "      <td>891815181378084864</td>\n",
       "      <td>https://pbs.twimg.com/media/DGBdLU1WsAANxJ9.jpg</td>\n",
       "      <td>1</td>\n",
       "      <td>Chihuahua</td>\n",
       "      <td>0.716012</td>\n",
       "      <td>True</td>\n",
       "      <td>malamute</td>\n",
       "      <td>0.078253</td>\n",
       "      <td>True</td>\n",
       "      <td>kelpie</td>\n",
       "      <td>0.031379</td>\n",
       "      <td>True</td>\n",
       "    </tr>\n",
       "    <tr>\n",
       "      <th>2073</th>\n",
       "      <td>892177421306343426</td>\n",
       "      <td>https://pbs.twimg.com/media/DGGmoV4XsAAUL6n.jpg</td>\n",
       "      <td>1</td>\n",
       "      <td>Chihuahua</td>\n",
       "      <td>0.323581</td>\n",
       "      <td>True</td>\n",
       "      <td>Pekinese</td>\n",
       "      <td>0.090647</td>\n",
       "      <td>True</td>\n",
       "      <td>papillon</td>\n",
       "      <td>0.068957</td>\n",
       "      <td>True</td>\n",
       "    </tr>\n",
       "    <tr>\n",
       "      <th>2074</th>\n",
       "      <td>892420643555336193</td>\n",
       "      <td>https://pbs.twimg.com/media/DGKD1-bXoAAIAUK.jpg</td>\n",
       "      <td>1</td>\n",
       "      <td>orange</td>\n",
       "      <td>0.097049</td>\n",
       "      <td>False</td>\n",
       "      <td>bagel</td>\n",
       "      <td>0.085851</td>\n",
       "      <td>False</td>\n",
       "      <td>banana</td>\n",
       "      <td>0.076110</td>\n",
       "      <td>False</td>\n",
       "    </tr>\n",
       "  </tbody>\n",
       "</table>\n",
       "</div>"
      ],
      "text/plain": [
       "                tweet_id                                          jpg_url  \\\n",
       "2070  891327558926688256  https://pbs.twimg.com/media/DF6hr6BUMAAzZgT.jpg   \n",
       "2071  891689557279858688  https://pbs.twimg.com/media/DF_q7IAWsAEuuN8.jpg   \n",
       "2072  891815181378084864  https://pbs.twimg.com/media/DGBdLU1WsAANxJ9.jpg   \n",
       "2073  892177421306343426  https://pbs.twimg.com/media/DGGmoV4XsAAUL6n.jpg   \n",
       "2074  892420643555336193  https://pbs.twimg.com/media/DGKD1-bXoAAIAUK.jpg   \n",
       "\n",
       "      img_num           p1   p1_conf  p1_dog                  p2   p2_conf  \\\n",
       "2070        2       basset  0.555712    True    English_springer  0.225770   \n",
       "2071        1  paper_towel  0.170278   False  Labrador_retriever  0.168086   \n",
       "2072        1    Chihuahua  0.716012    True            malamute  0.078253   \n",
       "2073        1    Chihuahua  0.323581    True            Pekinese  0.090647   \n",
       "2074        1       orange  0.097049   False               bagel  0.085851   \n",
       "\n",
       "      p2_dog                           p3   p3_conf  p3_dog  \n",
       "2070    True  German_short-haired_pointer  0.175219    True  \n",
       "2071    True                      spatula  0.040836   False  \n",
       "2072    True                       kelpie  0.031379    True  \n",
       "2073    True                     papillon  0.068957    True  \n",
       "2074   False                       banana  0.076110   False  "
      ]
     },
     "execution_count": 318,
     "metadata": {},
     "output_type": "execute_result"
    }
   ],
   "source": [
    "df_image_predictions.tail()"
   ]
  },
  {
   "cell_type": "code",
   "execution_count": 319,
   "metadata": {},
   "outputs": [
    {
     "name": "stdout",
     "output_type": "stream",
     "text": [
      "<class 'pandas.core.frame.DataFrame'>\n",
      "RangeIndex: 2075 entries, 0 to 2074\n",
      "Data columns (total 12 columns):\n",
      "tweet_id    2075 non-null int64\n",
      "jpg_url     2075 non-null object\n",
      "img_num     2075 non-null int64\n",
      "p1          2075 non-null object\n",
      "p1_conf     2075 non-null float64\n",
      "p1_dog      2075 non-null bool\n",
      "p2          2075 non-null object\n",
      "p2_conf     2075 non-null float64\n",
      "p2_dog      2075 non-null bool\n",
      "p3          2075 non-null object\n",
      "p3_conf     2075 non-null float64\n",
      "p3_dog      2075 non-null bool\n",
      "dtypes: bool(3), float64(3), int64(2), object(4)\n",
      "memory usage: 152.1+ KB\n"
     ]
    }
   ],
   "source": [
    "df_image_predictions.info()"
   ]
  },
  {
   "cell_type": "code",
   "execution_count": 322,
   "metadata": {},
   "outputs": [
    {
     "data": {
      "text/plain": [
       "0"
      ]
     },
     "execution_count": 322,
     "metadata": {},
     "output_type": "execute_result"
    }
   ],
   "source": [
    "df_image_predictions.tweet_id.duplicated().sum()"
   ]
  },
  {
   "cell_type": "code",
   "execution_count": 323,
   "metadata": {},
   "outputs": [
    {
     "data": {
      "text/html": [
       "<div>\n",
       "<style scoped>\n",
       "    .dataframe tbody tr th:only-of-type {\n",
       "        vertical-align: middle;\n",
       "    }\n",
       "\n",
       "    .dataframe tbody tr th {\n",
       "        vertical-align: top;\n",
       "    }\n",
       "\n",
       "    .dataframe thead th {\n",
       "        text-align: right;\n",
       "    }\n",
       "</style>\n",
       "<table border=\"1\" class=\"dataframe\">\n",
       "  <thead>\n",
       "    <tr style=\"text-align: right;\">\n",
       "      <th></th>\n",
       "      <th>tweet_id</th>\n",
       "      <th>jpg_url</th>\n",
       "      <th>img_num</th>\n",
       "      <th>p1</th>\n",
       "      <th>p1_conf</th>\n",
       "      <th>p1_dog</th>\n",
       "      <th>p2</th>\n",
       "      <th>p2_conf</th>\n",
       "      <th>p2_dog</th>\n",
       "      <th>p3</th>\n",
       "      <th>p3_conf</th>\n",
       "      <th>p3_dog</th>\n",
       "    </tr>\n",
       "  </thead>\n",
       "  <tbody>\n",
       "    <tr>\n",
       "      <th>1095</th>\n",
       "      <td>720043174954147842</td>\n",
       "      <td>https://pbs.twimg.com/media/Cf4bcm8XEAAX4xV.jpg</td>\n",
       "      <td>1</td>\n",
       "      <td>Samoyed</td>\n",
       "      <td>0.954517</td>\n",
       "      <td>True</td>\n",
       "      <td>Eskimo_dog</td>\n",
       "      <td>0.029130</td>\n",
       "      <td>True</td>\n",
       "      <td>white_wolf</td>\n",
       "      <td>0.004462</td>\n",
       "      <td>False</td>\n",
       "    </tr>\n",
       "    <tr>\n",
       "      <th>932</th>\n",
       "      <td>703268521220972544</td>\n",
       "      <td>https://pbs.twimg.com/media/CcKC-5LW4AAK-nb.jpg</td>\n",
       "      <td>1</td>\n",
       "      <td>wool</td>\n",
       "      <td>0.525434</td>\n",
       "      <td>False</td>\n",
       "      <td>fur_coat</td>\n",
       "      <td>0.236391</td>\n",
       "      <td>False</td>\n",
       "      <td>kuvasz</td>\n",
       "      <td>0.038243</td>\n",
       "      <td>True</td>\n",
       "    </tr>\n",
       "    <tr>\n",
       "      <th>1203</th>\n",
       "      <td>741438259667034112</td>\n",
       "      <td>https://pbs.twimg.com/media/CkoeKTPWYAAcWmo.jpg</td>\n",
       "      <td>1</td>\n",
       "      <td>Chesapeake_Bay_retriever</td>\n",
       "      <td>0.292675</td>\n",
       "      <td>True</td>\n",
       "      <td>redbone</td>\n",
       "      <td>0.197858</td>\n",
       "      <td>True</td>\n",
       "      <td>vizsla</td>\n",
       "      <td>0.150312</td>\n",
       "      <td>True</td>\n",
       "    </tr>\n",
       "    <tr>\n",
       "      <th>847</th>\n",
       "      <td>695409464418041856</td>\n",
       "      <td>https://pbs.twimg.com/media/CaaXN5LUYAEzAh-.jpg</td>\n",
       "      <td>1</td>\n",
       "      <td>pug</td>\n",
       "      <td>0.997445</td>\n",
       "      <td>True</td>\n",
       "      <td>bull_mastiff</td>\n",
       "      <td>0.001749</td>\n",
       "      <td>True</td>\n",
       "      <td>Pekinese</td>\n",
       "      <td>0.000304</td>\n",
       "      <td>True</td>\n",
       "    </tr>\n",
       "    <tr>\n",
       "      <th>222</th>\n",
       "      <td>670290420111441920</td>\n",
       "      <td>https://pbs.twimg.com/media/CU1Zgk7UcAAjw2t.jpg</td>\n",
       "      <td>1</td>\n",
       "      <td>Chihuahua</td>\n",
       "      <td>0.368876</td>\n",
       "      <td>True</td>\n",
       "      <td>Pomeranian</td>\n",
       "      <td>0.282102</td>\n",
       "      <td>True</td>\n",
       "      <td>papillon</td>\n",
       "      <td>0.178795</td>\n",
       "      <td>True</td>\n",
       "    </tr>\n",
       "    <tr>\n",
       "      <th>1245</th>\n",
       "      <td>747512671126323200</td>\n",
       "      <td>https://pbs.twimg.com/media/Cl-yykwWkAAqUCE.jpg</td>\n",
       "      <td>1</td>\n",
       "      <td>Cardigan</td>\n",
       "      <td>0.111493</td>\n",
       "      <td>True</td>\n",
       "      <td>malinois</td>\n",
       "      <td>0.095089</td>\n",
       "      <td>True</td>\n",
       "      <td>German_shepherd</td>\n",
       "      <td>0.080146</td>\n",
       "      <td>True</td>\n",
       "    </tr>\n",
       "    <tr>\n",
       "      <th>1858</th>\n",
       "      <td>841833993020538882</td>\n",
       "      <td>https://pbs.twimg.com/ext_tw_video_thumb/817423809049493505/pu/img/5OFW0yueFu9oTUiQ.jpg</td>\n",
       "      <td>1</td>\n",
       "      <td>ice_bear</td>\n",
       "      <td>0.336200</td>\n",
       "      <td>False</td>\n",
       "      <td>Samoyed</td>\n",
       "      <td>0.201358</td>\n",
       "      <td>True</td>\n",
       "      <td>Eskimo_dog</td>\n",
       "      <td>0.186789</td>\n",
       "      <td>True</td>\n",
       "    </tr>\n",
       "    <tr>\n",
       "      <th>1888</th>\n",
       "      <td>848212111729840128</td>\n",
       "      <td>https://pbs.twimg.com/media/C8V0aI5V0AAgO9m.jpg</td>\n",
       "      <td>1</td>\n",
       "      <td>Bedlington_terrier</td>\n",
       "      <td>0.333486</td>\n",
       "      <td>True</td>\n",
       "      <td>Ibizan_hound</td>\n",
       "      <td>0.245797</td>\n",
       "      <td>True</td>\n",
       "      <td>wallaby</td>\n",
       "      <td>0.131647</td>\n",
       "      <td>False</td>\n",
       "    </tr>\n",
       "    <tr>\n",
       "      <th>630</th>\n",
       "      <td>680934982542561280</td>\n",
       "      <td>https://pbs.twimg.com/media/CXMqwIQWcAA2iE0.jpg</td>\n",
       "      <td>1</td>\n",
       "      <td>Labrador_retriever</td>\n",
       "      <td>0.784398</td>\n",
       "      <td>True</td>\n",
       "      <td>Siberian_husky</td>\n",
       "      <td>0.055925</td>\n",
       "      <td>True</td>\n",
       "      <td>beagle</td>\n",
       "      <td>0.022750</td>\n",
       "      <td>True</td>\n",
       "    </tr>\n",
       "    <tr>\n",
       "      <th>757</th>\n",
       "      <td>688547210804498433</td>\n",
       "      <td>https://pbs.twimg.com/media/CY42CFWW8AACOwt.jpg</td>\n",
       "      <td>1</td>\n",
       "      <td>papillon</td>\n",
       "      <td>0.531279</td>\n",
       "      <td>True</td>\n",
       "      <td>Blenheim_spaniel</td>\n",
       "      <td>0.214197</td>\n",
       "      <td>True</td>\n",
       "      <td>Border_collie</td>\n",
       "      <td>0.053840</td>\n",
       "      <td>True</td>\n",
       "    </tr>\n",
       "  </tbody>\n",
       "</table>\n",
       "</div>"
      ],
      "text/plain": [
       "                tweet_id  \\\n",
       "1095  720043174954147842   \n",
       "932   703268521220972544   \n",
       "1203  741438259667034112   \n",
       "847   695409464418041856   \n",
       "222   670290420111441920   \n",
       "1245  747512671126323200   \n",
       "1858  841833993020538882   \n",
       "1888  848212111729840128   \n",
       "630   680934982542561280   \n",
       "757   688547210804498433   \n",
       "\n",
       "                                                                                      jpg_url  \\\n",
       "1095                                          https://pbs.twimg.com/media/Cf4bcm8XEAAX4xV.jpg   \n",
       "932                                           https://pbs.twimg.com/media/CcKC-5LW4AAK-nb.jpg   \n",
       "1203                                          https://pbs.twimg.com/media/CkoeKTPWYAAcWmo.jpg   \n",
       "847                                           https://pbs.twimg.com/media/CaaXN5LUYAEzAh-.jpg   \n",
       "222                                           https://pbs.twimg.com/media/CU1Zgk7UcAAjw2t.jpg   \n",
       "1245                                          https://pbs.twimg.com/media/Cl-yykwWkAAqUCE.jpg   \n",
       "1858  https://pbs.twimg.com/ext_tw_video_thumb/817423809049493505/pu/img/5OFW0yueFu9oTUiQ.jpg   \n",
       "1888                                          https://pbs.twimg.com/media/C8V0aI5V0AAgO9m.jpg   \n",
       "630                                           https://pbs.twimg.com/media/CXMqwIQWcAA2iE0.jpg   \n",
       "757                                           https://pbs.twimg.com/media/CY42CFWW8AACOwt.jpg   \n",
       "\n",
       "      img_num                        p1   p1_conf  p1_dog                p2  \\\n",
       "1095        1                   Samoyed  0.954517    True        Eskimo_dog   \n",
       "932         1                      wool  0.525434   False          fur_coat   \n",
       "1203        1  Chesapeake_Bay_retriever  0.292675    True           redbone   \n",
       "847         1                       pug  0.997445    True      bull_mastiff   \n",
       "222         1                 Chihuahua  0.368876    True        Pomeranian   \n",
       "1245        1                  Cardigan  0.111493    True          malinois   \n",
       "1858        1                  ice_bear  0.336200   False           Samoyed   \n",
       "1888        1        Bedlington_terrier  0.333486    True      Ibizan_hound   \n",
       "630         1        Labrador_retriever  0.784398    True    Siberian_husky   \n",
       "757         1                  papillon  0.531279    True  Blenheim_spaniel   \n",
       "\n",
       "       p2_conf  p2_dog               p3   p3_conf  p3_dog  \n",
       "1095  0.029130    True       white_wolf  0.004462   False  \n",
       "932   0.236391   False           kuvasz  0.038243    True  \n",
       "1203  0.197858    True           vizsla  0.150312    True  \n",
       "847   0.001749    True         Pekinese  0.000304    True  \n",
       "222   0.282102    True         papillon  0.178795    True  \n",
       "1245  0.095089    True  German_shepherd  0.080146    True  \n",
       "1858  0.201358    True       Eskimo_dog  0.186789    True  \n",
       "1888  0.245797    True          wallaby  0.131647   False  \n",
       "630   0.055925    True           beagle  0.022750    True  \n",
       "757   0.214197    True    Border_collie  0.053840    True  "
      ]
     },
     "execution_count": 323,
     "metadata": {},
     "output_type": "execute_result"
    }
   ],
   "source": [
    "df_image_predictions.sample(10)"
   ]
  },
  {
   "cell_type": "code",
   "execution_count": 324,
   "metadata": {},
   "outputs": [
    {
     "data": {
      "text/plain": [
       "1034                        dingo\n",
       "355                Great_Pyrenees\n",
       "889                     mousetrap\n",
       "1793               cocker_spaniel\n",
       "1152    Staffordshire_bullterrier\n",
       "331                   tennis_ball\n",
       "495              golden_retriever\n",
       "939                         boxer\n",
       "986                       bathtub\n",
       "367                     Chihuahua\n",
       "Name: p1, dtype: object"
      ]
     },
     "execution_count": 324,
     "metadata": {},
     "output_type": "execute_result"
    }
   ],
   "source": [
    "df_image_predictions.p1.sample(10)"
   ]
  },
  {
   "cell_type": "code",
   "execution_count": 325,
   "metadata": {},
   "outputs": [
    {
     "data": {
      "text/plain": [
       "1173                   lakeside\n",
       "1313               cash_machine\n",
       "245                 beach_wagon\n",
       "1665                   web_site\n",
       "508                      sandal\n",
       "1099    black-and-tan_coonhound\n",
       "7               Tibetan_mastiff\n",
       "39             English_springer\n",
       "698                       llama\n",
       "1435          Yorkshire_terrier\n",
       "Name: p2, dtype: object"
      ]
     },
     "execution_count": 325,
     "metadata": {},
     "output_type": "execute_result"
    }
   ],
   "source": [
    "df_image_predictions.p2.sample(10)"
   ]
  },
  {
   "cell_type": "code",
   "execution_count": 326,
   "metadata": {},
   "outputs": [
    {
     "data": {
      "text/plain": [
       "1712                   malamute\n",
       "215                      bolete\n",
       "287            golden_retriever\n",
       "1515                       chow\n",
       "463     black-and-tan_coonhound\n",
       "1605                paddlewheel\n",
       "2068                  ice_lolly\n",
       "159                    Cardigan\n",
       "270                        menu\n",
       "1102                        tub\n",
       "Name: p3, dtype: object"
      ]
     },
     "execution_count": 326,
     "metadata": {},
     "output_type": "execute_result"
    }
   ],
   "source": [
    "df_image_predictions.p3.sample(10)"
   ]
  },
  {
   "cell_type": "code",
   "execution_count": 327,
   "metadata": {},
   "outputs": [
    {
     "data": {
      "text/html": [
       "<div>\n",
       "<style scoped>\n",
       "    .dataframe tbody tr th:only-of-type {\n",
       "        vertical-align: middle;\n",
       "    }\n",
       "\n",
       "    .dataframe tbody tr th {\n",
       "        vertical-align: top;\n",
       "    }\n",
       "\n",
       "    .dataframe thead th {\n",
       "        text-align: right;\n",
       "    }\n",
       "</style>\n",
       "<table border=\"1\" class=\"dataframe\">\n",
       "  <thead>\n",
       "    <tr style=\"text-align: right;\">\n",
       "      <th></th>\n",
       "      <th>tweet_id</th>\n",
       "      <th>favorite_count</th>\n",
       "      <th>retweet_count</th>\n",
       "    </tr>\n",
       "  </thead>\n",
       "  <tbody>\n",
       "    <tr>\n",
       "      <th>0</th>\n",
       "      <td>892420643555336193</td>\n",
       "      <td>39467</td>\n",
       "      <td>8853</td>\n",
       "    </tr>\n",
       "    <tr>\n",
       "      <th>1</th>\n",
       "      <td>892177421306343426</td>\n",
       "      <td>33819</td>\n",
       "      <td>6514</td>\n",
       "    </tr>\n",
       "    <tr>\n",
       "      <th>2</th>\n",
       "      <td>891815181378084864</td>\n",
       "      <td>25461</td>\n",
       "      <td>4328</td>\n",
       "    </tr>\n",
       "    <tr>\n",
       "      <th>3</th>\n",
       "      <td>891689557279858688</td>\n",
       "      <td>42908</td>\n",
       "      <td>8964</td>\n",
       "    </tr>\n",
       "    <tr>\n",
       "      <th>4</th>\n",
       "      <td>891327558926688256</td>\n",
       "      <td>41048</td>\n",
       "      <td>9774</td>\n",
       "    </tr>\n",
       "  </tbody>\n",
       "</table>\n",
       "</div>"
      ],
      "text/plain": [
       "             tweet_id  favorite_count  retweet_count\n",
       "0  892420643555336193           39467           8853\n",
       "1  892177421306343426           33819           6514\n",
       "2  891815181378084864           25461           4328\n",
       "3  891689557279858688           42908           8964\n",
       "4  891327558926688256           41048           9774"
      ]
     },
     "execution_count": 327,
     "metadata": {},
     "output_type": "execute_result"
    }
   ],
   "source": [
    "#Create a dataframe with tweet_id, favorite_count, and retweet_count\n",
    "tweet = tweet_json[['id' , 'favorite_count' , 'retweet_count']]\n",
    "tweet = tweet.rename(columns= {'id' : 'tweet_id'})\n",
    "tweet.head()"
   ]
  },
  {
   "cell_type": "code",
   "execution_count": 328,
   "metadata": {},
   "outputs": [
    {
     "data": {
      "text/plain": [
       "0"
      ]
     },
     "execution_count": 328,
     "metadata": {},
     "output_type": "execute_result"
    }
   ],
   "source": [
    "tweet['tweet_id'].duplicated().sum()"
   ]
  },
  {
   "cell_type": "code",
   "execution_count": 329,
   "metadata": {},
   "outputs": [
    {
     "name": "stdout",
     "output_type": "stream",
     "text": [
      "<class 'pandas.core.frame.DataFrame'>\n",
      "RangeIndex: 2354 entries, 0 to 2353\n",
      "Data columns (total 3 columns):\n",
      "tweet_id          2354 non-null int64\n",
      "favorite_count    2354 non-null int64\n",
      "retweet_count     2354 non-null int64\n",
      "dtypes: int64(3)\n",
      "memory usage: 55.2 KB\n"
     ]
    }
   ],
   "source": [
    "tweet.info()"
   ]
  },
  {
   "cell_type": "markdown",
   "metadata": {},
   "source": [
    "# Quality Issues :"
   ]
  },
  {
   "cell_type": "markdown",
   "metadata": {},
   "source": [
    "# twitter_archive table\n",
    "#### 1. Datatype of ‘tweet_id  and ‘timestemp\n",
    "#### 2. Retweet duplicate actual tweet\n",
    "#### 3. Format of ‘ Source’\n",
    "#### 4. rating_numerator and ‘rating_denominator’ not all of them are correct\n",
    "#### 5. expanded_urls’ has missing value (tweet without  URL )\n",
    "#### 6. Datatype of dog stage \n",
    "#### 7. There is unneeded Column \n",
    "\n",
    "# df_image_predictions table\n",
    "#### 8. jpg_url has missing value (tweet without image)\n",
    "#### 9. p1 , p2 and p3 not all of them lowercase\n",
    "\n",
    "# tweet table\n",
    "#### 10. Datatype of ‘tweet_id"
   ]
  },
  {
   "cell_type": "markdown",
   "metadata": {},
   "source": [
    "# Tidiness Issues"
   ]
  },
  {
   "cell_type": "markdown",
   "metadata": {},
   "source": [
    "#### 1. Merge dataframes together\n",
    "#### 2. Create new column for dogs stage "
   ]
  },
  {
   "cell_type": "markdown",
   "metadata": {},
   "source": [
    "# 3- Clean Data .\n"
   ]
  },
  {
   "cell_type": "markdown",
   "metadata": {},
   "source": [
    "### This section consists of the cleaning portion of the data wrangling process:\n",
    "\n",
    "1. Define\n",
    "2. Code\n",
    "3. Test\n"
   ]
  },
  {
   "cell_type": "code",
   "execution_count": 330,
   "metadata": {},
   "outputs": [],
   "source": [
    "# Copy of dataframes\n",
    "twitter_archive_cleaned = twitter_archive.copy()\n",
    "df_image_predictions_cleaned = df_image_predictions.copy()\n",
    "tweet_cleaned = tweet.copy()"
   ]
  },
  {
   "cell_type": "markdown",
   "metadata": {},
   "source": [
    "## Define :\n"
   ]
  },
  {
   "cell_type": "markdown",
   "metadata": {},
   "source": [
    " 1. Merge the three dataframe.\n",
    " 2. Delate retweet in 'retweeted_status_id'.\n",
    " 3. Drop unneeded columns.\n",
    " 4. Delate tweet without URL ( remove null value in 'expanded_urls' ).\n",
    " 5. Change datatype of 'tweet_id' to String \n",
    " 6. Change datatype of 'timestamp' to datetime.\n",
    " 7. Delate tweet without image ( remove null value in 'jpg_url' ). \n",
    " 8. Create new column named dog_type , And fill the null values with None.\n",
    " 9. Change datatype of 'dog_type to category\n",
    " 10. convert p1,p2 and p3 to lowercase.\n",
    " 11. Correct wrong values in rating_numerator , rating_denominator."
   ]
  },
  {
   "cell_type": "markdown",
   "metadata": {},
   "source": [
    "## Code : "
   ]
  },
  {
   "cell_type": "code",
   "execution_count": 331,
   "metadata": {},
   "outputs": [],
   "source": [
    "#Merge the three dataframe.\n",
    "twitter_archive_cleaned = pd.merge(twitter_archive_cleaned, df_image_predictions_cleaned, on = ['tweet_id'], how = 'left')\n",
    "twitter_archive_cleaned = pd.merge(twitter_archive_cleaned , tweet_cleaned , on = ['tweet_id'] , how= 'left')"
   ]
  },
  {
   "cell_type": "markdown",
   "metadata": {},
   "source": [
    "## Test :"
   ]
  },
  {
   "cell_type": "code",
   "execution_count": 332,
   "metadata": {},
   "outputs": [
    {
     "name": "stdout",
     "output_type": "stream",
     "text": [
      "<class 'pandas.core.frame.DataFrame'>\n",
      "Int64Index: 2356 entries, 0 to 2355\n",
      "Data columns (total 30 columns):\n",
      "tweet_id                      2356 non-null int64\n",
      "in_reply_to_status_id         78 non-null float64\n",
      "in_reply_to_user_id           78 non-null float64\n",
      "timestamp                     2356 non-null object\n",
      "source                        2356 non-null object\n",
      "text                          2356 non-null object\n",
      "retweeted_status_id           181 non-null float64\n",
      "retweeted_status_user_id      181 non-null float64\n",
      "retweeted_status_timestamp    181 non-null object\n",
      "expanded_urls                 2297 non-null object\n",
      "rating_numerator              2356 non-null int64\n",
      "rating_denominator            2356 non-null int64\n",
      "name                          2356 non-null object\n",
      "doggo                         2356 non-null object\n",
      "floofer                       2356 non-null object\n",
      "pupper                        2356 non-null object\n",
      "puppo                         2356 non-null object\n",
      "jpg_url                       2075 non-null object\n",
      "img_num                       2075 non-null float64\n",
      "p1                            2075 non-null object\n",
      "p1_conf                       2075 non-null float64\n",
      "p1_dog                        2075 non-null object\n",
      "p2                            2075 non-null object\n",
      "p2_conf                       2075 non-null float64\n",
      "p2_dog                        2075 non-null object\n",
      "p3                            2075 non-null object\n",
      "p3_conf                       2075 non-null float64\n",
      "p3_dog                        2075 non-null object\n",
      "favorite_count                2354 non-null float64\n",
      "retweet_count                 2354 non-null float64\n",
      "dtypes: float64(10), int64(3), object(17)\n",
      "memory usage: 570.6+ KB\n"
     ]
    }
   ],
   "source": [
    "twitter_archive_cleaned.info()"
   ]
  },
  {
   "cell_type": "code",
   "execution_count": 333,
   "metadata": {},
   "outputs": [],
   "source": [
    "#Delate retweets in 'retweeted_status_id'.\n",
    "twitter_archive_cleaned = twitter_archive_cleaned[np.isnan(twitter_archive_cleaned[\"retweeted_status_id\"])]"
   ]
  },
  {
   "cell_type": "markdown",
   "metadata": {},
   "source": [
    "## Test"
   ]
  },
  {
   "cell_type": "code",
   "execution_count": 334,
   "metadata": {},
   "outputs": [
    {
     "name": "stdout",
     "output_type": "stream",
     "text": [
      "<class 'pandas.core.frame.DataFrame'>\n",
      "Int64Index: 2175 entries, 0 to 2355\n",
      "Data columns (total 30 columns):\n",
      "tweet_id                      2175 non-null int64\n",
      "in_reply_to_status_id         78 non-null float64\n",
      "in_reply_to_user_id           78 non-null float64\n",
      "timestamp                     2175 non-null object\n",
      "source                        2175 non-null object\n",
      "text                          2175 non-null object\n",
      "retweeted_status_id           0 non-null float64\n",
      "retweeted_status_user_id      0 non-null float64\n",
      "retweeted_status_timestamp    0 non-null object\n",
      "expanded_urls                 2117 non-null object\n",
      "rating_numerator              2175 non-null int64\n",
      "rating_denominator            2175 non-null int64\n",
      "name                          2175 non-null object\n",
      "doggo                         2175 non-null object\n",
      "floofer                       2175 non-null object\n",
      "pupper                        2175 non-null object\n",
      "puppo                         2175 non-null object\n",
      "jpg_url                       1994 non-null object\n",
      "img_num                       1994 non-null float64\n",
      "p1                            1994 non-null object\n",
      "p1_conf                       1994 non-null float64\n",
      "p1_dog                        1994 non-null object\n",
      "p2                            1994 non-null object\n",
      "p2_conf                       1994 non-null float64\n",
      "p2_dog                        1994 non-null object\n",
      "p3                            1994 non-null object\n",
      "p3_conf                       1994 non-null float64\n",
      "p3_dog                        1994 non-null object\n",
      "favorite_count                2175 non-null float64\n",
      "retweet_count                 2175 non-null float64\n",
      "dtypes: float64(10), int64(3), object(17)\n",
      "memory usage: 526.8+ KB\n"
     ]
    }
   ],
   "source": [
    "twitter_archive_cleaned.info()"
   ]
  },
  {
   "cell_type": "code",
   "execution_count": 335,
   "metadata": {},
   "outputs": [],
   "source": [
    "#Drop unneeded columns.\n",
    "twitter_archive_cleaned.drop(['retweeted_status_id','retweeted_status_user_id', 'retweeted_status_timestamp', 'in_reply_to_status_id', 'in_reply_to_user_id' , 'img_num'], axis=1 ,inplace=True)"
   ]
  },
  {
   "cell_type": "markdown",
   "metadata": {},
   "source": [
    "## Test "
   ]
  },
  {
   "cell_type": "code",
   "execution_count": 336,
   "metadata": {},
   "outputs": [
    {
     "data": {
      "text/plain": [
       "['tweet_id',\n",
       " 'timestamp',\n",
       " 'source',\n",
       " 'text',\n",
       " 'expanded_urls',\n",
       " 'rating_numerator',\n",
       " 'rating_denominator',\n",
       " 'name',\n",
       " 'doggo',\n",
       " 'floofer',\n",
       " 'pupper',\n",
       " 'puppo',\n",
       " 'jpg_url',\n",
       " 'p1',\n",
       " 'p1_conf',\n",
       " 'p1_dog',\n",
       " 'p2',\n",
       " 'p2_conf',\n",
       " 'p2_dog',\n",
       " 'p3',\n",
       " 'p3_conf',\n",
       " 'p3_dog',\n",
       " 'favorite_count',\n",
       " 'retweet_count']"
      ]
     },
     "execution_count": 336,
     "metadata": {},
     "output_type": "execute_result"
    }
   ],
   "source": [
    "list(twitter_archive_cleaned)"
   ]
  },
  {
   "cell_type": "code",
   "execution_count": 337,
   "metadata": {},
   "outputs": [],
   "source": [
    "#Delate tweet without URL ( remove null value in 'expanded_urls' ).\n",
    "twitter_archive_cleaned = twitter_archive_cleaned[twitter_archive_cleaned.expanded_urls.notnull()]"
   ]
  },
  {
   "cell_type": "markdown",
   "metadata": {},
   "source": [
    "## Test "
   ]
  },
  {
   "cell_type": "code",
   "execution_count": 338,
   "metadata": {},
   "outputs": [
    {
     "name": "stdout",
     "output_type": "stream",
     "text": [
      "<class 'pandas.core.frame.DataFrame'>\n",
      "Int64Index: 2117 entries, 0 to 2355\n",
      "Data columns (total 24 columns):\n",
      "tweet_id              2117 non-null int64\n",
      "timestamp             2117 non-null object\n",
      "source                2117 non-null object\n",
      "text                  2117 non-null object\n",
      "expanded_urls         2117 non-null object\n",
      "rating_numerator      2117 non-null int64\n",
      "rating_denominator    2117 non-null int64\n",
      "name                  2117 non-null object\n",
      "doggo                 2117 non-null object\n",
      "floofer               2117 non-null object\n",
      "pupper                2117 non-null object\n",
      "puppo                 2117 non-null object\n",
      "jpg_url               1994 non-null object\n",
      "p1                    1994 non-null object\n",
      "p1_conf               1994 non-null float64\n",
      "p1_dog                1994 non-null object\n",
      "p2                    1994 non-null object\n",
      "p2_conf               1994 non-null float64\n",
      "p2_dog                1994 non-null object\n",
      "p3                    1994 non-null object\n",
      "p3_conf               1994 non-null float64\n",
      "p3_dog                1994 non-null object\n",
      "favorite_count        2117 non-null float64\n",
      "retweet_count         2117 non-null float64\n",
      "dtypes: float64(5), int64(3), object(16)\n",
      "memory usage: 413.5+ KB\n"
     ]
    }
   ],
   "source": [
    "twitter_archive_cleaned.info()"
   ]
  },
  {
   "cell_type": "code",
   "execution_count": 517,
   "metadata": {},
   "outputs": [],
   "source": [
    "#Change datatype of 'tweet_id' to String \n",
    "twitter_archive_cleaned.tweet_id = twitter_archive_cleaned.tweet_id.astype(str)"
   ]
  },
  {
   "cell_type": "code",
   "execution_count": 340,
   "metadata": {},
   "outputs": [],
   "source": [
    "#Change datatype of 'timestamp' to datetime\n",
    "twitter_archive_cleaned.timestamp = pd.to_datetime(twitter_archive_cleaned.timestamp)"
   ]
  },
  {
   "cell_type": "markdown",
   "metadata": {},
   "source": [
    "# Test "
   ]
  },
  {
   "cell_type": "code",
   "execution_count": 341,
   "metadata": {},
   "outputs": [
    {
     "name": "stdout",
     "output_type": "stream",
     "text": [
      "object\n",
      "datetime64[ns]\n"
     ]
    },
    {
     "data": {
      "text/plain": [
       "(None, None)"
      ]
     },
     "execution_count": 341,
     "metadata": {},
     "output_type": "execute_result"
    }
   ],
   "source": [
    "print(twitter_archive_cleaned.tweet_id.dtype) , print(twitter_archive_cleaned.timestamp.dtype)\n"
   ]
  },
  {
   "cell_type": "code",
   "execution_count": 342,
   "metadata": {},
   "outputs": [],
   "source": [
    "#Delate tweet without image ( remove null value in 'jpg_url' ). \n",
    "twitter_archive_cleaned = twitter_archive_cleaned[twitter_archive_cleaned.jpg_url.notnull()]"
   ]
  },
  {
   "cell_type": "markdown",
   "metadata": {},
   "source": [
    "## Test "
   ]
  },
  {
   "cell_type": "code",
   "execution_count": 343,
   "metadata": {},
   "outputs": [
    {
     "name": "stdout",
     "output_type": "stream",
     "text": [
      "<class 'pandas.core.frame.DataFrame'>\n",
      "Int64Index: 1994 entries, 0 to 2355\n",
      "Data columns (total 24 columns):\n",
      "tweet_id              1994 non-null object\n",
      "timestamp             1994 non-null datetime64[ns]\n",
      "source                1994 non-null object\n",
      "text                  1994 non-null object\n",
      "expanded_urls         1994 non-null object\n",
      "rating_numerator      1994 non-null int64\n",
      "rating_denominator    1994 non-null int64\n",
      "name                  1994 non-null object\n",
      "doggo                 1994 non-null object\n",
      "floofer               1994 non-null object\n",
      "pupper                1994 non-null object\n",
      "puppo                 1994 non-null object\n",
      "jpg_url               1994 non-null object\n",
      "p1                    1994 non-null object\n",
      "p1_conf               1994 non-null float64\n",
      "p1_dog                1994 non-null object\n",
      "p2                    1994 non-null object\n",
      "p2_conf               1994 non-null float64\n",
      "p2_dog                1994 non-null object\n",
      "p3                    1994 non-null object\n",
      "p3_conf               1994 non-null float64\n",
      "p3_dog                1994 non-null object\n",
      "favorite_count        1994 non-null float64\n",
      "retweet_count         1994 non-null float64\n",
      "dtypes: datetime64[ns](1), float64(5), int64(2), object(16)\n",
      "memory usage: 389.5+ KB\n"
     ]
    }
   ],
   "source": [
    "twitter_archive_cleaned.info()"
   ]
  },
  {
   "cell_type": "code",
   "execution_count": 344,
   "metadata": {},
   "outputs": [],
   "source": [
    "#Create new column named dog_type , And fill the null values with None.\n",
    "twitter_archive_cleaned['dogs_type'] = twitter_archive_cleaned['text'].str.extract('(doggo|floofer|pupper|puppo)')\n",
    "twitter_archive_cleaned.drop(['doggo','floofer', 'pupper', 'puppo'], axis=1 ,inplace=True)"
   ]
  },
  {
   "cell_type": "code",
   "execution_count": 345,
   "metadata": {},
   "outputs": [],
   "source": [
    "twitter_archive_cleaned.dogs_type.replace('None', '', inplace=True)\n",
    "twitter_archive_cleaned.dogs_type.replace(np.NaN, '', inplace=True)"
   ]
  },
  {
   "cell_type": "markdown",
   "metadata": {},
   "source": [
    "## Test "
   ]
  },
  {
   "cell_type": "code",
   "execution_count": 519,
   "metadata": {},
   "outputs": [
    {
     "data": {
      "text/plain": [
       "           1664\n",
       "pupper      223\n",
       "doggo        72\n",
       "puppo        28\n",
       "floofer       3\n",
       "Name: dogs_type, dtype: int64"
      ]
     },
     "execution_count": 519,
     "metadata": {},
     "output_type": "execute_result"
    }
   ],
   "source": [
    "twitter_archive_cleaned.dogs_type.value_counts()"
   ]
  },
  {
   "cell_type": "code",
   "execution_count": 347,
   "metadata": {},
   "outputs": [],
   "source": [
    "#Change datatype of 'dog_type to category\n",
    "twitter_archive_cleaned.dogs_type = twitter_archive_cleaned.dogs_type.astype('category')"
   ]
  },
  {
   "cell_type": "markdown",
   "metadata": {},
   "source": [
    "## Test "
   ]
  },
  {
   "cell_type": "code",
   "execution_count": 348,
   "metadata": {},
   "outputs": [
    {
     "data": {
      "text/plain": [
       "tweet_id                      object\n",
       "timestamp             datetime64[ns]\n",
       "source                        object\n",
       "text                          object\n",
       "expanded_urls                 object\n",
       "rating_numerator               int64\n",
       "rating_denominator             int64\n",
       "name                          object\n",
       "jpg_url                       object\n",
       "p1                            object\n",
       "p1_conf                      float64\n",
       "p1_dog                        object\n",
       "p2                            object\n",
       "p2_conf                      float64\n",
       "p2_dog                        object\n",
       "p3                            object\n",
       "p3_conf                      float64\n",
       "p3_dog                        object\n",
       "favorite_count               float64\n",
       "retweet_count                float64\n",
       "dogs_type                   category\n",
       "dtype: object"
      ]
     },
     "execution_count": 348,
     "metadata": {},
     "output_type": "execute_result"
    }
   ],
   "source": [
    "twitter_archive_cleaned.dtypes"
   ]
  },
  {
   "cell_type": "code",
   "execution_count": 349,
   "metadata": {},
   "outputs": [],
   "source": [
    "#Convert p1,p2 and p3 to lowercase.\n",
    "twitter_archive_cleaned['p1'] = twitter_archive_cleaned['p1'].str.lower()\n",
    "twitter_archive_cleaned['p2'] = twitter_archive_cleaned['p2'].str.lower()\n",
    "twitter_archive_cleaned['p3'] = twitter_archive_cleaned['p3'].str.lower()"
   ]
  },
  {
   "cell_type": "markdown",
   "metadata": {},
   "source": [
    "## Test "
   ]
  },
  {
   "cell_type": "code",
   "execution_count": 350,
   "metadata": {},
   "outputs": [
    {
     "data": {
      "text/plain": [
       "2110              english_springer\n",
       "2123                       whippet\n",
       "1709                french_bulldog\n",
       "1801            labrador_retriever\n",
       "429                     pomeranian\n",
       "1044                    weimaraner\n",
       "1875                           bow\n",
       "1435                    great_dane\n",
       "1514                        barrow\n",
       "1616                    dishwasher\n",
       "1749                       panpipe\n",
       "1921    greater_swiss_mountain_dog\n",
       "1904                     jellyfish\n",
       "814                        meerkat\n",
       "2095               norfolk_terrier\n",
       "1371                   boston_bull\n",
       "932                 french_bulldog\n",
       "487               golden_retriever\n",
       "776                      mousetrap\n",
       "308      staffordshire_bullterrier\n",
       "Name: p1, dtype: object"
      ]
     },
     "execution_count": 350,
     "metadata": {},
     "output_type": "execute_result"
    }
   ],
   "source": [
    "twitter_archive_cleaned.p1.sample(20)"
   ]
  },
  {
   "cell_type": "code",
   "execution_count": 351,
   "metadata": {},
   "outputs": [
    {
     "data": {
      "text/plain": [
       "1403                       malamute\n",
       "436         black-and-tan_coonhound\n",
       "121                     toy_terrier\n",
       "2020                 french_bulldog\n",
       "1857                    groenendael\n",
       "1053                     comic_book\n",
       "339                        ice_bear\n",
       "1579                     great_dane\n",
       "1554                      chihuahua\n",
       "1013                         marmot\n",
       "484                          kuvasz\n",
       "700                      schipperke\n",
       "1049    soft-coated_wheaten_terrier\n",
       "400                        malinois\n",
       "1181               miniature_poodle\n",
       "573                  dandie_dinmont\n",
       "1329                  border_collie\n",
       "385                golden_retriever\n",
       "2136                           slug\n",
       "2308             standard_schnauzer\n",
       "Name: p2, dtype: object"
      ]
     },
     "execution_count": 351,
     "metadata": {},
     "output_type": "execute_result"
    }
   ],
   "source": [
    "twitter_archive_cleaned.p2.sample(20)"
   ]
  },
  {
   "cell_type": "code",
   "execution_count": 352,
   "metadata": {},
   "outputs": [
    {
     "data": {
      "text/plain": [
       "879                        sea_lion\n",
       "1312                    toy_terrier\n",
       "924                          carton\n",
       "966                        papillon\n",
       "2256                           jeep\n",
       "658                          kuvasz\n",
       "177                      eskimo_dog\n",
       "235                         doormat\n",
       "1642       chesapeake_bay_retriever\n",
       "99      german_short-haired_pointer\n",
       "1593             australian_terrier\n",
       "1106             labrador_retriever\n",
       "823       staffordshire_bullterrier\n",
       "1213                    boston_bull\n",
       "1701                     toy_poodle\n",
       "921                       tiger_cat\n",
       "2198             miniature_pinscher\n",
       "1999                  irish_terrier\n",
       "897                golden_retriever\n",
       "1582                         saluki\n",
       "Name: p3, dtype: object"
      ]
     },
     "execution_count": 352,
     "metadata": {},
     "output_type": "execute_result"
    }
   ],
   "source": [
    "twitter_archive_cleaned.p3.sample(20)"
   ]
  },
  {
   "cell_type": "code",
   "execution_count": 353,
   "metadata": {},
   "outputs": [
    {
     "data": {
      "text/plain": [
       "12      450\n",
       "10      419\n",
       "11      396\n",
       "13      261\n",
       "9       151\n",
       "8        95\n",
       "7        52\n",
       "14       35\n",
       "5        33\n",
       "6        32\n",
       "3        19\n",
       "4        16\n",
       "2         9\n",
       "1         5\n",
       "0         2\n",
       "420       1\n",
       "24        1\n",
       "1776      1\n",
       "27        1\n",
       "44        1\n",
       "45        1\n",
       "50        1\n",
       "60        1\n",
       "75        1\n",
       "80        1\n",
       "84        1\n",
       "88        1\n",
       "99        1\n",
       "121       1\n",
       "143       1\n",
       "144       1\n",
       "165       1\n",
       "204       1\n",
       "26        1\n",
       "Name: rating_numerator, dtype: int64"
      ]
     },
     "execution_count": 353,
     "metadata": {},
     "output_type": "execute_result"
    }
   ],
   "source": [
    "#Correct wrong values in rating_numerator : 420 and 0  \n",
    "twitter_archive_cleaned.rating_numerator.value_counts()"
   ]
  },
  {
   "cell_type": "code",
   "execution_count": 354,
   "metadata": {},
   "outputs": [],
   "source": [
    "# This rating is wrong and should be dropped because it is not a image of a dog\n",
    "twitter_archive_cleaned.drop(twitter_archive_cleaned.loc[twitter_archive_cleaned['rating_numerator']== 420].index, inplace=True)"
   ]
  },
  {
   "cell_type": "code",
   "execution_count": 355,
   "metadata": {},
   "outputs": [],
   "source": [
    "# This rating is wrong and should be dropped because it is not a image of a dog\n",
    "twitter_archive.loc[twitter_archive['rating_numerator']== 0 ]\n",
    "twitter_archive_cleaned.drop(twitter_archive_cleaned.loc[twitter_archive_cleaned['rating_numerator']== 0].index, inplace=True)"
   ]
  },
  {
   "cell_type": "markdown",
   "metadata": {},
   "source": [
    "## Test "
   ]
  },
  {
   "cell_type": "code",
   "execution_count": 356,
   "metadata": {},
   "outputs": [
    {
     "data": {
      "text/plain": [
       "12      450\n",
       "10      419\n",
       "11      396\n",
       "13      261\n",
       "9       151\n",
       "8        95\n",
       "7        52\n",
       "14       35\n",
       "5        33\n",
       "6        32\n",
       "3        19\n",
       "4        16\n",
       "2         9\n",
       "1         5\n",
       "204       1\n",
       "24        1\n",
       "1776      1\n",
       "27        1\n",
       "44        1\n",
       "45        1\n",
       "50        1\n",
       "60        1\n",
       "75        1\n",
       "80        1\n",
       "84        1\n",
       "88        1\n",
       "99        1\n",
       "121       1\n",
       "143       1\n",
       "144       1\n",
       "165       1\n",
       "26        1\n",
       "Name: rating_numerator, dtype: int64"
      ]
     },
     "execution_count": 356,
     "metadata": {},
     "output_type": "execute_result"
    }
   ],
   "source": [
    "twitter_archive_cleaned.rating_numerator.value_counts()"
   ]
  },
  {
   "cell_type": "code",
   "execution_count": 357,
   "metadata": {},
   "outputs": [
    {
     "data": {
      "text/plain": [
       "10     1973\n",
       "50        3\n",
       "80        2\n",
       "11        2\n",
       "170       1\n",
       "150       1\n",
       "130       1\n",
       "120       1\n",
       "110       1\n",
       "90        1\n",
       "70        1\n",
       "40        1\n",
       "20        1\n",
       "7         1\n",
       "2         1\n",
       "Name: rating_denominator, dtype: int64"
      ]
     },
     "execution_count": 357,
     "metadata": {},
     "output_type": "execute_result"
    }
   ],
   "source": [
    "#Correct wrong values in rating_numerator : 11 , 7 , 2  \n",
    "twitter_archive_cleaned.rating_denominator.value_counts()"
   ]
  },
  {
   "cell_type": "code",
   "execution_count": 358,
   "metadata": {},
   "outputs": [
    {
     "data": {
      "text/html": [
       "<div>\n",
       "<style scoped>\n",
       "    .dataframe tbody tr th:only-of-type {\n",
       "        vertical-align: middle;\n",
       "    }\n",
       "\n",
       "    .dataframe tbody tr th {\n",
       "        vertical-align: top;\n",
       "    }\n",
       "\n",
       "    .dataframe thead th {\n",
       "        text-align: right;\n",
       "    }\n",
       "</style>\n",
       "<table border=\"1\" class=\"dataframe\">\n",
       "  <thead>\n",
       "    <tr style=\"text-align: right;\">\n",
       "      <th></th>\n",
       "      <th>tweet_id</th>\n",
       "      <th>in_reply_to_status_id</th>\n",
       "      <th>in_reply_to_user_id</th>\n",
       "      <th>timestamp</th>\n",
       "      <th>source</th>\n",
       "      <th>text</th>\n",
       "      <th>retweeted_status_id</th>\n",
       "      <th>retweeted_status_user_id</th>\n",
       "      <th>retweeted_status_timestamp</th>\n",
       "      <th>expanded_urls</th>\n",
       "      <th>rating_numerator</th>\n",
       "      <th>rating_denominator</th>\n",
       "      <th>name</th>\n",
       "      <th>doggo</th>\n",
       "      <th>floofer</th>\n",
       "      <th>pupper</th>\n",
       "      <th>puppo</th>\n",
       "    </tr>\n",
       "  </thead>\n",
       "  <tbody>\n",
       "    <tr>\n",
       "      <th>784</th>\n",
       "      <td>775096608509886464</td>\n",
       "      <td>NaN</td>\n",
       "      <td>NaN</td>\n",
       "      <td>2016-09-11 22:20:06 +0000</td>\n",
       "      <td>&lt;a href=\"http://twitter.com/download/iphone\" rel=\"nofollow\"&gt;Twitter for iPhone&lt;/a&gt;</td>\n",
       "      <td>RT @dog_rates: After so many requests, this is Bretagne. She was the last surviving 9/11 search dog, and our second ever 14/10. RIP https:/…</td>\n",
       "      <td>7.403732e+17</td>\n",
       "      <td>4.196984e+09</td>\n",
       "      <td>2016-06-08 02:41:38 +0000</td>\n",
       "      <td>https://twitter.com/dog_rates/status/740373189193256964/photo/1,https://twitter.com/dog_rates/status/740373189193256964/photo/1,https://twitter.com/dog_rates/status/740373189193256964/photo/1,https://twitter.com/dog_rates/status/740373189193256964/photo/1</td>\n",
       "      <td>9</td>\n",
       "      <td>11</td>\n",
       "      <td>None</td>\n",
       "      <td>None</td>\n",
       "      <td>None</td>\n",
       "      <td>None</td>\n",
       "      <td>None</td>\n",
       "    </tr>\n",
       "    <tr>\n",
       "      <th>1068</th>\n",
       "      <td>740373189193256964</td>\n",
       "      <td>NaN</td>\n",
       "      <td>NaN</td>\n",
       "      <td>2016-06-08 02:41:38 +0000</td>\n",
       "      <td>&lt;a href=\"http://twitter.com/download/iphone\" rel=\"nofollow\"&gt;Twitter for iPhone&lt;/a&gt;</td>\n",
       "      <td>After so many requests, this is Bretagne. She was the last surviving 9/11 search dog, and our second ever 14/10. RIP https://t.co/XAVDNDaVgQ</td>\n",
       "      <td>NaN</td>\n",
       "      <td>NaN</td>\n",
       "      <td>NaN</td>\n",
       "      <td>https://twitter.com/dog_rates/status/740373189193256964/photo/1,https://twitter.com/dog_rates/status/740373189193256964/photo/1,https://twitter.com/dog_rates/status/740373189193256964/photo/1,https://twitter.com/dog_rates/status/740373189193256964/photo/1</td>\n",
       "      <td>9</td>\n",
       "      <td>11</td>\n",
       "      <td>None</td>\n",
       "      <td>None</td>\n",
       "      <td>None</td>\n",
       "      <td>None</td>\n",
       "      <td>None</td>\n",
       "    </tr>\n",
       "    <tr>\n",
       "      <th>1662</th>\n",
       "      <td>682962037429899265</td>\n",
       "      <td>NaN</td>\n",
       "      <td>NaN</td>\n",
       "      <td>2016-01-01 16:30:13 +0000</td>\n",
       "      <td>&lt;a href=\"http://twitter.com/download/iphone\" rel=\"nofollow\"&gt;Twitter for iPhone&lt;/a&gt;</td>\n",
       "      <td>This is Darrel. He just robbed a 7/11 and is in a high speed police chase. Was just spotted by the helicopter 10/10 https://t.co/7EsP8LmSp5</td>\n",
       "      <td>NaN</td>\n",
       "      <td>NaN</td>\n",
       "      <td>NaN</td>\n",
       "      <td>https://twitter.com/dog_rates/status/682962037429899265/photo/1</td>\n",
       "      <td>7</td>\n",
       "      <td>11</td>\n",
       "      <td>Darrel</td>\n",
       "      <td>None</td>\n",
       "      <td>None</td>\n",
       "      <td>None</td>\n",
       "      <td>None</td>\n",
       "    </tr>\n",
       "  </tbody>\n",
       "</table>\n",
       "</div>"
      ],
      "text/plain": [
       "                tweet_id  in_reply_to_status_id  in_reply_to_user_id  \\\n",
       "784   775096608509886464                    NaN                  NaN   \n",
       "1068  740373189193256964                    NaN                  NaN   \n",
       "1662  682962037429899265                    NaN                  NaN   \n",
       "\n",
       "                      timestamp  \\\n",
       "784   2016-09-11 22:20:06 +0000   \n",
       "1068  2016-06-08 02:41:38 +0000   \n",
       "1662  2016-01-01 16:30:13 +0000   \n",
       "\n",
       "                                                                                  source  \\\n",
       "784   <a href=\"http://twitter.com/download/iphone\" rel=\"nofollow\">Twitter for iPhone</a>   \n",
       "1068  <a href=\"http://twitter.com/download/iphone\" rel=\"nofollow\">Twitter for iPhone</a>   \n",
       "1662  <a href=\"http://twitter.com/download/iphone\" rel=\"nofollow\">Twitter for iPhone</a>   \n",
       "\n",
       "                                                                                                                                              text  \\\n",
       "784   RT @dog_rates: After so many requests, this is Bretagne. She was the last surviving 9/11 search dog, and our second ever 14/10. RIP https:/…   \n",
       "1068  After so many requests, this is Bretagne. She was the last surviving 9/11 search dog, and our second ever 14/10. RIP https://t.co/XAVDNDaVgQ   \n",
       "1662   This is Darrel. He just robbed a 7/11 and is in a high speed police chase. Was just spotted by the helicopter 10/10 https://t.co/7EsP8LmSp5   \n",
       "\n",
       "      retweeted_status_id  retweeted_status_user_id  \\\n",
       "784          7.403732e+17              4.196984e+09   \n",
       "1068                  NaN                       NaN   \n",
       "1662                  NaN                       NaN   \n",
       "\n",
       "     retweeted_status_timestamp  \\\n",
       "784   2016-06-08 02:41:38 +0000   \n",
       "1068                        NaN   \n",
       "1662                        NaN   \n",
       "\n",
       "                                                                                                                                                                                                                                                        expanded_urls  \\\n",
       "784   https://twitter.com/dog_rates/status/740373189193256964/photo/1,https://twitter.com/dog_rates/status/740373189193256964/photo/1,https://twitter.com/dog_rates/status/740373189193256964/photo/1,https://twitter.com/dog_rates/status/740373189193256964/photo/1   \n",
       "1068  https://twitter.com/dog_rates/status/740373189193256964/photo/1,https://twitter.com/dog_rates/status/740373189193256964/photo/1,https://twitter.com/dog_rates/status/740373189193256964/photo/1,https://twitter.com/dog_rates/status/740373189193256964/photo/1   \n",
       "1662                                                                                                                                                                                                  https://twitter.com/dog_rates/status/682962037429899265/photo/1   \n",
       "\n",
       "      rating_numerator  rating_denominator    name doggo floofer pupper puppo  \n",
       "784                  9                  11    None  None    None   None  None  \n",
       "1068                 9                  11    None  None    None   None  None  \n",
       "1662                 7                  11  Darrel  None    None   None  None  "
      ]
     },
     "execution_count": 358,
     "metadata": {},
     "output_type": "execute_result"
    }
   ],
   "source": [
    "pd.options.display.max_colwidth = 1000\n",
    "twitter_archive.loc[twitter_archive['rating_denominator']== 11 ]"
   ]
  },
  {
   "cell_type": "code",
   "execution_count": 359,
   "metadata": {},
   "outputs": [
    {
     "data": {
      "text/html": [
       "<div>\n",
       "<style scoped>\n",
       "    .dataframe tbody tr th:only-of-type {\n",
       "        vertical-align: middle;\n",
       "    }\n",
       "\n",
       "    .dataframe tbody tr th {\n",
       "        vertical-align: top;\n",
       "    }\n",
       "\n",
       "    .dataframe thead th {\n",
       "        text-align: right;\n",
       "    }\n",
       "</style>\n",
       "<table border=\"1\" class=\"dataframe\">\n",
       "  <thead>\n",
       "    <tr style=\"text-align: right;\">\n",
       "      <th></th>\n",
       "      <th>tweet_id</th>\n",
       "      <th>in_reply_to_status_id</th>\n",
       "      <th>in_reply_to_user_id</th>\n",
       "      <th>timestamp</th>\n",
       "      <th>source</th>\n",
       "      <th>text</th>\n",
       "      <th>retweeted_status_id</th>\n",
       "      <th>retweeted_status_user_id</th>\n",
       "      <th>retweeted_status_timestamp</th>\n",
       "      <th>expanded_urls</th>\n",
       "      <th>rating_numerator</th>\n",
       "      <th>rating_denominator</th>\n",
       "      <th>name</th>\n",
       "      <th>doggo</th>\n",
       "      <th>floofer</th>\n",
       "      <th>pupper</th>\n",
       "      <th>puppo</th>\n",
       "    </tr>\n",
       "  </thead>\n",
       "  <tbody>\n",
       "    <tr>\n",
       "      <th>2335</th>\n",
       "      <td>666287406224695296</td>\n",
       "      <td>NaN</td>\n",
       "      <td>NaN</td>\n",
       "      <td>2015-11-16 16:11:11 +0000</td>\n",
       "      <td>&lt;a href=\"http://twitter.com/download/iphone\" rel=\"nofollow\"&gt;Twitter for iPhone&lt;/a&gt;</td>\n",
       "      <td>This is an Albanian 3 1/2 legged  Episcopalian. Loves well-polished hardwood flooring. Penis on the collar. 9/10 https://t.co/d9NcXFKwLv</td>\n",
       "      <td>NaN</td>\n",
       "      <td>NaN</td>\n",
       "      <td>NaN</td>\n",
       "      <td>https://twitter.com/dog_rates/status/666287406224695296/photo/1</td>\n",
       "      <td>1</td>\n",
       "      <td>2</td>\n",
       "      <td>an</td>\n",
       "      <td>None</td>\n",
       "      <td>None</td>\n",
       "      <td>None</td>\n",
       "      <td>None</td>\n",
       "    </tr>\n",
       "  </tbody>\n",
       "</table>\n",
       "</div>"
      ],
      "text/plain": [
       "                tweet_id  in_reply_to_status_id  in_reply_to_user_id  \\\n",
       "2335  666287406224695296                    NaN                  NaN   \n",
       "\n",
       "                      timestamp  \\\n",
       "2335  2015-11-16 16:11:11 +0000   \n",
       "\n",
       "                                                                                  source  \\\n",
       "2335  <a href=\"http://twitter.com/download/iphone\" rel=\"nofollow\">Twitter for iPhone</a>   \n",
       "\n",
       "                                                                                                                                          text  \\\n",
       "2335  This is an Albanian 3 1/2 legged  Episcopalian. Loves well-polished hardwood flooring. Penis on the collar. 9/10 https://t.co/d9NcXFKwLv   \n",
       "\n",
       "      retweeted_status_id  retweeted_status_user_id  \\\n",
       "2335                  NaN                       NaN   \n",
       "\n",
       "     retweeted_status_timestamp  \\\n",
       "2335                        NaN   \n",
       "\n",
       "                                                        expanded_urls  \\\n",
       "2335  https://twitter.com/dog_rates/status/666287406224695296/photo/1   \n",
       "\n",
       "      rating_numerator  rating_denominator name doggo floofer pupper puppo  \n",
       "2335                 1                   2   an  None    None   None  None  "
      ]
     },
     "execution_count": 359,
     "metadata": {},
     "output_type": "execute_result"
    }
   ],
   "source": [
    "twitter_archive.loc[twitter_archive['rating_denominator']== 2 ]"
   ]
  },
  {
   "cell_type": "code",
   "execution_count": 360,
   "metadata": {},
   "outputs": [],
   "source": [
    "#I think this tweet is not rated, it will be dropped\n",
    "pd.options.display.max_colwidth = 1000\n",
    "twitter_archive.loc[twitter_archive['rating_denominator']== 7 ]['text']\n",
    "twitter_archive_cleaned.drop(twitter_archive_cleaned.loc[twitter_archive_cleaned['rating_denominator']== 7].index, inplace=True)"
   ]
  },
  {
   "cell_type": "code",
   "execution_count": 361,
   "metadata": {},
   "outputs": [],
   "source": [
    "# Correct wrong values\n",
    "twitter_archive_cleaned['rating_denominator'].replace({11: 10}, inplace=True )\n",
    "twitter_archive_cleaned['rating_denominator'].replace({2: 10}, inplace=True)"
   ]
  },
  {
   "cell_type": "markdown",
   "metadata": {},
   "source": [
    "## Test"
   ]
  },
  {
   "cell_type": "code",
   "execution_count": 362,
   "metadata": {},
   "outputs": [
    {
     "data": {
      "text/plain": [
       "10     1976\n",
       "50        3\n",
       "80        2\n",
       "170       1\n",
       "150       1\n",
       "130       1\n",
       "120       1\n",
       "110       1\n",
       "90        1\n",
       "70        1\n",
       "40        1\n",
       "20        1\n",
       "Name: rating_denominator, dtype: int64"
      ]
     },
     "execution_count": 362,
     "metadata": {},
     "output_type": "execute_result"
    }
   ],
   "source": [
    "twitter_archive_cleaned.rating_denominator.value_counts()"
   ]
  },
  {
   "cell_type": "code",
   "execution_count": 521,
   "metadata": {},
   "outputs": [],
   "source": [
    "# https://github.com/tkannab/Udacity-DAND-T2-P3-DW/blob/master/wrangle_act.ipynb\n",
    "# Change Format of ‘ Source’ to be easier to read and analysis\n",
    "twitter_archive_cleaned['source'] = twitter_archive_cleaned['source'].str.extract('(<a href=\"https?)(:\\/\\/)(.+)(\">)(.+)(<\\/a)', expand = True)[4];"
   ]
  },
  {
   "cell_type": "markdown",
   "metadata": {},
   "source": [
    "### Test"
   ]
  },
  {
   "cell_type": "code",
   "execution_count": 364,
   "metadata": {},
   "outputs": [
    {
     "data": {
      "text/plain": [
       "Twitter for iPhone    1951\n",
       "Twitter Web Client      28\n",
       "TweetDeck               11\n",
       "Name: source, dtype: int64"
      ]
     },
     "execution_count": 364,
     "metadata": {},
     "output_type": "execute_result"
    }
   ],
   "source": [
    "twitter_archive_cleaned.source.value_counts()"
   ]
  },
  {
   "cell_type": "markdown",
   "metadata": {},
   "source": [
    "# 4- Storing, Analyzing, and Visualizing "
   ]
  },
  {
   "cell_type": "markdown",
   "metadata": {},
   "source": [
    "###  Store data :"
   ]
  },
  {
   "cell_type": "code",
   "execution_count": 365,
   "metadata": {},
   "outputs": [],
   "source": [
    "twitter_archive_cleaned.to_csv('twitter_archive_cleaned.csv', encoding='utf-8', index=False)"
   ]
  },
  {
   "cell_type": "markdown",
   "metadata": {},
   "source": [
    "### Analyze and visualize data :"
   ]
  },
  {
   "cell_type": "code",
   "execution_count": 367,
   "metadata": {},
   "outputs": [
    {
     "data": {
      "text/plain": [
       "tweet_id                                                                          749981277374128128\n",
       "timestamp                                                                        2016-07-04 15:00:45\n",
       "source                                                                                     TweetDeck\n",
       "text                  This is Atticus. He's quite simply America af. 1776/10 https://t.co/GRXwMxLBkh\n",
       "expanded_urls                        https://twitter.com/dog_rates/status/749981277374128128/photo/1\n",
       "rating_numerator                                                                                1776\n",
       "rating_denominator                                                                                10\n",
       "name                                                                                         Atticus\n",
       "jpg_url                                              https://pbs.twimg.com/media/CmgBZ7kWcAAlzFD.jpg\n",
       "p1                                                                                           bow_tie\n",
       "p1_conf                                                                                     0.533941\n",
       "p1_dog                                                                                         False\n",
       "p2                                                                                        sunglasses\n",
       "p2_conf                                                                                    0.0808222\n",
       "p2_dog                                                                                         False\n",
       "p3                                                                                          sunglass\n",
       "p3_conf                                                                                    0.0507762\n",
       "p3_dog                                                                                         False\n",
       "favorite_count                                                                                  5569\n",
       "retweet_count                                                                                   2772\n",
       "dogs_type                                                                                           \n",
       "Name: 979, dtype: object"
      ]
     },
     "execution_count": 367,
     "metadata": {},
     "output_type": "execute_result"
    }
   ],
   "source": [
    "# https://www.kite.com/python/answers/how-to-find-the-max-value-of-a-pandas-dataframe-column-in-python\n",
    "twitter_archive_cleaned.loc[twitter_archive_cleaned['rating_numerator'].idxmax()]"
   ]
  },
  {
   "cell_type": "code",
   "execution_count": 368,
   "metadata": {},
   "outputs": [
    {
     "data": {
      "text/html": [
       "<img src=\"https://pbs.twimg.com/media/CmgBZ7kWcAAlzFD.jpg\"/>"
      ],
      "text/plain": [
       "<IPython.core.display.Image object>"
      ]
     },
     "execution_count": 368,
     "metadata": {},
     "output_type": "execute_result"
    }
   ],
   "source": [
    "# https://stackoverflow.com/questions/32370281/how-to-embed-image-or-picture-in-jupyter-notebook-either-from-a-local-machine-o\n",
    "Image(url= 'https://pbs.twimg.com/media/CmgBZ7kWcAAlzFD.jpg')"
   ]
  },
  {
   "cell_type": "code",
   "execution_count": 369,
   "metadata": {},
   "outputs": [
    {
     "data": {
      "text/plain": [
       "tweet_id                                                                                                               744234799360020481\n",
       "timestamp                                                                                                             2016-06-18 18:26:18\n",
       "source                                                                                                                 Twitter for iPhone\n",
       "text                  Here's a doggo realizing you can stand in a pool. 13/10 enlightened af (vid by Tina Conrad) https://t.co/7wE9LTEXC4\n",
       "expanded_urls                                                             https://twitter.com/dog_rates/status/744234799360020481/video/1\n",
       "rating_numerator                                                                                                                       13\n",
       "rating_denominator                                                                                                                     10\n",
       "name                                                                                                                                 None\n",
       "jpg_url                                           https://pbs.twimg.com/ext_tw_video_thumb/744234667679821824/pu/img/1GaWmtJtdqzZV7jy.jpg\n",
       "p1                                                                                                                     labrador_retriever\n",
       "p1_conf                                                                                                                          0.825333\n",
       "p1_dog                                                                                                                               True\n",
       "p2                                                                                                                               ice_bear\n",
       "p2_conf                                                                                                                         0.0446808\n",
       "p2_dog                                                                                                                              False\n",
       "p3                                                                                                                                whippet\n",
       "p3_conf                                                                                                                         0.0184422\n",
       "p3_dog                                                                                                                               True\n",
       "favorite_count                                                                                                                     131075\n",
       "retweet_count                                                                                                                       79515\n",
       "dogs_type                                                                                                                           doggo\n",
       "Name: 1039, dtype: object"
      ]
     },
     "execution_count": 369,
     "metadata": {},
     "output_type": "execute_result"
    }
   ],
   "source": [
    "twitter_archive_cleaned.loc[twitter_archive_cleaned['retweet_count'].idxmax()]"
   ]
  },
  {
   "cell_type": "code",
   "execution_count": 370,
   "metadata": {},
   "outputs": [
    {
     "data": {
      "text/html": [
       "<img src=\" https://pbs.twimg.com/ext_tw_video_thumb/744234667679821824/pu/img/1GaWmtJtdqzZV7jy.jpg\"/>"
      ],
      "text/plain": [
       "<IPython.core.display.Image object>"
      ]
     },
     "execution_count": 370,
     "metadata": {},
     "output_type": "execute_result"
    }
   ],
   "source": [
    "Image(url= ' https://pbs.twimg.com/ext_tw_video_thumb/744234667679821824/pu/img/1GaWmtJtdqzZV7jy.jpg')"
   ]
  },
  {
   "cell_type": "code",
   "execution_count": 371,
   "metadata": {},
   "outputs": [
    {
     "data": {
      "text/plain": [
       "tweet_id                                                                                                           822872901745569793\n",
       "timestamp                                                                                                         2017-01-21 18:26:02\n",
       "source                                                                                                             Twitter for iPhone\n",
       "text                  Here's a super supportive puppo participating in the Toronto  #WomensMarch today. 13/10 https://t.co/nTz3FtorBc\n",
       "expanded_urls                                                         https://twitter.com/dog_rates/status/822872901745569793/photo/1\n",
       "rating_numerator                                                                                                                   13\n",
       "rating_denominator                                                                                                                 10\n",
       "name                                                                                                                             None\n",
       "jpg_url                                                                               https://pbs.twimg.com/media/C2tugXLXgAArJO4.jpg\n",
       "p1                                                                                                                   lakeland_terrier\n",
       "p1_conf                                                                                                                      0.196015\n",
       "p1_dog                                                                                                                           True\n",
       "p2                                                                                                                 labrador_retriever\n",
       "p2_conf                                                                                                                      0.160329\n",
       "p2_dog                                                                                                                           True\n",
       "p3                                                                                                                      irish_terrier\n",
       "p3_conf                                                                                                                     0.0691262\n",
       "p3_dog                                                                                                                           True\n",
       "favorite_count                                                                                                                 132810\n",
       "retweet_count                                                                                                                   48265\n",
       "dogs_type                                                                                                                       puppo\n",
       "Name: 413, dtype: object"
      ]
     },
     "execution_count": 371,
     "metadata": {},
     "output_type": "execute_result"
    }
   ],
   "source": [
    "twitter_archive_cleaned.loc[twitter_archive_cleaned['favorite_count'].idxmax()]"
   ]
  },
  {
   "cell_type": "code",
   "execution_count": 372,
   "metadata": {},
   "outputs": [
    {
     "data": {
      "text/html": [
       "<img src=\" https://pbs.twimg.com/media/C2tugXLXgAArJO4.jpg\"/>"
      ],
      "text/plain": [
       "<IPython.core.display.Image object>"
      ]
     },
     "execution_count": 372,
     "metadata": {},
     "output_type": "execute_result"
    }
   ],
   "source": [
    "Image(url= ' https://pbs.twimg.com/media/C2tugXLXgAArJO4.jpg')"
   ]
  },
  {
   "cell_type": "code",
   "execution_count": 373,
   "metadata": {},
   "outputs": [
    {
     "data": {
      "text/plain": [
       "12    420\n",
       "11    348\n",
       "1     235\n",
       "2     174\n",
       "3     168\n",
       "7     137\n",
       "6     124\n",
       "5     100\n",
       "4      95\n",
       "10     65\n",
       "9      63\n",
       "8      61\n",
       "Name: month, dtype: int64"
      ]
     },
     "execution_count": 373,
     "metadata": {},
     "output_type": "execute_result"
    }
   ],
   "source": [
    "# https://stackoverflow.com/questions/25146121/extracting-just-month-and-year-separately-from-pandas-datetime-column\n",
    "twitter_archive_cleaned['month'] = pd.DatetimeIndex(twitter_archive_cleaned['timestamp']).month\n",
    "twitter_archive_cleaned.month.value_counts()"
   ]
  },
  {
   "cell_type": "code",
   "execution_count": 374,
   "metadata": {},
   "outputs": [
    {
     "data": {
      "text/plain": [
       "2016    972\n",
       "2015    662\n",
       "2017    356\n",
       "Name: year, dtype: int64"
      ]
     },
     "execution_count": 374,
     "metadata": {},
     "output_type": "execute_result"
    }
   ],
   "source": [
    "twitter_archive_cleaned['year'] = pd.DatetimeIndex(twitter_archive_cleaned['timestamp']).year\n",
    "twitter_archive_cleaned.year.value_counts()"
   ]
  },
  {
   "cell_type": "code",
   "execution_count": 486,
   "metadata": {},
   "outputs": [],
   "source": [
    "twitter_archive_cleaned['rating'] = twitter_archive_cleaned['rating_numerator'] / twitter_archive_cleaned['rating_denominator']"
   ]
  },
  {
   "cell_type": "code",
   "execution_count": 411,
   "metadata": {},
   "outputs": [
    {
     "name": "stdout",
     "output_type": "stream",
     "text": [
      "<class 'pandas.core.frame.DataFrame'>\n",
      "Int64Index: 1990 entries, 0 to 2355\n",
      "Data columns (total 25 columns):\n",
      "tweet_id              1990 non-null object\n",
      "timestamp             1990 non-null datetime64[ns]\n",
      "source                1990 non-null object\n",
      "text                  1990 non-null object\n",
      "expanded_urls         1990 non-null object\n",
      "rating_numerator      1990 non-null int64\n",
      "rating_denominator    1990 non-null int64\n",
      "name                  1990 non-null object\n",
      "jpg_url               1990 non-null object\n",
      "p1                    1990 non-null object\n",
      "p1_conf               1990 non-null float64\n",
      "p1_dog                1990 non-null object\n",
      "p2                    1990 non-null object\n",
      "p2_conf               1990 non-null float64\n",
      "p2_dog                1990 non-null object\n",
      "p3                    1990 non-null object\n",
      "p3_conf               1990 non-null float64\n",
      "p3_dog                1990 non-null object\n",
      "favorite_count        1990 non-null float64\n",
      "retweet_count         1990 non-null float64\n",
      "dogs_type             1990 non-null category\n",
      "month                 1990 non-null int64\n",
      "year                  1990 non-null int64\n",
      "rating                1990 non-null float64\n",
      "count_tweets          1990 non-null int64\n",
      "dtypes: category(1), datetime64[ns](1), float64(6), int64(5), object(12)\n",
      "memory usage: 470.8+ KB\n"
     ]
    }
   ],
   "source": [
    "twitter_archive_cleaned.info()"
   ]
  },
  {
   "cell_type": "code",
   "execution_count": 385,
   "metadata": {},
   "outputs": [
    {
     "data": {
      "text/html": [
       "<div>\n",
       "<style scoped>\n",
       "    .dataframe tbody tr th:only-of-type {\n",
       "        vertical-align: middle;\n",
       "    }\n",
       "\n",
       "    .dataframe tbody tr th {\n",
       "        vertical-align: top;\n",
       "    }\n",
       "\n",
       "    .dataframe thead th {\n",
       "        text-align: right;\n",
       "    }\n",
       "</style>\n",
       "<table border=\"1\" class=\"dataframe\">\n",
       "  <thead>\n",
       "    <tr style=\"text-align: right;\">\n",
       "      <th></th>\n",
       "      <th>rating_numerator</th>\n",
       "      <th>rating_denominator</th>\n",
       "      <th>p1_conf</th>\n",
       "      <th>p2_conf</th>\n",
       "      <th>p3_conf</th>\n",
       "      <th>favorite_count</th>\n",
       "      <th>retweet_count</th>\n",
       "      <th>month</th>\n",
       "      <th>year</th>\n",
       "      <th>rating</th>\n",
       "    </tr>\n",
       "  </thead>\n",
       "  <tbody>\n",
       "    <tr>\n",
       "      <th>count</th>\n",
       "      <td>1990.000000</td>\n",
       "      <td>1990.000000</td>\n",
       "      <td>1990.000000</td>\n",
       "      <td>1.990000e+03</td>\n",
       "      <td>1.990000e+03</td>\n",
       "      <td>1990.000000</td>\n",
       "      <td>1990.000000</td>\n",
       "      <td>1990.000000</td>\n",
       "      <td>1990.000000</td>\n",
       "      <td>1990.000000</td>\n",
       "    </tr>\n",
       "    <tr>\n",
       "      <th>mean</th>\n",
       "      <td>12.082412</td>\n",
       "      <td>10.537688</td>\n",
       "      <td>0.593926</td>\n",
       "      <td>1.345171e-01</td>\n",
       "      <td>6.028979e-02</td>\n",
       "      <td>8892.672864</td>\n",
       "      <td>2767.411055</td>\n",
       "      <td>7.157286</td>\n",
       "      <td>2015.846231</td>\n",
       "      <td>1.148643</td>\n",
       "    </tr>\n",
       "    <tr>\n",
       "      <th>std</th>\n",
       "      <td>40.517731</td>\n",
       "      <td>7.325125</td>\n",
       "      <td>0.271784</td>\n",
       "      <td>1.007063e-01</td>\n",
       "      <td>5.092187e-02</td>\n",
       "      <td>12219.538862</td>\n",
       "      <td>4678.857905</td>\n",
       "      <td>4.121933</td>\n",
       "      <td>0.698683</td>\n",
       "      <td>3.966368</td>\n",
       "    </tr>\n",
       "    <tr>\n",
       "      <th>min</th>\n",
       "      <td>1.000000</td>\n",
       "      <td>10.000000</td>\n",
       "      <td>0.044333</td>\n",
       "      <td>1.011300e-08</td>\n",
       "      <td>1.740170e-10</td>\n",
       "      <td>81.000000</td>\n",
       "      <td>16.000000</td>\n",
       "      <td>1.000000</td>\n",
       "      <td>2015.000000</td>\n",
       "      <td>0.100000</td>\n",
       "    </tr>\n",
       "    <tr>\n",
       "      <th>25%</th>\n",
       "      <td>10.000000</td>\n",
       "      <td>10.000000</td>\n",
       "      <td>0.362857</td>\n",
       "      <td>5.407533e-02</td>\n",
       "      <td>1.619283e-02</td>\n",
       "      <td>1973.500000</td>\n",
       "      <td>624.750000</td>\n",
       "      <td>3.000000</td>\n",
       "      <td>2015.000000</td>\n",
       "      <td>1.000000</td>\n",
       "    </tr>\n",
       "    <tr>\n",
       "      <th>50%</th>\n",
       "      <td>11.000000</td>\n",
       "      <td>10.000000</td>\n",
       "      <td>0.587635</td>\n",
       "      <td>1.175370e-01</td>\n",
       "      <td>4.950530e-02</td>\n",
       "      <td>4130.500000</td>\n",
       "      <td>1354.500000</td>\n",
       "      <td>7.000000</td>\n",
       "      <td>2016.000000</td>\n",
       "      <td>1.100000</td>\n",
       "    </tr>\n",
       "    <tr>\n",
       "      <th>75%</th>\n",
       "      <td>12.000000</td>\n",
       "      <td>10.000000</td>\n",
       "      <td>0.844920</td>\n",
       "      <td>1.951377e-01</td>\n",
       "      <td>9.166433e-02</td>\n",
       "      <td>11308.000000</td>\n",
       "      <td>3220.000000</td>\n",
       "      <td>11.000000</td>\n",
       "      <td>2016.000000</td>\n",
       "      <td>1.200000</td>\n",
       "    </tr>\n",
       "    <tr>\n",
       "      <th>max</th>\n",
       "      <td>1776.000000</td>\n",
       "      <td>170.000000</td>\n",
       "      <td>1.000000</td>\n",
       "      <td>4.880140e-01</td>\n",
       "      <td>2.734190e-01</td>\n",
       "      <td>132810.000000</td>\n",
       "      <td>79515.000000</td>\n",
       "      <td>12.000000</td>\n",
       "      <td>2017.000000</td>\n",
       "      <td>177.600000</td>\n",
       "    </tr>\n",
       "  </tbody>\n",
       "</table>\n",
       "</div>"
      ],
      "text/plain": [
       "       rating_numerator  rating_denominator      p1_conf       p2_conf  \\\n",
       "count       1990.000000         1990.000000  1990.000000  1.990000e+03   \n",
       "mean          12.082412           10.537688     0.593926  1.345171e-01   \n",
       "std           40.517731            7.325125     0.271784  1.007063e-01   \n",
       "min            1.000000           10.000000     0.044333  1.011300e-08   \n",
       "25%           10.000000           10.000000     0.362857  5.407533e-02   \n",
       "50%           11.000000           10.000000     0.587635  1.175370e-01   \n",
       "75%           12.000000           10.000000     0.844920  1.951377e-01   \n",
       "max         1776.000000          170.000000     1.000000  4.880140e-01   \n",
       "\n",
       "            p3_conf  favorite_count  retweet_count        month         year  \\\n",
       "count  1.990000e+03     1990.000000    1990.000000  1990.000000  1990.000000   \n",
       "mean   6.028979e-02     8892.672864    2767.411055     7.157286  2015.846231   \n",
       "std    5.092187e-02    12219.538862    4678.857905     4.121933     0.698683   \n",
       "min    1.740170e-10       81.000000      16.000000     1.000000  2015.000000   \n",
       "25%    1.619283e-02     1973.500000     624.750000     3.000000  2015.000000   \n",
       "50%    4.950530e-02     4130.500000    1354.500000     7.000000  2016.000000   \n",
       "75%    9.166433e-02    11308.000000    3220.000000    11.000000  2016.000000   \n",
       "max    2.734190e-01   132810.000000   79515.000000    12.000000  2017.000000   \n",
       "\n",
       "            rating  \n",
       "count  1990.000000  \n",
       "mean      1.148643  \n",
       "std       3.966368  \n",
       "min       0.100000  \n",
       "25%       1.000000  \n",
       "50%       1.100000  \n",
       "75%       1.200000  \n",
       "max     177.600000  "
      ]
     },
     "execution_count": 385,
     "metadata": {},
     "output_type": "execute_result"
    }
   ],
   "source": [
    "twitter_archive_cleaned.describe()"
   ]
  },
  {
   "cell_type": "code",
   "execution_count": 489,
   "metadata": {},
   "outputs": [
    {
     "data": {
      "text/plain": [
       "year  month\n",
       "2015  11       295\n",
       "      12       367\n",
       "2016  1        169\n",
       "      2        111\n",
       "      3        120\n",
       "      4         54\n",
       "      5         57\n",
       "      6         80\n",
       "      7         88\n",
       "      8         59\n",
       "      9         63\n",
       "      10        65\n",
       "      11        53\n",
       "      12        53\n",
       "2017  1         66\n",
       "      2         63\n",
       "      3         48\n",
       "      4         41\n",
       "      5         43\n",
       "      6         44\n",
       "      7         49\n",
       "      8          2\n",
       "Name: tweet_id, dtype: int64"
      ]
     },
     "execution_count": 489,
     "metadata": {},
     "output_type": "execute_result"
    }
   ],
   "source": [
    "z = twitter_archive_cleaned.groupby(['year' , 'month'])['tweet_id'].count()\n",
    "z"
   ]
  },
  {
   "cell_type": "markdown",
   "metadata": {},
   "source": [
    "## Analyze number of tweets :"
   ]
  },
  {
   "cell_type": "code",
   "execution_count": 491,
   "metadata": {},
   "outputs": [
    {
     "data": {
      "text/plain": [
       "Text(0,0.5,'count of tweets')"
      ]
     },
     "execution_count": 491,
     "metadata": {},
     "output_type": "execute_result"
    },
    {
     "data": {
      "image/png": "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\n",
      "text/plain": [
       "<matplotlib.figure.Figure at 0x7f4e9992bc88>"
      ]
     },
     "metadata": {
      "needs_background": "light"
     },
     "output_type": "display_data"
    }
   ],
   "source": [
    "twitter_archive_cleaned.groupby(['year' , 'month'])['tweet_id'].count().plot(kind='bar', figsize=(15,15))\n",
    "plt.title('Number of tweets per month', fontsize=40)\n",
    "plt.xlabel('Months', fontsize=20)\n",
    "plt.ylabel('count of tweets', fontsize=20)\n"
   ]
  },
  {
   "cell_type": "markdown",
   "metadata": {},
   "source": [
    "- Account reached the highest number of tweets in the last two months of the year 2015 with an average of 331 tweets.In 2016, Tweets decreased significantly,  as the average number of tweets for the year 2016 with an 331 tweets.\n",
    "- November had the highest number with 367 tweets, with an average of 12 tweets per day.\n"
   ]
  },
  {
   "cell_type": "markdown",
   "metadata": {},
   "source": [
    "## Analyze interact with account  : "
   ]
  },
  {
   "cell_type": "code",
   "execution_count": 498,
   "metadata": {},
   "outputs": [
    {
     "data": {
      "text/plain": [
       "Text(0,0.5,'Count')"
      ]
     },
     "execution_count": 498,
     "metadata": {},
     "output_type": "execute_result"
    },
    {
     "data": {
      "image/png": "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\n",
      "text/plain": [
       "<matplotlib.figure.Figure at 0x7f4e9b65cb00>"
      ]
     },
     "metadata": {
      "needs_background": "light"
     },
     "output_type": "display_data"
    }
   ],
   "source": [
    "twitter_archive_cleaned.groupby((['year' , 'month']))['retweet_count', 'favorite_count'].mean().plot(kind='bar', figsize=(15,15))\n",
    "plt.title('Interaction with account per months', fontsize=40)\n",
    "plt.xlabel('Months', fontsize=20)\n",
    "plt.ylabel('Count', fontsize=20)"
   ]
  },
  {
   "cell_type": "markdown",
   "metadata": {},
   "source": [
    "- August had the highest number of retweets and favorites, Although it was the month with the lowest number of tweets\n",
    "- Retweets less than favorites always"
   ]
  },
  {
   "cell_type": "markdown",
   "metadata": {},
   "source": [
    "### Does the rating affect the number of Retweets and favorites ؟"
   ]
  },
  {
   "cell_type": "code",
   "execution_count": 502,
   "metadata": {},
   "outputs": [
    {
     "data": {
      "text/plain": [
       "Text(0,0.5,'Count')"
      ]
     },
     "execution_count": 502,
     "metadata": {},
     "output_type": "execute_result"
    },
    {
     "data": {
      "image/png": "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\n",
      "text/plain": [
       "<matplotlib.figure.Figure at 0x7f4e9bd23f98>"
      ]
     },
     "metadata": {
      "needs_background": "light"
     },
     "output_type": "display_data"
    }
   ],
   "source": [
    "twitter_archive_cleaned.groupby('rating')['retweet_count','favorite_count'].mean().plot(kind='bar', figsize=(15,15))\n",
    "plt.title('Distribution of Retweets and Favorites based on Ratings', fontsize=40)\n",
    "plt.xlabel('Rating', fontsize=20)\n",
    "plt.ylabel('Count', fontsize=20)"
   ]
  },
  {
   "cell_type": "markdown",
   "metadata": {},
   "source": [
    "- The dogs with the ratings between 1.3 and 1.4 are retweeted and liked most"
   ]
  },
  {
   "cell_type": "markdown",
   "metadata": {},
   "source": [
    "### Whats highest dog type have interaction ? "
   ]
  },
  {
   "cell_type": "code",
   "execution_count": 516,
   "metadata": {},
   "outputs": [
    {
     "data": {
      "text/plain": [
       "Text(0,0.5,'Count')"
      ]
     },
     "execution_count": 516,
     "metadata": {},
     "output_type": "execute_result"
    },
    {
     "data": {
      "image/png": "iVBORw0KGgoAAAANSUhEUgAAA5gAAAOGCAYAAACJFD9WAAAABHNCSVQICAgIfAhkiAAAAAlwSFlzAAALEgAACxIB0t1+/AAAADl0RVh0U29mdHdhcmUAbWF0cGxvdGxpYiB2ZXJzaW9uIDIuMS4wLCBodHRwOi8vbWF0cGxvdGxpYi5vcmcvpW3flQAAIABJREFUeJzs3Xm4XVV9N/DvjzCEWQSqVKoBBwRlHgQUDFaxPqIiooJUBa04VLFv1WpbtUHbt2i1DnWgti/EOiBKBS1WaxFSRgdQVGQQ0SiTLSIySFGG9f6xz01OLnc4N9nJTcjn8zz7ybn7rL3OOvuee3K+Z629VrXWAgAAACtqndluAAAAAA8MAiYAAAC9EDABAADohYAJAABALwRMAAAAeiFgAgAA0AsBE1hjVNW8qmpj22y3B9ZUVTV/6G9p8Wy3h9VLVR099PpYNNvtAdYsAiYAa72qevXwlxdVtesK1LVxVd0xVNdHpyj7O1X1hqr6QlX9pKpuq6p7Bv/+uKrOqqoPVNUfVtW2y9smAFhVBEyANUhVLR4KLvNnuz0PIKckuWvo55esQF3PS7Lx0M8fH1+gqtavqncmuTbJe5I8O8m8JJsmmTP4d7skv5/kuCSfSHJtVZ25Au1abeghWzWM+gBmg4AJwFqvtfarJF8c2nVUVc1ZzupeOnT7ytba14fvrKoNkvxbkrcmWX/orjuSXJLka0kuSvKTCeqet5xtAoBVQsAEgM7CodsPSfL0mVZQVb+XZP7Qrvv1Xib52yQHD/389SRPTbJ5a22v1tpTW2v7t9a2T/LgJIcl+VSSO2fansm01ha11mqwzeurXh4YWmsLh14f82e7PcCaZd3ZbgAArCa+muSGJL87+PmlSf59hnW8OEu/vL0v3dDWJapqmySvG9r15STPaa3dPVFlrbVbkpye5PSq2iLLEXoBYFXSgwkASVpr9yb55NCu51TVg2ZYzfC1m//ZWrt+3P3PyrJf7r5+snA5Qftuaa19ZobtAYBVSsAEVgtVtW9VnTSYOfN/q+p/quqbVfWWqvqdFah3s6p6XVX9R1X9rKruqqpbquryqjqxqg5ajjofNGjXN6rq5qq6s6qurqpTquqpQ+UWDk2wsWAFnsOSJSWSPGLornPGzXy6zKQpVfWYcft3nsFjPmXouLsHPW/D9y8Yun/h0P6Dq+rUqvrR4LzcVFUXVNWfVNXG93ug6dvx0Kp6Y1V9bdzv7wdV9aGq2memdU5j4dDtDZK8YAZtfUKSHSapa8zw/Te11q6eSeP6MuoyJVW1aKjc0YN961TVYVX1xcGkU78Z/J4XVdUfV9V609WX5OSh3U+e5HU87URWVfXEqnp/VV06eM/4TVXdWFX/VVVvrqoHL++5GPz9/N+q+vag7vuq6lcTHD+3qg6pqvdV1bmDx79r8Pq/bvDe82dVteV0bZmkfY+sqrcOzt21g7r/t6p+WlX/Pqj7keOOWTA4zz8Zt3+y87xgXLkZT8JUVQ8ZnPP/qqrrB7+LX1TVdwfnZq8R65nsvWWfqvp/VXVVVf26qn5VVd+pqr+pqq1GqRtYRVprNpvNNmtbuhkzP5huOGGbZPufdLNpzhveP0LdL0jy31PUO7b9e5LfGbG9T01y4zT1fSLJRukCxti+BStwjuaP8ByGt0VDx549tP+DM3jMTw8dd8YE9y8Yun/h4Pl+cpp2XZNk7xEfv5K8JcntIzzfjyeZ2+Nr8ptDdV8wg+M+MnTcryZqU5KPDZX5xSz+3Q2/phZPUW7RULmjk/xOkv+c5vfxvSQPHaG+Ubb5k9Tzu+kmSpru+F8mOWqm5yLJG5P8doL6fjXu2COT3Dbic7k9yTEz+B1tlOSjSe4eoe77khw2yd/nKNuCcY999NB9i0Zo6+tGOA/3JfmXJBtPU9dw2xcmWS/Je6ep+5YkT5qtvyebzbbs5hpMYLb9U5Jjxu27Kl2Ie0iSHZNsneRLSY4YtdKqenWSD6cLKmNuSPKjdB/cdk7XQ5Ukz0hyXlUd1Fq7YYo656f7UDt3aPevklyR7sPTY5NsmeQP080O+r+jtncav0zyH4PbTx56/G8N7hvve0O3/zHJWC/tH1bVn7XW7prgmCWqu9bvuUO7/mmENp6U5IWD27ekOyfrJNkpyWaD/dsn+WpVzW+tfXeKx1833QfLo8bddXWS69P93h6fbimPpBuWOq+qntZa++0IbZ3OwiR7D27vX1WPaq39aKoDqmr9LH3+SXLqJOf55qHbW1bVrlOdi9XMxumuUx1bI/TaJD9O91rfLcmGg/07J/liVe3XumHHw76ZbjmYh6X7HSbd6+Wbkzzm/V7fVbXDoB0PH9p9V5IfJLk1XQh+XLq//S2SfKKqNmutTboe6bj635Dk7wY//jbJZenC0+8O6h72yCx9HSbJTUkWD8rPHdz/0MF9myQ5qarWb6394zRt2Drd9bl7jrvrZ+nO+71JtknyqMHzrCz9O0u697n/SPc7OXBo/39kYlO+vqdp6wlJ3jxu9+IkP02yebrXw5xBG1+c5FFV9fTW2u0jPsRHkvzR4PYtSa5MF7rH/m9Ikgcl+VJV7dTuPywdWNVmO+HabLa1d0sXxIa/hb4gyU7jyjw6S3vhbhouP0W9+yS5Z6jsT9JNjlJDZTZPckKW7Tk9a7jMuDo3S3LdUNnb033oWW+ozLrpQtEvJ2jvgp7O2eKhOuePUH79dD3AY8e8aIRjjhsqf12SOROUWTBUZux53pHklUnWHyo3N8mfJvnNUPkfDJ+3Cer+m6Gy9yX5UJJtx5VZL8krBo85Vva9PZ3jLdIFlrF63zHCMc8b91reb5JyzxlX7rtJ5s3C3978oTYsnqLcoqFyvxj8+/Uk+4wrt3G6L3SGn9tLp6j36KFyi2bQ7o3TfQE1dux/p5uMaYNx5R6WbubdsXK/TbLnCOfiznTh5e4kb0uy6biyjxz381+me9965fjX6FCZ3dMFu+HHeMQUz3GddEvVDJ/Lz2bce+Og7IMGz//rSY6e4P55w/XM4DyP9PtJN8PxcDsvTfKEcWUekmVHc7QkJ01R54IJXnM3JHl+ht6LBufpj7JsT/PJq/pvyWaz3X+b9QbYbLa1c0vXC/XzoQ8G30yy4SRl10/yX+M+oLQp6r54qNz1k33wG5R947h6j5yk3DuHytyT5KAp6twnywaqWQuYg2PeNXTM2SOU/+5Q+QnDVe4/BO/eJAdPUecR48q/fpJyuw/qGit39DRtfVKWDiG8J8nDezrPnx1qw+JM8sXDUPkvDpW/copy66frhRo+F78ZPN6Lkzy6j/aP8PzmDz+/KcotGtfWczPFcOQkZw6VXTRFuaNHKTfBce8bOu5nSX5vmvIfHSr/nyOci7FtymG1Q8dOOdxzqNw6ST4/VP+7pyj7mnFteeuIj7HJBPvmDdc1g/M87e8n3Zc8NwyV+166pXYmq/ND457XZF/CLBhX7qZM8SVMkjcNlf11ko36+jux2WzLt5nkB5gtz033zXbSfTB4RWttwiGlrRv2+Ip0QWJKVbVvlh1W9vrW2nVTHPLedN/+j3nd+AJVNSfJy4d2/b/W2jmTVdha+2aSD0zX1lVo7Lq/JJk/fkKQYYNJc3YZ/HhfuqGvo1jYWvvqZHe2bvbTLwzteuUkRd+UpRPQfaq1tnCqB22tnZ/u+SXdMLzJ6p2p4cd9RLqhyRMaDGd8xtCuida+TLLktXxMln0tr5+ud+Zfkvywqn45mBjm7VV1YFWtLv9X35su8E81xPrvh24/YTDcuReDoduvGNr1stbatdMc9oZ0vWBJ8tSqeswID/Wl1tqnRmlTa+3XI5a7L91re8xzJio3eK9549CuL7fW/nrEx7hjlHI9el66YbpjXt5au3WK8m9MN2x2zP3eayc7rrW2eIr7P5qllyNslO5LKmAWrS7/aQFrn+Fr/M5t01yH1lr7YSa/fmiyeq9L12swVb0ty4bB/arqIeOK7ZFlP0idOEI7przGalVqrV2Tbphx0l0H9fIpiv/R0O2zpvlgN+wfZlhmx6racfjOqtow3YfWMe8b8bE/PXT790c8Zjr/ke464DEvmaxgkhdl6dIj91v7crzW2tfStfMnkxTZIsnBSY5P13P/08HsnHMnKb+qnNVa+/E0ZS5Kdw6Sbnj0vB4f/7B0Q2ST5LLW2lnTHdBauzPJGUO7njLC43xs+iIzN/g7HAu7j66Jl8DZN8l2Qz8fvzLa0pPh99oLW2vfmqrw4IuJ4ffOZw0C9VRuT3LKNPXekW5o7pgdJysLrBoCJjBbhpeX+MqIx3x5hDJPGC4/6DmYzr9naQ/f+DqSpRO+JMktrbXvTFfh4MPkT6crtwoNB96jJ+pZqm4ZkeGJlEaZ3CdJ/ru1dun0xbIoy058tPe4+5+QrjcvSW5trV0y4uNfNnR796qqSUuOqHWT0wz3Yh1eVRtNUvylQ7fPmqbHfKz+89ItWfKydOdl/GQ4w7ZNd73wpSP2wK0sF05XYDAKYXgioy16fPwDhm5/bQbHDb8+9hih/PkzqHuJqnp4Vb1ssGzKp6vqzKr6yvCWbqKfpPui53cnqGb4OV7fWvvG8rRlFRl+n/zSiMecOXR7k3STMU3l4jbaxF3Df3N9vuaA5WAWWWCVG4SbeUO7Lpuk6HijlHvU0O3vj1Jpa+22qvrpUJseNa7I8GyVV45S58AVWXbdytl0RroJUR6Srjf2mVl2yGrSzYI6NiPmTRPcP5mRfn+ttXur6sosHcL26HFFhtfpXHfwgXym1k83IdNUQ/VGdXKWDlfcNF0P2ieHC1TV47PskLxJh8eO11q7e/AYJ1fVpkn2T/fFy55J9sv9ZyzdIcnXqmrP1tr/zOB59OXnI5a7c+j2ZKF8eQy/Pp5RVY8d8biHDd3eetJSnV+11iaamXlSg9D//iR/kGVnrZ7O5hPsG+59G/ULllVu8B4+/N420nttuvfPe7L08+ejsuys1+PN9msOWA4CJjAbxg8Nu3nCUvc3SrnhuketN+mGrs0b3B7/DfhwnfdbaH0KfYScXrTW7q6qk9OtLZl0Q2HHB8jhobMfHwSgUczkPA+XHf86GF6IfuN0M/8uj83Tw7lvrV1eVRcnGVsg/iUZFzCzbO/lbUlOX87Huj3dsNwlw8AHC9O/ZvAYYyOOtk03y+4rxtexCizPEjAr3Js8ZPj18ZjBNlMThbphoy6dkSSpqielG4Gx8XRlJ7DBBPsePHR7Nr5EGNVyvYe31u6pql8l2Wqwa7rextl+zQHLwRBZYDaM/2A16oeI38yw7pl8OBkuO9EHv+UxyvDcVemfsnQo8DOqaskQvcH1kPsPlf3nGdQ7k/M8/Dscf56X50P6RPr8v23h0O3fr6ptx34YXD82vFbnqZNNVLU8WmsXt9ZeluTQdL0+Y148uF51bdPH62O618bIf7ODXufTsrRdd6S7zvhZ6cLvZumW46mxLdMPmx/+mxjl/W62LO97+Piyfb3XAqsRAROYDbeN+3nTCUvd3yjlhnuuRq13fNnxvZTDdU7XAzJstboWaDBBy38OfpyTbjbTMcOT+5zbWrtqBlUv73ke/zoYPs9fH/5gPsNt8QzaM51TsvSD/jrp1m4dc3CWnfxpYY+Pu0Rr7d/SzTA7ZoPc//rVtcHw6+NVy/namN9je16WpTNh/yrJXq2141prZ7bWrm6t3d5au2fcMdP9rQy/90w0CdDqYvwIgb7ea4EHAAETWOUGwwGHe3q2m6zsONuPUOamGZbPYFKYeZPUkXTr7Y0Z9bqvmZZdVYYn+3lZddZPtwbjmJn0Xiaj//6SZX8n44cA/vfQ7fHXwc6KwfV4/za06yWT3P5ha23aSXBWwPgJrraZsNQD2/DrY/z1u7Ph4KHbH5juS5nBJFrThcbhaw5Xh+c4ocHMrcPv4aO+126VZQPm+Pda4AFAwARmy/BMrPtMWmpZo5T79tDtfUes93FZ9kPPt8fdPzz9/oOratfpKqyq7dLvEg1jhofwLc+1Rl/M0g+x26dbtuE5WTr5ya/SDfubiR0HwwWnVFXbpLuGcMz48zy8HulWo5znVWTh0O0dq2rvqto8y65lOPLkPstp/LWBo14fu7pantfx8Oujr+VoVsTw5F9TLtExsG+m/9w1/Bx3q6rNZtyqZS0z5LePGZaHDL+Hj/peO77ctDNyA2seAROYLecO3X7uoBdtUoPr3V4ww3oPGoSa6QwPe7w1yfg1Ob+dZXsWXjVCna8coczyGF7YfcbX4Q2G7J00tOsVWXZ47CeX4zrC9bLsmniTOXLo9m+SfHPc/ZcluX7o59fMsB0ry1ey7O//pelei2Pnf9q1L3swfkKbG1by461sy/M6Hp5VeLeq2q/H9iyP9YZut0lLLXXM9EVydpZeb7t+kqNn2Kbxfj3u5z6v3R3/Hj7KOq3D77WXt9Z+MWlJYI0lYAKzZbjH5yFJjpum/CsyWo/gZ7J0yvo5Sf7vVIWr6uFJXjvcrvHXTU0UyqrqyVPUuWeSPxmhrctjOOgs7zDSf8rSno3nJnnq0H0zHR475u1TfcAc9Pj92dCu01try1yD2Vpr6ZZ7GPOyqc7zqjLBmphHZNkZd89urV07Sl1V9eTBa25kVbVelv3C4rasxktYjGj4dbz9iD1rZ2XZ5TA+OsXapKvCjUO3D5i0VJKq2j/LfsEyodbaz7PsCIIFwxNLLYdfJblr6Oc+h56flKXBesskb56qcFXtneT5Q7uW970GWM0JmMCsaK1dmWWXdPi/VfWsicpW1VOTvG/Eem9N8qGhXUdX1VsmKjvo3TwzS2eB/PUUj/PuLP1AOSfJvw0WVV/Si1FVc6rqyCRfTTcRy8r4dn54WOkxg+A2I4NJcL46+HH9LP2/4FuttfG9t6N6ZJJTJprddDDM7/NZOiHKvenO50Q+muSHg9vrJvlCVR063YNX1U5V9bGqOnqmDR/RwqHbW2bZReYXZnRPS3J1Vf1TVT1husJVtWW6wDG8IP3JM1hCZnX1/Sztqdsyy17POqHBFxBvzNIvR3ZN8tXpAlhVrVdVh1bVRSP2so1q0dDt1042pLuq9km3JNCon7kWZOmXZFskWVRVj5u8eFJVzxgsmbKMwZcjw+tMHldVvXz2a61dneRzQ7veXlVHTVS2qnZI934/9tg3ZNkv7YAHEOtgArPpuCTz032IWi9dmPhcujByY7qF5p+T5EXpPph8Jl3v0XTenuQZWbow+99W1TPTzcR5dbqFuJ+UrldoeN25P51sBtLW2q1V9YdJ/j1deNw0yf9L8p6qujzdN/mPzdL13U5LF1jH1klcnvXcJnJKkjelu25ttyTXV9W3k9ySpb0Jl7XW3jpNPf+YbmH4Yf+0nG06K8nu6ZbT+F5VnZhumPE6SfZM8uokvzdU/r2ttQmvvWqt/bqqnpvkwnQz9m6e5PSq+ka618Vl6XrwNk7y0MHj/n6Sxw+qGH9dZy9aa5dV1SXpns+w2wbtmon10w1L/qOq+lGS/0o3XPiGdD1OG6RbxP6JSZ6XZWcu/lGSv5rxE1jNtNZuq6oz071mkmRhVf1Fkmuy7N/KW1trlw0d99Wqelu6tUCT7hz9aPC+cXa6Cbl+m24ynUelW8P0GVk5Mzp/LF2v3YZJNkly4eC1f3a618XDkhyS7j1rTro1TnfKsn8L99Nau6qqXp3ui4tK9+XNd6vqtHTDhH+WLmRvk2424UPTTbR1TJLzJ6jy01l6/frLkzyzqi7LssNnP9Na+8wMnvuYP07Xe7tNur/3Tw6+ZDt10M7N042Q+KMsO6T85YMvA4EHotaazWazzdqWrifotnThaKrtq+k+MC7ZN029v5NuAonp6h3b3jBiew9ON7xvqrpOSReAPjO07497PGfvnObxF41Qx7rprnccO+aOJJvOoA0Lho5dmC6s3jnCef50knVGqP+x6XoyR/39jW2vWomv1ddO8Hj/NMM6jl+O5zS2fTPJ7/b0XOYP1bt4inKLhsodPWLdi4eOmT9FuXlJrp3mOU94fLovLX67HOdw7vKei0na8aJ0PfLTPe730/XUjnRuBnUfle5a5VGf24S/n3Rf3p09zbELxh1z9NB9U76fpJvtdvGIbfxtkiNm8t4y4u9h4WTPxWazrfrNEFlgVrXWvpGuJ+6rkxS5Ld11lM/IsovNT1fv/yTZL8lfJrl5iqLnJ9m/tfbeEev9apIdB/VenK7n8K4kP07y2STPaK0d2Vr7dbqQO6a34bKttbelm/31k0muShcO2wzruCfJ5UO7PtO65WOWt01fSbJ/Jp9N8+Ykr0tyVGtt2sXsWzeEetckb8j0i9PfkW4pkSOzktaiHPh07t8TPdPHe0e6QPP+dEMXpz0XSS5K1/O0b2ttTZ/cZ4nWjRbYNcmfp5sw5n8yYk9/a+2j6YYN/0uWDiedzOJ0w+b3bq3dNU3ZGWmtfTpdL+U1kxS5I8k/JNmntTbV+9BEdX8qXY/n8FqsE/lVutEU50xSz93phmYfne6SgGuz7BIjK6R1Q2V3TfKe3H+24zH3JflSkt3a8vWUAmuQam1Gn0kAVprB0h4HphtudXu6YHF2a226D5DT1TsnXU/pTumGsP4m3RDcc1fWB/bBY96cpcMbH9umWSdvVaqq3003hG3OYNe+g7A/6vELsnSo5sdba0cP3fe4JHsk+d10w/B+mOSctgLXDQ6u4dozXWjfZFDvz5NcmW5I8Bp5TeLgGtrHpeud3yrd8O270n2xck2SS2caTNY2gxmo90t3DrdM95q+LV2wvKy1Nt0XFH20Yew9Zvd0f/O/TPf3tWhF378G9W+U7r3xEeme493pAvnlSb7dumstZ93gd/GkdL2aW6YL2NenOw9ex7CWEDABVoKqemG6IbJJ13v5O201esMdXMf2jsGP32+t7TLD4xdkkoAJAKy9DJEFGNGoi5QPZrUcno32X1azcLlxusk5xnx4ttoCADywCJgAo3tKVX21ql44WHpjGVU1t6pemu46xG0Gu2/Lsms7zqrBMg0fztIlQ36e7jo2AIAVZpkSgNFVuskynpbkvqr6cbprOe9Ot9zJTumWoBhzb5JjW2vXruqGDquq49JNCrRRusk4hicfemtrrbcJPwCAtZtrMEew1VZbtXnz5s12M4BZdtttt+Xqq68eqex6662XRzziEdl8882nL7ySLV68ODfffP/5NbbYYotsv/32y1XnDTfckBtvvDFJsuWWW8Z7JAA8sF1yySW/aK1tPV05PZgjmDdvXi6++OLZbgawGrjkkkty5pln5qKLLsr111+fm266Kb/85S+z4YYbZquttsoee+yRgw8+OC9+8Yszd+7c2W5ukuToo4/Oxz/+8STJRhttlJ122ikve9nL8spXvjLrrLN8V0osWLAgxx9/fJLkkEMOycKFC/tqLgCwGqqqkWbl1oM5gr322qsJmAAAwNqqqi5pre01XTmT/AAAANALARMAAIBeuAYTAABYqe6+++5cd911ueuuu2a7KUxj7ty52XbbbbPeeust1/ECJgAAsFJdd9112XTTTTNv3rxU1Ww3h0m01nLzzTfnuuuuy3bbbbdcdRgiCwAArFR33XVXttxyS+FyNVdV2XLLLVeop1nABAAAVjrhcs2wor8nARMAAIBeuAYTAABYpea95Uu91rf4hGf2Vtf73//+HHvssdloo416q3PYGWeckcc85jHZaaedVkr9o1i0aFHWX3/97L///r3XrQcTAABYq7TWct9990143/vf//7ceeedK+2xzzjjjFx++eUrrf5RLFq0KBdeeOFKqVvABAAAHvAWL16cHXfcMa95zWuyxx575BOf+ET222+/7LHHHnn+85+fO+64Ix/84Adzww035KCDDspBBx2Uz372s/nTP/3TJMkHPvCBbL/99kmSa665Jk960pOSJJdcckme/OQnZ88998zTn/703HjjjUvK/MEf/EH23HPPHHDAAbnyyitz4YUX5otf/GLe9KY3Zbfddss111wzYVt/9KMf5alPfWp23XXX7LHHHrnmmmvSWsub3vSmPP7xj8/OO++cU089NUkXFg855JAlx772ta/NwoULkyTz5s3LX/3VX2WPPfbIzjvvnCuvvDKLFy/OiSeemPe9733Zbbfdct555/V6ng2RBQAA1gpXXXVVTj755LzjHe/IYYcdlrPOOisbb7xx3vWud+Xv//7v8/a3vz1///d/n3POOSdbbbVVfv7zn+fv/u7vkiTnnXdettxyy1x//fU5//zzc8ABB+Tuu+/O6173unzhC1/I1ltvnVNPPTV/+Zd/mZNOOinHHntsTjzxxDz60Y/ON77xjbzmNa/J2WefnWc/+9k55JBDcvjhh0/azqOOOipvectb8tznPjd33XVX7rvvvnz+85/PpZdemu9+97v5xS9+kb333jsHHnjgtM95q622yre//e185CMfyXve85788z//c171qldlk002yRvf+Mbezu0YARMAAFgrPOIRj8i+++6bM888M5dffnme+MQnJkl++9vfZr/99rtf+Yc+9KG54447cvvtt+faa6/Ni170opx77rk577zzcthhh+Wqq67KZZddlqc97WlJknvvvTfbbLNN7rjjjlx44YV5/vOfv6Su3/zmNyO18fbbb8/111+f5z73uUmSuXPnJknOP//8HHnkkZkzZ04e8pCH5MlPfnK+9a1vZbPNNpuyvsMOOyxJsueee+bzn//8SG1YEQImAACwVth4442TdNdgPu1pT8spp5wy7TH77bdfTj755Oywww454IADctJJJ+Wiiy7Ke9/73vzsZz/L4x73uFx00UXLHHPbbbflQQ96UC699NIZt7G1NqP966677jLXk45fw3KDDTZIksyZMyf33HPPjNszU67BBAAA1ir77rtvLrjggvzoRz9Kktx555354Q9/mCTZdNNNc/vtty8pe+CBB+Y973lPDjzwwOy+++4555xzssEGG2TzzTfPDjvskJtuumlJwLz77rvzgx/8IJtttlm22267fO5zn0vShcPvfve7E9Y/3mabbZZtt902Z5xxRpKu5/POO+/MgQcemFNPPTX33ntvbrrpppx77rnZZ5998ohHPCKXX355fvOb3+TWW2/N1772tWmf/3RtWBF6MAG3cO/YAAAgAElEQVQAgFWqz2VFlsfWW2+dhQsX5sgjj1wydPWv//qv85jHPCbHHntsnvGMZ2SbbbbJOeeckwMOOCDXXnttDjzwwMyZMye/93u/l8c+9rFJkvXXXz+nnXZajjvuuNx6662555578id/8id53OMel0996lN59atfnb/+67/O3XffnSOOOCK77rprjjjiiLziFa/IBz/4wZx22ml55CMfeb/2feITn8grX/nKvP3tb896662Xz33uc3nuc5+biy66KLvuumuqKu9+97vz0Ic+NEnyghe8ILvsskse/ehHZ/fdd5/2+T/rWc/K4Ycfni984Qv5h3/4hxxwwAG9nduarKuVpfbaa6928cUXz3YzAABgjXTFFVdkxx13nO1mMKKJfl9VdUlrba/pjjVEFgAAgF4YIgsAADAL/viP/zgXXHDBMvte//rX55hjjpmlFq04ARMAAGAWfPjDH57tJvTOEFkAAAB6IWACAADQCwETAACAXgiYAAAA9MIkPwAAwKq1YPOe67u13/pYbnowAQCAB7wPfvCD2XHHHXPUUUetlPovvvjiHHfccUmSRYsW5cILL1wpj7OiFi9enE9/+tMrrX49mAAAwAPeRz7ykXz5y1/Odttt13vd99xzT/baa6/stddeSbqAuckmm2T//ffv/bFW1FjAfNGLXrRS6teDCQAAPKC96lWvyo9//OM8+9nPzrve9a7sv//+2X333bP//vvnqquuSpI84QlPyA9+8IMlx8yfPz+XXHJJfvnLX+bQQw/NLrvskn333Tff+973kiQLFizIsccem4MPPjgveclLsmjRohxyyCFZvHhxTjzxxLzvfe/LbrvtlvPOOy833XRTnve852XvvffO3nvvnQsuuGDStt5xxx055phjsvPOO2eXXXbJv/7rvyZJTjnllOy88855/OMfnze/+c1Lym+yySZLbp922mk5+uijkyRHH310jjvuuOy///7Zfvvtc9pppyVJ3vKWt+S8887Lbrvtlve97339nOAhejABAIAHtBNPPDFf+cpXcs4552T99dfPG97whqy77ro566yz8hd/8Rf513/91xxxxBH57Gc/m+OPPz433nhjbrjhhuy555553etel9133z1nnHFGzj777LzkJS/JpZdemiS55JJLcv7552fDDTfMokWLkiTz5s3Lq171qmyyySZ54xvfmCR50YtelP/zf/5PnvSkJ+VnP/tZnv70p+eKK66YsK3vfOc7s/nmm+f73/9+kuSWW27JDTfckDe/+c255JJLssUWW+Tggw/OGWeckUMPPXTK533jjTfm/PPPz5VXXplnP/vZOfzww3PCCSfkPe95T84888yezu6yBEwAAGCtceutt+alL31prr766lRV7r777iTJC17wgjztaU/L8ccfn89+9rN5/vOfnyQ5//zzl/QiPuUpT8nNN9+cW2/tJhV69rOfnQ033HDaxzzrrLNy+eWXL/n5tttuy+23355NN910wrKf+cxnlvy8xRZb5Nxzz838+fOz9dZbJ0mOOuqonHvuudMGzEMPPTTrrLNOdtppp/z3f//3tO3sg4AJAACsNd72trfloIMOyumnn57Fixdn/vz5SZKHPexh2XLLLfO9730vp556av7xH/8xSdJau18dVZUk2XjjjUd6zPvuuy8XXXTRSGG0tbak/uF9kxkue9dddy1z3wYbbDBSHX0SMAEAgFVrFpcVufXWW/Owhz0sSbJw4cJl7jviiCPy7ne/O7feemt23nnnJMmBBx6YT33qU3nb296WRYsWZauttspmm2025WNsuummue2225b8fPDBB+dDH/pQ3vSmNyVJLr300uy2224THjtW9v3vf3+SbojsE57whLz+9a/PL37xi2yxxRY55ZRT8rrXvS5J8pCHPCRXXHFFdthhh5x++ukT9oqOb9vtt98+ZZkVYZIfAABgrfFnf/Zn+fM///M88YlPzL333rvMfYcffng+85nP5AUveMGSfQsWLMjFF1+cXXbZJW95y1vy8Y9/fNrHeNaznpXTTz99ySQ/H/zgB5fUsdNOO+XEE0+c9Ni3vvWtueWWW/L4xz8+u+66a84555xss802+du//dscdNBB2XXXXbPHHnvkOc95TpLkhBNOyCGHHJKnPOUp2WabbaZt2y677JJ11103u+6660qZ5KdWVVfpmmyvvfZqF1988Ww3AwAA1khXXHFFdtxxx9luBiOa6PdVVZe01vaa7lg9mAAAAPTCNZgAAACr2Mknn5wPfOADy+x74hOfmA9/+MOz1KJ+CJgAAMBKN9HsqGuzY445Jsccc8xsN+N+VvQSSkNkAQCAlWru3Lm5+eabV9lSGSyf1lpuvvnmzJ07d7nr0IMJAACsVNtuu22uu+663HTTTbPdFKYxd+7cbLvttst9vIA5ihu+kyzYfLZbAQAAa6T1kmw3241YXcziGqCrgiGyAAAA9ELABAAAoBcCJgAAAL0QMAEAAOiFgAkAAEAvBEwAAAB6IWACAADQCwETAACAXgiYAAAA9ELABAAAoBcCJgAAAL0QMAEAAOiFgAkAAEAvBEwAAAB6IWACAADQCwETAACAXgiYAAAA9ELABAAAoBcCJgAAAL0QMAEAAOiFgAkAAEAvBEwAAAB6IWACAADQCwETAACAXgiYAAAA9ELABAAAoBcCJgAAAL0QMAEAAOiFgAkAAEAvBEwAAAB6IWACAADQCwETAACAXgiYAAAA9ELABAAAoBcCJgAAAL0QMAEAAOiFgAkAAEAvBEwAAAB6IWACAADQi9UqYFbVvKq6sqo+XlXfq6rTqmqjqlpcVVsNyuxVVYsGtxdU1Seq6uyqurqqXjHYP7+qzq2q06vq8qo6sarWGdx3ZFV9v6ouq6p3zdqTBQAAeIBZd7YbMIEdkry8tXZBVZ2U5DXTlN8lyb5JNk7ynar60mD/Pkl2SvLTJF9JclhVXZjkXUn2THJLkq9W1aGttTPGV1pVxyY5NknmbLZ15t118oo/M2ClWnzCM2e7CQAAa7XVqgdz4NrW2gWD259M8qRpyn+htfa/rbVfJDknXbBMkm+21n7cWrs3ySmDevZOsqi1dlNr7Z4kn0py4ESVttY+1lrbq7W215yNNl/R5wQAAPCAtzoGzDbBz/dkaVvnjlB+sv21wq0DAABgQqtjwHx4Ve03uH1kkvOTLE43rDVJnjeu/HOqam5VbZlkfpJvDfbvU1XbDa69fOGgnm8keXJVbVVVcwb1/9dKeyYAAABrkdUxYF6R5KVV9b0kD07y0STHJ/lAVZ2X5N5x5b+Z5EtJvp7kna21Gwb7L0pyQpLLkvwkyemttRuT/Hm6obTfTfLt1toXVvLzAQAAWCusjpP83Ndae9W4feclecwk5X/YWjt2gv13ttZeOH5na+3TST69gm0EAABgnNWxBxMAAIA10GrVg9laW5zk8TMov2CS/YuSLOqjTQAAAIxGDyYAAAC9EDABAADohYAJAABALwRMAAAAeiFgAgAA0AsBEwAAgF4ImAAAAPRCwAQAAKAXAiYAAAC9EDABAADohYAJAABALwRMAAAAeiFgAgAA0AsBEwAAgF4ImAAAAPRCwAQAAKAXAiYAAAC9EDABAADohYAJAABALwRMAAAAeiFgAgAA0AsBEwAAgF4ImAAAAPRCwAQAAKAXAiYAAAC9EDABAADohYAJAABALwRMAAAAeiFgAgAA0AsBEwAAgF4ImAAAAPRCwAQAAKAXAiYAAAC9WHe2G7Am2Plhm+fiE545280AAABYrenBBAAAoBcCJgAAAL0QMAEAAOiFgAkAAEAvBEwAAAB6IWACAADQCwETAACAXgiYAAAA9ELABAAAoBcCJgAAAL0QMAEAAOiFgAkAAEAvBEwAAAB6IWACAADQCwETAACAXgiYAAAA9ELABAAAoBcCJgAAAL0QMAEAAOiFgAkAAEAvBEwAAAB6IWACAADQCwETAACAXgiYAAAA9ELABAAAoBcCJgAAAL0QMAEAAOiFgAkAAEAvBEwAAAB6IWACAADQCwETAACAXgiYAAAA9ELABAAAoBcCJgAAAL0QMAEAAOiFgAkAAEAvBEwAAAB6IWACAADQCwETAACAXgiYAAAA9ELABAAAoBcCJgAAAL0QMAEAAOiFgAkAAEAvBEwAAAB6IWACAADQCwETAACAXgiYAAAA9ELABAAAoBcCJgAAAL0QMAEAAOiFgAkAAEAvBEwAAAB6IWACAADQCwETAACAXgiYAAAA9ELABAAAoBcCJgAAAL0QMAEAAOiFgAkAAEAvBEwAAAB6IWACAADQCwETAACAXgiYAAAA9ELABAAAoBcCJgAAAL0QMAEAAOiFgAkAAEAvBEwAAAB6IWACAADQCwETAACAXgiYAAAA9ELABAAAoBcCJgAAAL0QMAEAAOiFgAkAAEAvBEwAAAB6IWACAADQCwETAACAXgiYAAAA9GLd2W7AGuGG7yQLNp/tVgB9WXDrbLcAAOABSQ8mAAAAvRAwAQAA6IWACQAAQC8ETAAAAHohYAIAANALARMAAIBeCJgAAAD0QsAEAACgFwImAAAAvRAwAQAA6IWACQAAQC8ETAAAAHohYAIAANALARMAAIBeCJgAAAD0QsAEAACgFwImAAAAvRAwAQAA6IWACQAAQC8ETAAAAHohYAIAANALARMAAIBeCJgAAAD0QsAEAACgFwImAAAAvRAwAQAA6IWACQAAQC8ETAAAAHohYAIAANALARMAAIBeCJgAAAD0QsAEAACgFwImAAAAvRAwAQAA6IWACQAAQC8ETAAAAHohYAIAANALARMAAIBeCJhJqmrObLcBAABgTTerAbOq5lXVlVX18ar6XlWdVlUbVdXiqtpqUGavqlo0uL2gqj5RVWdX1dVV9YrB/vlVdW5VnV5Vl1fViVW1zuC+g6vqoqr6dlV9rqo2GexfXFVvr6rzkzx/ds4AAADAA8e6s92AJDskeXlr7YKqOinJa6Ypv0uSfZNsnOQ7VfWlwf59kuyU5KdJvpLksEEwfWuSp7bWfl1Vb07yp0neMTjmrtbakyZ6kKo6NsmxSTJns60z766Tl/f5rfUWn/DM2W4CAACwCqwOAfPa1toFg9ufTHLcNOW/0Fr73yT/W1XnpAuWv0ryzdbaj5Okqk5J8qQkd6ULnRdUVZKsn+SiobpOnexBWmsfS/KxJNlgm0e3mT4pAACAtc3qEDDHh7eW5J4sHb47d4Tyk+2vJP/ZWjtyksf+9QzaCQAAwBRWh0l+Hl5V+w1uH5nk/CSLk+w52Pe8ceWfU1Vzq2rLJPOTfGuwf5+q2m5w7eULB/V8PckTq+pRSTK4vvMxK+2ZAAAArMVWh4B5RZKXVtX3kjw4yUeTHJ/kA1V1XpJ7x5X/ZpIvpQuP72yt3TDYf1GSE5JcluQnSU5vrd2U5Ogkpwzq/3qSx67cpwMAALB2Wh2GyN7XWnvVuH3nJZmsp/GHrbVjJ9h/Z2vtheN3ttbOTrL3BPvnzbShAAAATG516MEEAADgAWBWezBba4uTPH4G5RdMsn9RkkV9tAkAAIDlowcTAACAXgiYAAAA9ELABAAAoBcCJgAAAL0QMAEAAOiFgAkAAEAvBEwAAAB6IWACAADQCwETAACAXgiYAAAA9ELABAAAoBcCJgAAAL0QMAEAAOiFgAkAAEAvBEwAAAB6IWACAADQCwETAACAXgiYAAAA9ELABAAAoBcCJgAAAL0QMAEAAOiFgAkAAEAvBEwAAAB6IWACAADQCwETAACAXgiYAAAA9ELABAAAoBcCJgAAAL0QMAEAAOiFgAkAAEAvBEwAAAB6IWACAADQCwETAACAXqw72w1YE+z8sM1z8QnPnO1mAAAArNb0YAIAANALARMAAIBeCJgAAAD0QsAEAACgFwImAAAAvRAwAQAA6IWACQAAQC8ETAAAAHohYAIAANALARMAAIBeCJgAAAD0QsAEAACgFwImAAAAvRAwAQAA6IWACQAAQC8ETAAAAHohYAIAANALARMAAIBeCJgAAAD0QsAEAACgFwImAAAAvRAwAQAA6IWACQAAQC8ETAAAAHohYAIAANALARMAAIBeCJgAAAD0QsAEAACgFwImAAAAvRAwAQAA6IWACQAAQC8ETAAAAHohYAIAANALARMAAIBeCJgAAAD0QsAEAACgFwImAAAAvRAwAQAA6IWACQAAQC8ETAAAAHohYAIAANALARMAAIBeCJgAAAD0QsAEAACgFwImAAAAvRAwAQAA6IWACQAAQC8ETAAAAHohYAIAANALARMAAIBeCJgAAAD0QsAEAACgFwImAAAAvRAwAQAA6IWACQAAQC8ETAAAAHohYAIAANALARMAAIBeCJgAAAD0QsAEAACgFwImAAAAvRAwAQAA6IWACQAAQC8ETAAAAHohYAIAANALARMAAIBeCJgAAAD0QsAEAACgFwImAAAAvRAwAQAA6IWACQAAQC8ETAAAAHohYAIAANALARMAAIBeCJgAAAD0QsAEAACgFwImAAAAvRAwAQAA6IWACQAAQC8ETAAAAHqx7mw3YI1ww3eSBZvPdisAAIAHqgW3znYLeqEHEwAAgF4ImAAAAPRCwAQAAKAXAiYAAAC9EDABAADohYAJAABALwRMAAAAeiFgAgAA0AsBEwAAgF4ImAAAAPRCwAQAAKAXAiYAAAC9EDABAADohYAJAABAL2YUMKvq4VW12TRlNq2qh69YswAAAFjTzLQH8ydJXj9NmeMG5QAAAFiLzDRg1mADAACAZayMazAfkuTXK6FeAAAAVmPrTlegql4ybtduE+xLkjlJHp7kxUm+30PbAAAAWINMGzCTLEzSBrdbkucMtvHGhs7emeT4FW4ZAAAAa5RRAuYxg38ryUlJzkjyhQnK3Zvk5iQXtdZ+1U/zAAAAWFNMGzBbax8fu11VL01yRmvtX1ZqqwAAAFjjjNKDuURr7aCV1RAAAADWbCtjFlkAAADWQjMOmFX15Ko6s6r+p6rurqp7J9juWRmNBQAAYPU1oyGyVfXMdJP8zEnysyRXJREmAQAAmFnATLIgyd1Jntla+2r/zQEAAGBNNdMhso9PcqpwCQAAwHgzDZh3JPnlymgIAAAAa7aZBsyvJdlvZTQEAACANdtMA+abkzyyqt5aVbUyGgQAAMCaaaaT/PxVkh8kOT7Jy6rq0iS/mqBca629fEUbBwAAwJpjpgHz6KHb8wbbRFoSARMAAGAtMtOAud1KaQUAAABrvBkFzNbaT1dWQwAAAFizzXSSHwAAAJjQjHowq+rho5Ztrf1s5s0BAABgTTXTazAXp5vAZzptpnVX1XFJXp1ksySnt9ZeO8O2paq2TnJmkvWTHNdaO2+mdQAAALB8Zhow/yUTB8wHJdktySOSLEqyPNdqvibJM5I8Ocley3F8kvx+kitbay8d9YCqmtNau3c5Hw8AAICBmU7yc/Rk91XVOkneluRVSUYOeINjT0yyfZIvJjlpaP8jBj9vneSmJMe01n420f4kD07y7iQbDtbn3C/JAenW7NwgyTWD4++oqsWD4w9O8qEkn5lJewEAALi/am2UEa8zqLDqoiQ/bq0dNcPjFqfruTwkyV6ttddW1b8lOa219vGqelmSZ7fWDp1i/9FDx26V5PNJntFa+3VVvTnJBq21dwwe6yOttXdP0Z5jkxybJHM223rPbV998gzPBMDKt/iEZ852EwCAtUBVXdJam3ak6cqYRfbCdD2DfdgvyacHtz+R5EnT7B+2b5Kdklww6NF8abohvGNOneqBW2sfa63t1Vrba85Gmy9n8wEAANYeM70GcxQPTrLxSqg3mXyCoYn2V5L/bK0dOckxv+6nSQAAACQ992BW1VOTvDDJZT1VeWGSIwa3j0py/jT7h309yROr6lGDtm1UVY/pqV0AAACMM9OlRM6eop7fSzK2TuY7VqRRQ45LclJVvSlLJ/OZav8SrbWbBtdknlJVGwx2vzXJD3tqGwAAAENmNMlPVd03yV0tyS1JvpnkPa21yYLoGmmDbR7dtnnp+2e7GQD3Y5IfAGBVGHWSn5kuU7IyJgUCAADgAUBgBAAAoBcrNItsVW2WZPMkt7bWbuunSQAAAKyJZtyDWVVzquotVfWjdNddLk5yS1X9aLB/ZSx9AgAAwGpuprPIrp/kK0menG5in2uT3JhkmyTzkvxNkj+oqoNba7/tt6kAAACszmbag/mnSeYn+VKSHVtr81pr+7XW5iXZIcm/JTlgUA4AAIC1yEwD5ouSXJbk0Nba1cN3tNauSXJYkh8kOaqf5gEAALCmmGnAfFSSL7fWJlwPc7D/y0keuaINAwAAYM0y04D52ySbTFNm4yR3L19zAAAAWFPNNGB+L8nhVbX1RHdW1VZJDk/y3RVtGAAAAGuWmQbMDyXZOsk3q+rlVbV9VW1YVdtV1TFJvjG4/0N9NxQAAIDV24yWKWmtfbaqdkvyliQfm6BIJXl3a+2zfTQOAACANceMAmaStNb+oqq+mOTlSXZPsnmSW5N8J8lJrbWL+m0iAAAA/7+9uw+27a7rO/75Nhco4SEBoRSDQxykChaamBuIICG0M6BkKFK1kLYKNm1ahVo6pS1Up0l50DAMrTotUFAgzEATxFLpNFIgJqGAASNheJCmIF4kJg3ahCQDBkz49o+94hxOz8l9+t7sc+59vWbu7HN+e+21fyfzu/ued/Zaa+8GBx2YSdLdVyW5anguAAAA7GL7PQezqu5TVR+rqsuq6l53s929l22uurvtAAAAODodyEV+/m6S05K8tru3/fiR7v5GktckecLyGAAAAI4hBxKYfyvJF7r70v1t2N3vTfK5JD92uBMDAABgdzmQwDw1yRUHsc8PJjnlkGYDAADArnUggfmQJDcexD5vTPJthzYdAAAAdqsDCcw/TXL/g9jn/ZPcfmjTAQAAYLc6kMD8UpLTD2Kfe5P84aFNBwAAgN3qQALziiRnVNXe/W1YVacleVKSyw9zXgAAAOwyBxKY/yFJJ/m1qnrMdhtV1fck+bUkdyZ53cz0AAAA2C327G+D7r62ql6e5IIk11TVu5L8VpLrsgrPRyT5G0l+JMl9kvyb7r72iM0YAACAHWm/gZkk3f3yqrojyflJ/k6SczZtUkn+LMnPdvcvzE4RAACA3eCAAjNJuvvnq+rtSf5+kicneXhWYXl9kg8leUt3f/GIzBIAAIAd74ADM0mWgDz/CM0FAACAXexALvIDAAAA+yUwAQAAGCEwAQAAGCEwAQAAGCEwAQAAGCEwAQAAGCEwAQAAGCEwAQAAGLFn3RPYDR530gm5+sKz1z0NAACAHc07mAAAAIwQmAAAAIwQmAAAAIwQmAAAAIwQmAAAAIwQmAAAAIwQmAAAAIwQmAAAAIwQmAAAAIwQmAAAAIwQmAAAAIwQmAAAAIwQmAAAAIwQmAAAAIwQmAAAAIwQmAAAAIwQmAAAAIwQmAAAAIwQmAAAAIwQmAAAAIwQmAAAAIwQmAAAAIwQmAAAAIwQmAAAAIwQmAAAAIwQmAAAAIwQmAAAAIwQmAAAAIwQmAAAAIwQmAAAAIwQmAAAAIwQmAAAAIwQmAAAAIwQmAAAAIwQmAAAAIwQmAAAAIwQmAAAAIwQmAAAAIwQmAAAAIwQmAAAAIwQmAAAAIwQmAAAAIwQmAAAAIwQmAAAAIwQmAAAAIwQmAAAAIwQmAAAAIwQmAAAAIwQmAAAAIwQmAAAAIwQmAAAAIwQmAAAAIwQmAAAAIwQmAAAAIwQmAAAAIwQmAAAAIwQmAAAAIwQmAAAAIwQmAAAAIwQmAAAAIwQmAAAAIwQmAAAAIwQmAAAAIwQmAAAAIwQmAAAAIwQmAAAAIwQmAAAAIwQmAAAAIwQmAAAAIwQmAAAAIwQmAAAAIwQmAAAAIwQmAAAAIwQmAAAAIwQmAAAAIwQmAAAAIwQmAAAAIwQmAAAAIwQmAAAAIwQmAAAAIzYs+4J7ArXX5NccMK6ZwEAsD4X3LLuGQC7gHcwAQAAGCEwAQAAGCEwAQAAGCEwAQAAGCEwAQAAGCEwAQAAGCEwAQAAGCEwAQAAGCEwAQAAGCEwAQAAGCEwAQAAGCEwAQAAGCEwAQAAGCEwAQAAGCEwAQAAGCEwAQAAGCEwAQAAGCEwAQAAGCEwAQAAGCEwAQAAGCEwAQAAGCEwAQAAGCEwAQAAGCEwAQAAGCEwAQAAGCEwAQAAGCEwAQAAGCEwAQAAGCEwAQAAGCEwAQAAGCEwAQAAGCEwAQAAGCEwAQAAGCEwAQAAGCEwAQAAGCEwAQAAGCEwAQAAGLGjA7OqLqiql6x7HgAAAOzfjg5MAAAAdo8dF5hV9bNVdW1VfSDJdy9jp1TVVVX1yap6d1U9aBk/fRn77ap6TVV9ehk/vqreudx3SVV9tKr2LvedU1WfqqpPV9Wr1/aDAgAAHGX2rHsCG1XVaUmel+TUrOb28SS/m+RtSf5Jd19ZVS9Pcn6SFyd5S5LzuvsjVXXhhl39dJKbu/vxVfVXk3xi2f+3J3l1ktOS3JzkfVX1w939X7eYy3lJzkuS4x740Jx8+1uOyM8MR6t9F5697ikAAHAP22nvYD4lybu7+2vdfWuS9yS5X5ITu/vKZZuLkpxZVScmeUB3f2QZf8eG/fxAkouTpLs/neSTy/jpSa7o7j/u7juSvD3JmVtNpLvf2N17u3vvccefMPgjAgAAHJ12WmAmSR/gdnUI993dYwAAADgMOy0wP5jkOVV136p6QJJnJflqkpur6inLNj+e5MruvjnJbVV1xjL+vA37+VCSv50kVfXYJI9bxj+a5KlV9ZCqOi7JOUmuDAAAAIdtR52D2d0fr6pLsjpn8otJ/udy1/OTvKGqjk/yhSQ/uYyfm+RNVfXVJFckuWUZf12Si6rqk0muyeoQ2Vu6+4aqelmSy7N6N/PS7v6NI/+TAQAAHP12VGAmSXe/KsmrttBvUZ4AAA/DSURBVLjrjC3GPtPdj0+SqnppkquX8duT/L3uvr2qHpXksqyCNd39jnzr+ZoAAAAM2HGBeZDOXt6R3JNVQL5gGT8+yeVVda+s3qn8qe7+xnqmCAAAcGzY1YHZ3ZckuWSL8duS7L3nZwQAAHDs2mkX+QEAAGCXEpgAAACMEJgAAACMEJgAAACMEJgAAACMEJgAAACMEJgAAACMEJgAAACMEJgAAACMEJgAAACMEJgAAACMEJgAAACMEJgAAACMEJgAAACMEJgAAACMEJgAAACMEJgAAACMEJgAAACMEJgAAACMEJgAAACMEJgAAACMEJgAAACMEJgAAACMEJgAAACMEJgAAACMEJgAAACMEJgAAACMEJgAAACMEJgAAACMEJgAAACMEJgAAACMEJgAAACMEJgAAACM2LPuCewGjzvphFx94dnrngYAAMCO5h1MAAAARghMAAAARghMAAAARghMAAAARghMAAAARghMAAAARghMAAAARghMAAAARghMAAAARghMAAAARghMAAAARghMAAAARghMAAAARghMAAAARghMAAAARghMAAAARghMAAAARghMAAAARghMAAAARghMAAAARghMAAAARghMAAAARghMAAAARghMAAAARghMAAAARghMAAAARghMAAAARghMAAAARghMAAAARghMAAAARghMAAAARghMAAAARghMAAAARghMAAAARghMAAAARghMAAAARghMAAAARghMAAAARghMAAAARghMAAAARghMAAAARghMAAAARghMAAAARghMAAAARghMAAAARghMAAAARghMAAAARghMAAAARghMAAAARghMAAAARghMAAAARghMAAAARghMAAAARghMAAAARghMAAAARghMAAAARghMAAAARghMAAAARghMAAAARghMAAAARghMAAAARghMAAAARghMAAAARghMAAAARghMAAAARghMAAAARghMAAAARghMAAAARghMAAAARghMAAAARghMAAAARghMAAAARghMAAAARghMAAAARghMAAAARghMAAAARghMAAAARghMAAAARghMAAAARghMAAAARuxZ9wR2heuvSS44Yd2zANjaBbesewYAAEm8gwkAAMAQgQkAAMAIgQkAAMAIgQkAAMAIgQkAAMAIgQkAAMAIgQkAAMAIgQkAAMAIgQkAAMAIgQkAAMAIgQkAAMAIgQkAAMAIgQkAAMAIgQkAAMAIgQkAAMAIgQkAAMAIgQkAAMAIgQkAAMAIgQkAAMAIgQkAAMAIgQkAAMAIgQkAAMAIgQkAAMAIgQkAAMAIgQkAAMAIgQkAAMAIgQkAAMAIgQkAAMAIgQkAAMAIgQkAAMAIgQkAAMAIgQkAAMAIgQkAAMAIgQkAAMAIgQkAAMAIgQkAAMAIgQkAAMAIgQkAAMAIgQkAAMAIgQkAAMCIPeuewE5VVeclOS9JjnvgQ3Py7W9Z84yOfvsuPHvdUwAAAA6DdzC30d1v7O693b33uONPWPd0AAAAdjyBCQAAwAiBCQAAwAiBCQAAwAiBCQAAwAiBCQAAwAiBCQAAwAiBCQAAwAiBCQAAwAiBCQAAwAiBCQAAwAiBCQAAwAiBCQAAwAiBCQAAwAiBCQAAwAiBCQAAwAiBCQAAwAiBCQAAwAiBCQAAwAiBCQAAwAiBCQAAwAiBCQAAwAiBCQAAwAiBCQAAwAiBCQAAwAiBCQAAwAiBCQAAwAiBCQAAwAiBCQAAwAiBCQAAwAiBCQAAwAiBCQAAwAiBCQAAwAiBCQAAwAiBCQAAwAiBCQAAwAiBCQAAwAiBCQAAwAiBCQAAwAiBCQAAwIg9657AbvC4k07I1Reeve5pAAAA7GjewQQAAGCEwAQAAGCEwAQAAGCEwAQAAGCEwAQAAGCEwAQAAGCEwAQAAGCEwAQAAGCEwAQAAGCEwAQAAGCEwAQAAGCEwAQAAGCEwAQAAGCEwAQAAGCEwAQAAGCEwAQAAGCEwAQAAGCEwAQAAGCEwAQAAGCEwAQAAGCEwAQAAGCEwAQAAGCEwAQAAGCEwAQAAGCEwAQAAGCEwAQAAGCEwAQAAGCEwAQAAGCEwAQAAGCEwAQAAGCEwAQAAGCEwAQAAGCEwAQAAGCEwAQAAGCEwAQAAGCEwAQAAGCEwAQAAGCEwAQAAGCEwAQAAGCEwAQAAGBEdfe657DjVdVtSa5d9zzgIDwkyZ+sexJwkKxbdiPrlt3IuuVQPLK7H7q/jfbcEzM5Clzb3XvXPQk4UFV1tTXLbmPdshtZt+xG1i1HkkNkAQAAGCEwAQAAGCEwD8wb1z0BOEjWLLuRdctuZN2yG1m3HDEu8gMAAMAI72ACAAAwQmACAAAwQmDejar6waq6tqo+X1UvXfd8oKr2VdWnquoTVXX1Mvbgqnp/VX1uuX3QMl5V9cvL+v1kVX3fhv08f9n+c1X1/HX9PBydqurNVfXlqvr0hrGxdVpVpy1/Dz6/PLbu2Z+Qo802a/aCqvqj5fX2E1X1zA33vWxZf9dW1TM2jG/5e0NVfWdVfXRZy5dU1b3vuZ+Oo1VVfUdVXV5Vn62qz1TVP13Gvd6yVgJzG1V1XJL/mOSHkjw2yTlV9dj1zgqSJE/r7lM2fH7VS5Nc1t2PTnLZ8n2yWruPXv6cl+T1yeofniTnJ3likickOf+uf3xgyFuT/OCmscl1+vpl27set/m54GC9NVuvo3+/vN6e0t2XJsnyu8Dzknzv8pjXVdVx+/m94dXLvh6d5OYk5x7Rn4ZjxR1J/nl3PybJGUleuKw5r7eslcDc3hOSfL67v9Dd30hycZJnr3lOsJVnJ7lo+fqiJD+8YfxtvXJVkhOr6uFJnpHk/d19U3ffnOT98Q8Gg7r7g0lu2jQ8sk6X+x7Y3b/dq6vUvW3DvuCQbLNmt/PsJBd399e7+w+SfD6r3xm2/L1hecfnryd51/L4jesfDll339DdH1++vi3JZ5OcFK+3rJnA3N5JSb604fvrljFYp07yvqr63ao6bxl7WHffkKz+sUnyl5bx7dawtc06TK3Tk5avN4/DkfCi5VDCN294R+dg1+y3JflKd9+xaRzGVNXJSU5N8tF4vWXNBOb2tjrG3Ge6sG5P7u7vy+owlxdW1Zl3s+12a9jaZic52HVq/XJPeX2SRyU5JckNSV67jFuz7ChVdf8kv57kxd19691tusWYtcs4gbm965J8x4bvH5Hk+jXNBZIk3X39cvvlJO/O6pCsG5fDWLLcfnnZfLs1bG2zDlPr9Lrl683jMKq7b+zuO7v7m0nelNXrbXLwa/ZPsjoUcc+mcThsVXWvrOLy7d39X5Zhr7eslcDc3u8kefRy5bd7Z3VC/3vWPCeOYVV1v6p6wF1fJ3l6kk9ntS7vuuLb85P8xvL1e5L8xHLVuDOS3LIcKvM/kjy9qh60HPL19GUMjqSRdbrcd1tVnbGc2/YTG/YFY+76BX3xnKxeb5PVmn1eVd2nqr4zqwuffCzb/N6wnLt2eZIfXR6/cf3DIVteA381yWe7+99tuMvrLWu1Z/+bHJu6+46qelFWf+mOS/Lm7v7MmqfFse1hSd69XCF8T5J3dPd7q+p3kryzqs5N8odJfmzZ/tIkz8zqAhRfS/KTSdLdN1XVK7L6ZShJXt7dB3pxC9ivqvrPSc5K8pCqui6rqxNemLl1+lNZXfXzvkl+c/kDh2ybNXtWVZ2S1SGB+5L8oyTp7s9U1TuT/F5WV/F8YXffuexnu98b/lWSi6vqlUmuySoK4HA9OcmPJ/lUVX1iGfvX8XrLmtXqf6wBAADA4XGILAAAACMEJgAAACMEJgAAACMEJgAAACMEJgAAACMEJgDsMlXVVXXFuucBAJsJTAA4QEvYbfxzZ1XdVFVXVNULlg8jn3iefVW1b2JfAHBP2rPuCQDALvRvl9t7JfmuJM9J8tQke5O86B54/sdk9UHpALCjVHevew4AsCtUVSdJd9em8Scn+WCSSvKo7v6Dw3yefcvznHw4+wGAe5pDZAHgMHX3h5P8r6wC87SN91XVvavqRVV1aVV9saq+vhxW+4Gq+qFN2561ROwjkzxy0+G4b92w3f93DmZVXbCMn1VVP1pVH6uqry3PdXFVnbTV3Kvq9Kp6X1XdVlW3LvP6/o37m/hvBMCxwSGyADDjrnc1/2zT+IOT/FKSjyR5f5I/TvLwJM9KcmlV/cPu/pVl231ZHX774uX7X9ywn08c4Dx+OsnfTPKeJFcmeWKS5yb5a1V1Snd//c8nXPWUJO/L6lDfX0/y+0kel+TyJL91gM8HAH/OIbIAcIDu5hDZM7OKsjuSnNzdN2y47z5JHtrd1216zAlJPpzk25Oc1N1/uuG+fcvznHw387iyu8/aMHZBkvOT3Jbkyd39qQ33vSPJOUme293vXMb+QpJrszqH9Jnd/Zsbtv/HSV6/fPu07r7ibv/DAMDCIbIAcJCWw0cvqKpXVdUlST6Q1TuYL9kYl0nS3V/fHJfL+C1J3pzkQUlOH5zeL2+My8WbltsnbBh7UlZxefnGuFy8Mcn/HpwTAMcIh8gCwME7f9P3neTc7n7LVhtX1fcm+RdJzszq8Ni/uGmTLc+PPERXbzH2peX2QRvGTl1uP7R54+7+ZlV9JMlfGZwXAMcAgQkAB+muQ2Sr6n5Jvj/JryZ5Q1V9sbu/5dzFqjojq/MZ9yS5LKtzI29N8s0kpyR5dpL7DE7vK1uM3bHcHrdh7ITl9sZt9rPdOABsS2ACwCHq7q8m+UBVPSvJx5NcVFXf3d0bP6Py55LcN1ucy1hVL8sqMNfh1uX2Ydvcv904AGzLOZgAcJi6+5NZnef4iCT/bNPd35Xkpm0ulPPUbXZ5Z7713cYj4Zrl9gc237FcAOhJR/j5ATgKCUwAmPHKJLcneUlVbTzXcV+SB1fV4zduXFXnJnnGNvv6v0keWlX3PRITXXw4q48ledrmz+NMcl6cfwnAIRCYADCgu/8oyX9KcmKSf7nhrrs+y/JDVfUrVfXaqroyqyu1vmub3V2W1XmZ762qV1TVzy2H4U7O95tJ/kGSryd5T1VdvFwV978tc77ryrLfnHxeAI5uAhMA5vxCkq8l+ZmqeliSdPd7kzwrye8leW6Sc7OKuqcl+e/b7OeVSd6Q5FFJXpbkFUl+ZHqyy2G7T01yRZKzk/xMlvNFk3xh2ezWrR4LAFup7l73HACAHaaqPpzkiUlOWC5mBAD75R1MADhGVdXxVXXiFuMvyOoiP+8TlwAcDO9gAsAxqqq+J6uryb4/yeez+viyU7O6suxXkjypuz+7vhkCsNsITAA4Ri1Xu31NVudh/uWsLiz0f5J8IMmruvv31zg9AHYhgQkAAMAI52ACAAAwQmACAAAwQmACAAAwQmACAAAwQmACAAAw4v8Bruo22E0Sw94AAAAASUVORK5CYII=\n",
      "text/plain": [
       "<matplotlib.figure.Figure at 0x7f4e9908a438>"
      ]
     },
     "metadata": {
      "needs_background": "light"
     },
     "output_type": "display_data"
    }
   ],
   "source": [
    "twitter_archive_cleaned.groupby('dogs_type')['retweet_count','favorite_count'].mean().plot(kind='barh', figsize=(15,15))\n",
    "plt.title('dog type VS interaction', fontsize=35)\n",
    "plt.xlabel('Rating', fontsize=20)\n",
    "plt.ylabel('Count', fontsize=20)"
   ]
  },
  {
   "cell_type": "markdown",
   "metadata": {},
   "source": [
    "- puppo have the highest interaction"
   ]
  },
  {
   "cell_type": "markdown",
   "metadata": {},
   "source": [
    "### What's most Rated dog type ? "
   ]
  },
  {
   "cell_type": "code",
   "execution_count": 512,
   "metadata": {},
   "outputs": [
    {
     "data": {
      "text/plain": [
       "Text(0,0.5,'Dog type')"
      ]
     },
     "execution_count": 512,
     "metadata": {},
     "output_type": "execute_result"
    },
    {
     "data": {
      "image/png": "iVBORw0KGgoAAAANSUhEUgAAA4QAAAOkCAYAAAD+4voNAAAABHNCSVQICAgIfAhkiAAAAAlwSFlzAAALEgAACxIB0t1+/AAAADl0RVh0U29mdHdhcmUAbWF0cGxvdGxpYiB2ZXJzaW9uIDIuMS4wLCBodHRwOi8vbWF0cGxvdGxpYi5vcmcvpW3flQAAIABJREFUeJzs3Xn8bVVdN/DPVwYxQUC5IjE6oKGmplecFXMI63k0Z60nxFTUpzLzSbM0Q+1RK5+ywTQsJXMeEi2HnHJA0gQnckBBEEgUUFGcEGE9f+zzk/M7/IZz7j3n/u696/1+vfaL395n7b3XGfblfM5ae61qrQUAAID+XGOjKwAAAMDGEAgBAAA6JRACAAB0SiAEAADolEAIAADQKYEQAACgUwIhAGwHqur4qmpjy2EbXackqaqjJup17EbXCYD5EQgBdmJVdezEl/mVliuq6pKq+kpVvbuqnldVt93ougMAiycQAmxDE0HsxI2uz8g1kuyd5JAk90ny+0lOq6qTq+qIDa3ZhBUC7lEbXSdItt8WXoD1CIQArOYuST4hdAHAzmvXja4AANvUm5P87sS2ytBCePMkD07ywNG2JNkjyVuq6ojW2te2WS0BgG1CIAToy3dba+es8tinkrymqo5OclKSa46275PkD5I8afHVAwC2JV1GAVimtfauJH84sfmRVVUrlQcAdlwCIQAreWmSK8bW90tyiw2qCwCwILqMAlusqvZNctckB2foVvj1JCe31s5YZ7+9ktw9yU2TXCvJhUk+3lr79BzqdOskt0xy/SS7j459dpJTWms/2orj7pfktklunOF+u12SfG/s+J9prX1v62q//WitXVpVZ2S4r3DJwUn+a9pjjFoUb5bkiCQHJdkryWVJvpnkixne8y1+T+apqg5Icsck+ye5bpJLklyQ5MOttYu38ti7JLlbksOTXC/JRUm+Mjr2ZVtz7K1VVbdKcpskByS5NMn5ST7SWvvGnM9zeJLbZXh9r5Xk4iTnZXgNvj+H4982ya2S3CDJdzI8j1O29r3rRVXtmeEzenCGz//Xk3wuyX+21tocjr+w6wuYg9aaxWKxrLgkOTZJG1uOGm0/LMmrk/xw4vGl5d1JbrTC8a6b5G+T/GCV/T6V5A5bUM9rZbjH7bxVjtsyfNl9RZKDZjz23UfP54o1jt2S/DjJfyZ5epJdJ45x4jr7rrgs6D08cYZ9PzKx769M+V48LMkbMnzpX+s5fj/Jy5McPsVxZ3791nuuGXrJ/FqST65xjCuSfCDJXbbgtd81ydMyfLle6dgXJ/mzJHuNyh8/8fhhC7y275/hC/9K9bosyeuS3HhU9qiJx4+d8hy7JHlCki+t8fr+IMNAR0ds4fP4tSRfXuN5vD7JIVvzPNY5/2Fb+Nk8frT/TSe2v34L6rDf6LkuHeN9K5RZ8blnCGgnZPj3caV6npPk17fwtVno9WWxWOa36DIKzKSq7prhf/C/kqsGHZl0nyQfq6pbju13s9F+T8wwcuVKbp3kg1V13xnqc/MMX2z/b4ZWqNXsmSEcfbGqfnXKY/9xkg9meD7r/Xu5S5LbJ3n+6Fw7g70m1n84xT5/l+FL+EMztIat5VpJHp3k01X1yNmrt+Wq6pAkH0/yygwtZKu5RpJ7JDm5ql447X2UVbVPkg8n+ZMMrdUruV6GEV8/XlUHT1v3rVGDv03y1gwttyvZPcnDk3yyqu61hef56SSnJnlJkpusUXSPJA9K8pmqetoMx9+tqt6U4f274SrFds/w48R2O3VKa+2LSf59bNMvV9V6182kYzI81yV/P81Oo9bhTyV5XFb/N+vQJP9QVSdV1e6rlFnp2Au9voD50mUUmMXhGVo09h6tn53k9Ay/8t84Q5ewpf+h75fkzVX1s0n2TfK+JAeOHvtaktMydO06KMmdctW/R9fMMNLlzdo63dZG3UPfn6HlcdzZGbo2/jDJjTJ09Vyq17WS/FNVXbu1dsIax35skmdMbL4swxeo80bH3jPDL+y3SHKdteq6o6mqa2Xo7jnunCl2nQzO30zy2QytYd/PEDJvlqFlZPw9eXVVXdJae+eW1nlaox8R3pPkpyceOj/JZzJ0Z9s7yeYM7++S/5PhPX/COsffI8m7ktxh4qFvZPiSfMno3HfM8EX+ZknenuQdsz+bmb0ow48y4y5L8tEMXfj2TXLk6L97JXlLkqfOcoKqOijJyRnCxLgLMvwodGmGrol3yPBDSjJc/39SVddprT1zitO8JsMUKeN+MHoeX8vQhX1zkk0Zgvc/J3nyLM9jGzohyT1Hf++eoVXtRTPs/5ixv7+Z4bmuZ1OSd2boYpsk303yHxmu0+tn+Df5p8bKPyDJ66vqQa21ttaBF319AQuw0U2UFotl+11y9e6G3xr99/MZdR+dKH/rJGdN7POEDF92W4YvBA9MUhP73TBDQBzf70/XqdseuXqXtzOT3GuFsjfK8OVnvOwPk9xqlWPvkuFL5VLZH2XoCrrnKuUrQ+h8ToYvvftMPL5fhq5lh03U4U1j26+2LOg9PHHK/R63wnu/2xT7vSrDl76nZI2uoKP3/O8nznFhkmuvUn7pdfndiX0escZruN8Kx9kzyRkTx3hPkiNXeV8fmOS/J8o/fJ3X4AUT5b+T5LjJ1y9D6PrrsXLfnNhvLp+BsfP9wsTxr8wQPPaeKLd7htD43VXqdewa56gMP/6Ml/9akockucZE2f0ztCBNdiM8ep3n8esT5X+c4dq79kS5XZL8aq7qujzZhXnV5zHDa7rr2OftRRPHv+san819xo6xdK/z0n6nz3D+O0+c80WrlDtqotzSv+U/ytDd/loT5a+d5Nmj13Z8v8evU5+FX18Wi2X+y4ZXwGKxbL9Lrh4mWobWnuuusc8tJ75ELH3x+GpG9/Ksst/SoBZtrPw11ij/zIl6fSnJ9dcof40M97WN7/ORVcreYaLcM2d4zXZfp94zh7M5v4frnjNDsP/WxH5/MeX5Vn2PVyn/lInzPHHG53PUjOd78eQX6Ez8QLHCPgePPo9L+5yfVcJxhu6Rl4+V/UGSu61z/N9f4TqbayAcff7PnDj+766zz1FZ+T7hY9fY539NlL0wyU3XOc8LJ/b5Sibuwx0ru0euHuyOWef4t8rQKjX189jC1/j4LX3/kvzpxL53nHK/l0/sd8s13svJ539lkoetc/xHT+xzSZLrbNT1ZbFYFrO4hxCY1TGttW+u9mBr7b8y/CK8ZJ/Rf5/YWjt3jf0uyDBQzZIDcvUui0mSqto1y7u9LX0pvHCN41+ZoWvVV8c237mqNq9Q/JCJ9besdtwVzvOj0bl2GKP7yvauqjtV1QszdLvbZ6zIeUn+eJpjrfUer1L+z5N8YmzTw2fZfxZVtX+Wd687OcnvtNbaWvu11s5L8vixTQdmaPFayeOz/HaMF7TWPrzO8Z8/qssi3S9Dt+4lH2itvXCtHVprH8gQ1mbxpIn132rDfXJr+b0MXbGXHJLkl1cp+7Asvzf1ja21V6518NbaZ3L17t/bmxMy/Du25DGrFVwyGq35YWObPjb693da/9hae8NaBVprr8gw6M+SvTOE/pXqsy2uL2ABBEJgFh9orZ02Rbn3T6yfleRtW7DfrVcp9/NZfn/Ku1pr/7HewVtrl2b4JX7cil9uJmyaosyO4lFV1caXDC0FlyQ5JcN9POOD/pyd5BfanKchmPDWsb83j6ZpWIRfz/KBkJ613pfVJa21f8kwmuWSX1ql6K+M/f2DJH8+Zd2eO2W5LTU5kNJUAT/D9TLNYEKpqptmGFhpyedaa69fb7/W2hUZWtfGrXZdPnRi/U+mqVuSl2Xo+rpdaq2dmeWDyzxiNBXEWh6RoWvnkqkGkxnzf6cs95yJ9dUG5doW1xewAAIhMIt3T1nurIn19075xeDMifXVgtidJ9ZfO1Wtrio7XpfJYyXDPTDjnjMaZKUn/53kjzLcZ/n5rT1YVe1SVftU1cFVddj4kmFQkyXXztqjxW6Nnx/7+xsZRpCdxXhL310mH6yqQ7P8h4p3jn6EmMb7RnValDuN/X1xloePVbXWvpNhgJxpTF5Lr5tyv2QYUOeSNY61ZHygnq9M+QNV2jDf5b/OUJ+NMD7I1Z5Z3vq3kseO/f3dzPZ6f2IUQtc1amH9wtim260y4uhCry9gcYwyCsziC+sXSTIMojFuzYnq19hvtZE7bzex/rEpj5/W2oVVdXaGgWaS5DZVtcuolWLJ6RkGrFmalP1uSc6oqhOSvHkeAWkHcJ0k326tfXdLdh61bjwwQ9e/W2d4vacdUn7fDPeRzc1oOPvxUHRWkkNmHOX+B2N/H1pV15joHnzbifIfn/bArbUrquoTGaY4mauq2jfDQCZLTpuxW/PHs3oXznFbc11ePnr+S6FiU1UdPOpOmOQnk5uP/0g03tV4Gp/IMEXD9uotSS7KVc/xsRnuEbya0ZQ+R45tet2M1+rUn82x8j8z+vuaGUZW/uRYfbbF9QUsiEAIzOLbU5b78Zz2222VcuNfCluu3rK4njNyVSDcLcN9MT/pTtZaa1X1+AytNku/hB+coVvfc6vqaxnuj/lwhm60n5nx/BvpzRlG6hx3vQxTBDwgQ5fHXTNMOfCiqvrp1trvzXKCqjo2Q1fDLe1qu4gpPPbN8u51R2boDrulanTM8Va9/SfKTLaUr+fMLCAQZj71msbk+/2lGc9zRpa3Mm3KcP/qksn5+c7LbGYtv0211n5UVa9IsjQf452q6uattc+tUPxxE+uzdhfd2s/A5Nya2+L6AhZEl1FgFlv6a+28f+UdH/Dke1vwK/JkQN13skBr7eQMI/Ot1Cp6gwyDHvxlhknVz66qZ49aYrZ3322tnTOxnNZa++fW2qMyTCI9PvDO06rqEdMevKqeneQV2br7Lhfx/6bJuSrnYfIer30m1idbvNcz7Q8ns9pW9Zr3eSavp70n1qftjrtk1vpshJdlncFlquqaWX6P5emttalbY0e29r2ZfK+3xfUFLIhACOzophq0YMJU/ZhGA9XcMsME2G/K6oNSHJbkWUnOqqr/uQX12W601j6b5EFJxrvQvriq1g14VXWPDK/DuI9mmFri7hnmHtwrye6ttVpaMgxtv2irtTZvjfU+R7N+NmfqX7cVtlW95n2eH02sz/qeXnP9IhtrdF/f+OBax6xwv96DsjyAzdo6mMz/vdmI6wuYE4EQ2BGNDz6xZ1XN+m/ZZJfEb61WsLV2xaj17KEZJpi/VZInZBicZjIg7pvkzVV1txnrs10ZtTb89dim6+bqIw2u5A8n1p/UWrtTa+0vWmsfHrVGfre1dvlEub22pr5Tmnyv/nE8lG7hcs7EMS+ZWJ9s0VrPIrrKJtuuXvM+z+R1Obk+a4v8jtCCnyR/N/b3fhm6co8bH0zmsiSv2oJzbO17M/leb4vrC1gQgRDYEV009ndl+fxq07jp2N+XZ8oucW1wemvt71prv5LhPpoHJPnsWLHdMvvcbdujP84wcuGSx1TVDVcrPBpE5u5jm97bWvvr1cpPuMEW1G9W38jyVs/DF3COr0+sz/q5vMm8KjJhcn7ORdXroon1WZ/PTSfWJ4/31Sx/D28x4/FnLb9RTsry9+wn3UZH1+A9xx7757bGvLBr2NrPwORnaltcX8CCCITAjmhyqPk7rFhqBaOujzca2/SpiRFGpzZqPXxbhi9oF4w9dORokuYd1mjewRePbdotyR+sscuhWd5t7N9mON0dZ6naDGWv2qm1Hyc5dWzT5qqad4vc5KiXt1+x1ApGcy9OjlI6F6PAcM7YptvN2Ko+7fPYmuty1ywfpfSi8RFGk6S19v0k4xOv33Y0Ofu07r5+ka2yRZ/Nqx1kaEF/xdim+1TVIaO/H5PlXSlftoWnmfqzuUL5y7L8R7BtdX0BCyIQAjuiUybWHz7Dvo/M8i9U605ov57W2kUZ5lEbd+gqxcfn3FtpLq/tyV9k+aTkjxr7YjppsgvaVINWVNVBme2L+mUT67O8hu+d2O9XViu4JVprX8nyAXnuN0NguVeuPormPI1/zvfL8lamVY2+1B895Tm25rr8xSwfqGS163J8/sQ9MkzOvq6qullWn9twXrbmszlpfHCZayR59OhHg2PHypyV5ANbePzbVtVULbhVdatcNeVEMkxbMnk/Z7Lg6wtYHIEQ2BH9e5a3yP1iVW1eb6equnaSp05s3pL7b1YyGYBW+sKULO+eui26Sm6x1trXs3wetN2SrDYFxeQ9RZPd/1bznMw2BdJk995ZXsN/yPKpTZ5VVfvNsP80XjP297UyDKgzjcn7L+ft1RPrz5xyv6dlCF7raq19MctbiW5ZVQ9cb79Ra+XkYESrXZeTA6isO7rvaI68F61XjznYms/mMq21szJMe7Pk0Ul+KcmBY9v+obW2Na2Sz5iy3OR7M/lZ+kl9svjrC1gAgRDY4Yy6VL10bNM1kryyqlZtYRl96fz7JAeNbf5oa+1qEzRX1S9U1dTdGKvqp7J84u7Lk3x5leJnjP19+9G9d9uzP83yL3mPGU0QPumsJN8fWz9mrfcjSarqCZl9hNEzJtanaulKktba2UlOHNt0QJK3zfqltaruXlWrBd6/y/LX6+lVddd1jvf7SdYsMwfvzPLP5FFVNTkf5TJVdVSuPmfleibvG/3bqrrRiiWv8vws7y56XoZJ2q9mNAruv4xtOiDJ21f7rFXVbhm6Pk/byrk1tvizuYrxwWUOTfI3Y+s/zvLP8pZ4VFU9dK0CozlFHzy26dtZJaxvo+sLWACBENhR/VmWfwE7IslHRlMfLDMaiOFfsrx72Y+SPHGVY98pyX9U1Uer6snrDKZyqwz3y42X+ZfW2mpdJj809veeGb7MPrCqjqiqw8aX1c65LY26Qb52bNM1c/VW1rTWLkvyr2ObNiV5T1XdcrJsVe1fVS9J8pLRpotnqM+Xk5w/tumYqvqzqrpbVd1k4jVc6Yvo/8nyuSXvlGEuySeMWpBXVFU3raqnVtVpST6Y5fehjtfvzCT/b2zTHkneUVWPG4WT8WPuW1V/leR5o02TraxzM5qr8zcmNv9pVf1FVS3r7ltVu1XVEzNcM9ecsV6vyvD6LLlBkg+PPuPLphGoqutPTMS+5Amje9JW87+zvEX+Tkm+UFXHjz4HN62q21fVbyb5ZK66zt84w/PYEh9P8oOx9d+rqmdU1R2r6sYTn83JefxW8tYsH6jo4LG/395auyBb7pIMXedfXVV/UFXXGn+wqq5dVcfn6i2yv7fGv23Jgq8vYEFaaxaLxbLikuF+lTa2HDXlfkdN7HfslPsdNrHf8euU/7kMQ9G3ieXMDCP1vT7Jfya5cuLxK5M8cY3jHr/CMS/K0FX1TUn+KcnbRueZLPetJIeu8xx/sMJ+V1sW9B6euAXHuPnEa/i9JJtWKbfSc/tkktcleUOSj2UYjXDpsS8l+e1ZPmcZuq2u+/qt9lwzjIB4zgrlL8/wpf4to/f4pCQnZ/jyPFn26DXqt0eG+Rcn97k4w72mrxl9li4be+z0JC+YKH/YAq7pv1yhXj/MMPfdazK0JH5j7LFLM0yzMvX1nOSQJOeucJ7zM4TM145e18tXKPOCGf6N+d6Un4OWIQweNbHtUQt4fV8yZX3W/Ldt7HjPX2X//zFjvSaf+9My3O+6tP6dDD9svSbJezKMMDx5zrckqSnOtdDry2KxzH+Z5b4NgO1Ka+2TVXX3DC1T44Od3DirD6v+wySPb629csbT7ZfhS9Vazk1y/za0qq2otXbOqBvWKzLcY7bda619rqremqu6xf5UhpaAp69Q7pgMrUTjA2rcZrRM+mKGrnz3mLFKL8zQxXDN7m6raa19aXTP6auS/MLYQ7sm2Txa1vLjLJ+SY/L4P6yqo5O8K8tH2rxekvutsMuZSf5HZu8+uyWenOG9ecLYtmtm5e6N38swCfrkvJFraq2dW1V3SfL2JD879tCBWX4P3Lgrkvxha+35U57jA1V1rwzX0c+sU/yFGT6r953Yvup7uBWemuGHkXmNaPqyDD+AjLeu/neG4L41LswwkM+7M7Tm75Wrvz7j3pbk4a21tt6BF319AfOnyyiwQ2utnZ6hu+gfZvkIj5O+m+Qfk9xsijD4Nxkmf35LpuvO+OUMg3Qc0Vr79BR1fv2ozs/OMErgBVne1Wx79LyJ9f9dVdedLNRae2OG++E+vMaxvjo63u3acN/RTNow3cfDktwnw6A3n87QMjt1cGmtXdxaOzrD6J7vytVHiJx0WYb36neTHNxaO3md41+S4XV4eq4+Z9uSb2UY7GTzWj8izFMbPDFDuP/8KsUuT/LmJLdtrb1nC89zXoZpNH4zw/2lq7ksQ0vRracNg2Pn+GiSW2doBX97hh9kLstwzX4ywyi5t2ytPbUNU8tMdtOcav7RGev03Qzh+kEZWts+NzrPWl1g1zrel7N89M4keUXbwqlyJo79qQw/1Lwiy+//HfeVJI9trT2grTyy6GrHXuj1BcxXTfFjD8AOo6puk6FVYlOGlpCLMgS2j8zyhWbimDdJcrMMrZB7J9klQ1e6ryb5dGvtS3Oo+k5nNJjIXXLVaIsXZHgvPtqGe9q2G1W1R4b5EA/L0JK3R4YfES7McE/U51trP1z1AGsfe9ckd8sw8up1M3wmv5LkQ22493LDjK6X22R4jy7N0K3zI621qe/rnPI8N8sQEPfP0DL+jQwB7sOtte/N81xr1OHZWT5i5q1GPyht16rqjUkeMlptSW486w8powGC/n1s06NbayeOPb5XhlbNg5Psm+Fz/9kkH5umVXCK8y/s+gK2nkAIAOz0qup9SX5+tHpZkj3b2oPXbLhRK/wFuaoL9ntba/fZguMclTUCIdA3XUYBgJ1aVd04y++T/MT2HgZHHpXl9+O+bKMqAuy8BEIAYKc1mu7iJVk+MMtrNqg6Uxt1Nf6tsU1fzyrzMwJsDYEQANihVNXTR3M77r5Oub0yTHky3s1y1cnVtzNPzvL5TV/aWptpxFeAaZh2AgDY0RyUYY6+F4wGXTk5yRkZRm79qQyDo9wzwwik15vY97dHo8BuN6pqzwxT21SSA5I8OMmTxop8O8OItABzt1MOKrPffvu1ww47bKOrAQAswLnnnpuLLrpo5v3233//HHTQQQuo0da5+OKL85WvrD7zyCGHHJJNmzZt8fEvvfTSfPGLX/zJ+qGHHpr99ttvi48H7BhOO+20i1tr6/7jsVO2EB522GE59dRTN7oaAMACPOtZz8pzn/vcqcsfeOCBed7znpdjjjlmgbXacieeeGIe/ehHr/jY4x73uJxwwglbdfwPfOADuec9rxpT5/jjj8+xxx67VccEtn9VNdUctztlIAQAdl7Pec5zcswxx+Sd73xnTjnllHzhC1/I+eefn0svvTRXXnll9tlnn1z/+tfPkUcemXvf+9558IMfnGte85obXe2pVFX23XffbN68Occdd1we/OAHb3SVgJ3cTtlldPPmzU0LIQAA0KuqOq21tnm9ckYZBQAA6JRACAAA0CmBEAAAoFMCIQAAQKcEQgAAgE4JhAAAAJ0SCAEAADolEAIAAHRKIAQAAOiUQAgAANApgRAAAKBTAiEAAECnBEIAAIBOCYQAAACdEggBAAA6JRACAAB0SiAEAADolEAIAADQKYEQAACgUwIhAABApwRCAACATgmEAAAAnRIIAQAAOiUQAgAAdEogBAAA6JRACAAA0CmBEAAAoFMCIQAAQKcEQgAAgE4JhAAAAJ0SCAEAADolEAIAAHRKIAQAAOiUQAgAANApgRAAAKBTu250BQBgFj/7jz+70VXYqZz+qNM3ugoAbCAthAAAAJ0SCAEAADolEAIAAHRKIAQAAOiUQAgAANApgRAAAKBTAiEAAECnBEIAAIBOCYQAAACdEggBAAA6JRACAAB0SiAEAADolEAIAADQKYEQAACgUwIhAABApwRCAACATgmEAAAAnRIIAQAAOiUQAgAAdEogBAAA6JRACAAA0CmBEAAAoFMCIQAAQKcEQgAAgE4JhAAAAJ0SCAEAADolEAIAAHRKIAQAAOiUQAgAANApgRAAAKBTAiEAAECndt3oCgAAAIv14ie8f6OrsNP4jZf+/EZXYa60EAIAAHRKIAQAAOiUQAgAANApgRAAAKBTGxoIq+rlVXVhVf3XKo//alV9ZrScUlW33tZ1BAAA2FltdAvhiUmOXuPxs5Pco7V2qyTPTXLCtqgUAABADzZ02onW2oeq6rA1Hj9lbPWjSQ5adJ0AAAB6sdEthLN4TJJ3bnQlAAAAdhY7xMT0VXXPDIHwrmuUOS7JcUlyyCGHbKOaAQAA7Li2+xbCqrpVkr9P8oDW2jdWK9daO6G1trm1tnnTpk3broIAAAA7qO06EFbVIUn+Ocmvtda+uNH1AQAA2JlsaJfRqnptkqOS7FdV5yf5oyS7JUlr7aVJnpXkekn+tqqS5Mettc0bU1sAAICdy0aPMvrIdR5/bJLHbqPqAAAAdGW77jIKAADA4giEAAAAnRIIAQAAOiUQAgAAdEogBAAA6JRACAAA0CmBEAAAoFMCIQAAQKcEQgAAgE4JhAAAAJ0SCAEAADolEAIAAHRKIAQAAOiUQAgAANApgRAAAKBTAiEAAECnBEIAAIBO7brRFQC2Q8fvvdE12Lkc/+2NrgEAwIq0EAIAAHRKIAQAAOiULqMb6LCnv32jq7BTOecFv7TRVQAAgB2KFkIAAIBOCYQAAACdEggBAAA6JRACAAB0SiAEAADolEAIAADQKYEQAACgUwIhAABApwRCAACATgmEAAAAnRIIAQAAOiUQAgAAdEogBAAA6JRACAAA0CmBEAAAoFMCIQAAQKcEQgAAgE4JhAAAAJ0SCAEAADolEAIAAHRKIAQAAOiUQAgAANApgRAAAKBTAiEAAECnBEIAAIBOCYQAAACdEggBAAA6JRACAAB0SiAEAADolEAIAADQKYEQAACgUwIhAABApwRCAACATgmEAAAAnRIIAQAAOiUQAgAAdEogBAAA6JRACAAA0CmBEAAAoFMCIQAAQKcEQgAAgE4JhAAAAJ0SCAEAADolEAIAAHRKIAQAAOiUQAgAANApgRAAAKBTAiEAAECnBEIAAIBOCYQrmiwcAAAgAElEQVQAAACdEggBAAA6JRACAAB0SiAEAADolEAIAADQKYEQAACgUwIhAABApwRCAACATu260RUAANgZfP5njtjoKuxUjvjC5ze6CtAFLYQAAACdEggBAAA6JRACAAB0SiAEAADolEAIAADQKYEQAACgUwIhAABApwRCAACATgmEAAAAnRIIAQAAOiUQAgAAdEogBAAA6JRACAAA0CmBEAAAoFMCIQAAQKcEQgAAgE4JhAAAAJ0SCAEAADolEAIAAHRKIAQAAOiUQAgAANApgRAAAKBTAiEAAECnBEIAAIBOCYQAAACdEggBAAA6JRACAAB0SiAEAADolEAIAADQKYEQAACgUwIhAABApwRCAACATgmEAAAAnRIIAQAAOiUQAgAAdGpDA2FVvbyqLqyq/1rl8aqqv6qqM6vqM1V1221dRwAAgJ3VRrcQnpjk6DUev1+Sw0fLcUlesg3qBAAA0IUNDYSttQ8l+eYaRR6Q5JVt8NEk+1TVAdumdgAAADu3jW4hXM+BSc4bWz9/tO1qquq4qjq1qk696KKLtknlAAAAdmTbeyCsFba1lQq21k5orW1urW3etGnTgqsFAACw49veA+H5SQ4eWz8oyVc3qC4AAAA7le09EL4tyTGj0UbvmOTbrbULNrpSAAAAO4NdN/LkVfXaJEcl2a+qzk/yR0l2S5LW2kuTvCPJLyY5M8n3kzx6Y2oKAACw89nQQNhae+Q6j7ckv7GNqgMAANCV7b3LKAAAAAsiEAIAAHRKIAQAAOiUQAgAANApgRAAAKBTAiEAAECnBEIAAIBOCYQAAACdEggBAAA6JRACAAB0SiAEAADolEAIAADQKYEQAACgUwIhAABApwRCAACATgmEAAAAnRIIAQAAOiUQAgAAdEogBAAA6JRACAAA0CmBEAAAoFMCIQAAQKcEQgAAgE4JhAAAAJ0SCAEAADolEAIAAHRKIAQAAOiUQAgAANApgRAAAKBTAiEAAECnBEIAAIBOCYQAAACdEggBAAA6JRACAAB0SiAEAADolEAIAADQKYEQAACgUwIhAABApwRCAACATgmEAAAAnRIIAQAAOiUQAgAAdEogBAAA6JRACAAA0CmBEAAAoFMCIQAAQKcEQgAAgE4JhAAAAJ0SCAEAADolEAIAAHRKIAQAAOiUQAgAANApgRAAAKBTAiEAAECnBEIAAIBOCYQAAACdEggBAAA6JRACAAB0SiAEAADolEAIAADQKYEQAACgUwIhAABApwRCAACATgmEAAAAnRIIAQAAOiUQAgAAdEogBAAA6JRACAAA0CmBEAAAoFMCIQAAQKcEQgAAgE4JhAAAAJ0SCAEAADolEAIAAHRKIAQAAOiUQAgAANApgRAAAKBTAiEAAECnBEIAAIBOCYQAAACdEggBAAA6JRACAAB0SiAEAADolEAIAADQKYEQAACgUwIhAABApwRCAACATgmEAAAAnRIIAQAAOiUQAgAAdEogBAAA6JRACAAA0CmBEAAAoFMCIQAAQKcEQgAAgE4JhAAAAJ0SCAEAADolEAIAAHRKIAQAAOiUQAgAANApgRAAAKBTAiEAAECnBEIAAIBOCYQAAACdEggBAAA6JRACAAB0SiAEAADolEAIAADQKYEQAACgUwIhAABApwRCAACATgmEAAAAnRIIAQAAOrXhgbCqjq6qM6rqzKp6+gqPH1JV/15Vn6yqz1TVL25EPQEAAHY2GxoIq2qXJC9Ocr8kN0/yyKq6+USxZyZ5Q2vt55I8IsnfbttaAgAA7Jw2uoXwyCRntta+3Fr7UZLXJXnARJmW5Dqjv/dO8tVtWD8AAICd1q4bfP4Dk5w3tn5+kjtMlDk+ybur6reSXDvJvbdN1QAAAHZuG91CWCtsaxPrj0xyYmvtoCS/mOSfqupq9a6q46rq1Ko69aKLLlpAVQEAAHYuGx0Iz09y8Nj6Qbl6l9DHJHlDkrTW/iPJHkn2mzxQa+2E1trm1trmTZs2Lai6AAAAO4+NDoQfT3J4Vd2wqnbPMGjM2ybKnJvkXklSVUdkCISaAAEAALbShgbC1tqPk/xmkn9L8vkMo4l+tqqeU1X3HxX7P0keV1WfTvLaJMe21ia7lQIAADCjjR5UJq21dyR5x8S2Z439/bkkd9nW9QIAANjZbXSXUQAAADaIQAgAANApgRAAAKBTAiEAAECnBEIAAIBOCYQAAACdEggBAAA6JRACAAB0SiAEAADolEAIAADQKYEQAACgUwIhAABApwRCAACATgmEAAAAnRIIAQAAOiUQAgAAdEogBAAA6JRACAAA0CmBEAAAoFMCIQAAQKcEQgAAgE4JhAAAAJ0SCAEAADolEAIAAHRKIAQAAOiUQAgAANApgRAAAKBTAiEAAECnBEIAAIBOCYQAAACdEggBAAA6JRACAAB0SiAEAADolEAIAADQqV1n3aGqdktyryRHJNmztfbc0fY9klwnycWttSvnWksAAADmbqYWwqo6Osk5Sd6e5P8lOX7s4dskuSDJw+dUNwAAABZo6kBYVZuTnJSkJfmdJK8Zf7y19tEkZyd54DwrCAAAwGLM0kL4h0m+n2Rza+2vknxphTIfT3LreVQMAACAxZolEN4lyUmtta+tUea8JAdsXZUAAADYFmYJhHsmuXidMj814zEBAADYILOEt/9Ocot1ytwmyZe3vDoAAABsK7MEwncm+YWquutKD1bV/ZLcOcm/zqNiAAAALNYsgfD5SS5J8u6q+pMkN0+Sqvql0fobM0w78edzryUAAABzN/XE9K21/66q+yZ5Q5Knjj30tiSV5KwkD2qtrXefIQAAANuBqQNhkrTWPlFVN0vyS0nulOR6Sb6d5KNJ3tpa+/H8qwgAAMAizBQIk6S1dkWGVsG3zb86AAAAbCszB8IlVXWdJHsn+XZr7TvzqxIAAADbwkxzBlbV7lX1jKo6K8m3kpyT5FtVddZo++6LqCQAAADzN3ULYVXtleR9SW6XpCU5N8nXktwgyaFJnpPk/lV1r9badxdQVwAAAOZolhbCZyfZnOQtSQ5vrd2wtXan1toNkxye5KQktx+VAwAAYDs3SyB8aJJPtdYe0lo7e/yB0fpDknw6ycPmWD8AAAAWZJZAuF+Sf1vtwdZaGz1+va2tFAAAAIs3SyA8J8k+65TZe1QOAACA7dwsgfBlSR5WVQet9GBVHZLk4aNyAAAAbOdmmYfwn5PcPcknqupFST6U5OtJ9k9yjyS/neSDSd4yCoc/0Vo7dz7VBQAAYF5mCYRfzjDdRCV57gqPV5L7j5ZxbcbzAAAAsA3MEtRemSHcAQAAsBOYOhC21o5dYD0AAADYxmYZVAYAAICdyNSBsKreWlX3q6paZIUAAADYNmZpIfyfSf41ydlV9YyqusGC6gQAAMA2MEsg3JzkH5JcN8Moo+dW1Zuq6j4LqRkAAAALNXUgbK19orV2XJIDkjwxyelJHpTkXVV1VlU9rao2LaieAAAAzNnMg8q01r7XWvu71trtktw+Q6vhpiTPT3JeVb2uqo6abzUBAACYt60aZbS1dtqo1fDoJF9NsnuShyV5X1WdXlW/PIc6AgAAsABbHAirao+qelRVnZLkw0kOTPLpJE9O8k9JbpLkzVX1W3OpKQAAAHM1cyCsqltU1V9maBF8eZKfS/KaJHdtrf1ca+2vRpPY3zTJF5M8ZY71BQAAYE52nbZgVf2vJI9PcuckleTsJC9I8vLW2sWT5Vtr51XV65M8c051BQAAYI6mDoRJXpnkyiTvSPKSJO9srbV19jkjQ3dSAAAAtjOzBMI/SfLS1tpXpt2htfbaJK+duVYAAAAs3Cz3EL4kybfWKlBVe1XVIVtXJQAAALaFWQLh2Ul+e50yTxqVAwAAYDs3SyCs0QIAAMBOYKsmpl/B/km+N+djAgAAsABrDipTVcdMbLrNCtuSZJckhyT5tSSnz6luAAAALNB6o4yemGRpaomW5AGjZdJSV9LvJ3n2XGoGAADAQq0XCB89+m8leXmSk5K8dYVyVyT5RpL/aK1dMr/qAQAAsChrBsLW2j8u/V1Vj0pyUmvtlQuvFQAAAAs39cT0rbV7LrIiAAAAbFvzHmUUAACAHYRACAAA0CmBEAAAoFMCIQAAQKcEQgAAgE4JhAAAAJ0SCAEAADo19TyEVfWsKYpdmeQ7ST6f5IOttR9tacUAAABYrKkDYZLjk7Sx9Rr7e3J7S/KNqnpSa+11W149AAAAFmWWLqP3TPLWJJcn+Yckxya53+i/Lx9tPynJQ5O8IMkeSf6pqu42v+oCAAAwL7O0EB6a5D5Jbt9aO33isVdW1d8k+UiSt7TWnlFVr0tyWpLfTfLhudQWAACAuZmlhfB3krxhhTCYJGmtfTrJG5M8ZbR+epK3J7nT1lYSAACA+ZslEN4sydfWKfPVUbklX0qyz6yVAgAAYPFmCYSXZv3Wvjsn+e7Y+rVH+wEAALCdmSUQviPJParqeVV17fEHquraVfX8JHcflVtyyyTnbHUtAQAAmLtZBpX5/SRHJfm9JE+oqs8k+XqS/ZPcKkPX0HOT/EGSVNUBSW6S5KVzrC8AAABzMnUgbK19raqOzDClxCMytAYu+UGSE5M8vbV24aj8BUkOnF9VAQAAmKdZWgjTWrsoyWOq6gkZBo/ZO8l3knyhtXb5AuoHAADAgswUCJeMwt9/zbkuAAAAbENbFAir6q5Jfi7DfYPfTvKJ1trJ86wYAAAAizVTIKyq2yZ5Va6aa7CStNFjZyQ5prV26lxrCAAAwEJMHQir6iZJ3p/kOklOHv19QZIDktwzyd2SvKeqjmytfWkBdQUAAGCOZmkh/MMkeyZ5eGvtjROPHV9VD0nyuiTPTPKoOdUPAACABZllYvp7JzlphTCYJGmtvSnJW0flAAAA2M7NEgj3S/KFdcp8YVQOAACA7dwsgfCiJDdfp8zPJLl4y6sDAADAtjJLIHx/kvtX1SNWerCqHpzkAUneO4+KAQAAsFizDCrznAyB79VV9RtJ/j3DKKM3SHJUkrsmuTTJH8+5jgAAACzA1IGwtXZmVd07ySuT3GW0tAxzESbJGUkeZcoJAACAHcNME9O31j6e5IiqunOS2ybZO8m3k3yytfaRBdQPAACABZkpEC5prZ2S5JQ51wUAAIBtaOZAWFWHJtmUobvoRa21c+deKwAAABZuqlFGq2q/qvrzqrogyZeTfCzJfyY5u6q+WlV/VlXXXWRFAQAAmK91A2FVHZ7k1CS/nWT/JFckuTDDvIRXZBhl9ClJTq2qGy2uqgAAAMzTmoGwqq6R5NVJDknywST3TrJna+2A1toNkuyV5L5JPpTksCSvWmhtAQAAmJv1Wgjvm2RzkjckuVdr7f2ttR8tPdhau6y19t4kP5/kTUnuUFX3maUCVXV0VZ1RVWdW1dNXKfOwqvpcVX22ql4zy/EBAABY2XqB8MFJLkvyW621tlqh0WO/meTyJA+Z9uRVtUuSFye5X5KbJ3lkVd18oszhSX4/yV1aa7dI8uRpjw8AAMDq1guEt03ykdbaResdqLV2YZKTR/tM68gkZ7bWvjxqeXxdkgdMlHlckhe31r41dh4AAAC20nqB8OAkn53heJ9NcugM5Q9Mct7Y+vmjbeNumuSmVfWRqvpoVR09w/EBAABYxXrzEF4nySUzHO+SDAPNTKtW2DbZNXXXJIcnOSrJQUk+XFW3bK0tq1dVHZfkuCQ55JBDZqgCAABAn9ZrIdw9w9QS07pytM+0zs/QCrnkoCRfXaHMW1trl7fWzk5yRoaAuExr7YTW2ubW2uZNmzbNUAUAAIA+TTMx/aqDyczBx5McXlU3rKrdkzwiydsmypyU5J5JUlX7ZehC+uUF1gkAAKAL63UZTZLjq+r4RZy8tfbjqvrNJP+WZJckL2+tfbaqnpPk1Nba20aP3beqPpehtfKprbVvLKI+AAAAPZkmEK50n99aZmpRbK29I8k7JrY9a+zvluQpowUAAIA5WTMQttam6VIKAADADkjgAwAA6JRACAAA0CmBEAAAoFMCIQAAQKcEQgAAgE4JhAAAAJ0SCAEAADolEAIAAHRKIAQAAOiUQAgAANApgRAAAKBTAiEAAECnBEIAAIBOCYQAAACdEggBAAA6JRACAAB0SiAEAADolEAIAADQKYEQAACgUwIhAABApwRCAACATgmEAAAAnRIIAQAAOiUQAgAAdEogBAAA6JRACAAA0CmBEAAAoFMCIQAAQKcEQgAAgE4JhAAAAJ0SCAEAADolEAIAAHRKIAQAAOiUQAgAANApgRAAAKBTAiEAAECnBEIAAIBOCYQAAACdEggBAAA6JRACAAB0SiAEAADolEAIAADQKYEQAACgUwIhAABApwRCAACATgmEAAAAnRIIAQAAOiUQAgAAdEogBAAA6JRACAAA0CmBEAAAoFMCIQAAQKcEQgAAgE4JhAAAAJ0SCAEAADolEAIAAHRKIAQAAOiUQAgAANApgRAAAKBTAiEAAECnBEIAAIBOCYQAAACdEggBAAA6JRACAAB0SiAEAADolEAIAADQKYEQAACgUwIhAABApwRCAACATgmEAAAAnRIIAQAAOiUQAgAAdEogBAAA6JRACAAA0CmBEAAAoFMCIQAAQKcEQgAAgE4JhAAAAJ0SCAEAADolEAIAAHRKIAQAAOiUQAgAANApgRAAAKBTAiEAAECnBEIAAIBOCYQAAACdEggBAAA6JRACAAB0SiAEAADolEAIAADQKYEQAACgUwIhAABApwRCAACATgmEAAAAnRIIAQAAOiUQAgAAdEogBAAA6JRACAAA0CmBEAAAoFMCIQAAQKcEQgAAgE4JhAAAAJ0SCAEAADolEML/b+/ug22r6/uOf75AND4NPtFoeFS0psQo6OVBIYKtnWo6wkRNhalNnMFSYxmS2iSjk1QUdZyYSdOYGiNNNMYxBWOayU1CFB94qBhBEowUKQ4SDFebFmMEIghBvv1jr4ubwzngw+Wsfc7v9Zphzllrr7v3d5gF577PXr+1AQBgUIIQAABgUIIQAABgUIIQAABgUIIQAABgUIIQAABgUIIQAABgUIIQAABgUIIQAABgULMHYVU9v6quqaprq+o193HcS6qqq2rHZs4HAACwXc0ahFW1d5K3J3lBksOSnFJVh61z3COSnJHk0s2dEAAAYPua+x3Co5Jc293XdfcdSc5JctI6x70xyVuTfH0zhwMAANjO5g7C/ZPcsLS9a9p3t6o6IsmB3f3HmzkYAADAdjd3ENY6+/ruB6v2SvIrSf7j/T5R1WlVdXlVXX7jjTfuwREBAAC2p7mDcFeSA5e2D0jypaXtRyR5apILq+r6JMck2bnejWW6++zu3tHdO/bbb78HcGQAAIDtYe4g/FSSJ1fVE6rqQUlOTrJz94PdfVN3P7a7D+nuQ5J8MsmJ3X35POMCAABsH7MGYXffmeT0JB9KcnWS93f3VVV1VlWdOOdsAAAA290+cw/Q3eclOW/NvtdtcOwJmzETAADACOa+ZBQAAICZCEIAAIBBCUIAAIBBCUIAAIBBCUIAAIBBCUIAAIBBCUIAAIBBCUIAAIBBCUIAAIBBCUIAAIBBCUIAAIBBCUIAAIBBCUIAAIBBCUIAAIBBCUIAAIBBCUIAAIBBCUIAAIBBCUIAAIBBCUIAAIBBCUIAAIBBCUIAAIBBCUIAAIBBCUIAAIBBCUIAAIBBCUIAAIBBCUIAAIBBCUIAAIBBCUIAAIBBCUIAAIBBCUIAAIBBCUIAAIBBCUIAAIBBCUIAAIBBCUIAAIBBCUIAAIBBCUIAAIBBCUIAAIBBCUIAAIBBCUIAAIBBCUIAAIBBCUIAAIBBCUIAAIBBCUIAAIBBCUIAAIBBCUIAAIBBCUIAAIBBCUIAAIBBCUIAAIBBCUIAAIBBCUIAAIBBCUIAAIBBCUIAAIBBCUIAAIBBCUIAAIBBCUIAAIBBCUIAAIBBCUIAAIBBCUIAAIBBCUIAAIBBCUIAAIBBCUIAAIBBCUIAAIBBCUIAAIBBCUIAAIBBCUIAAIBBCUIAAIBBCUIAAIBBCUIAAIBBCUIAAIBBCUIAAIBBCUIAAIBBCUIAAIBBCUIAAIBBCUIAAIBBCUIAAIBBCUIAAIBBCUIAAIBBCUIAAIBBCUIAAIBBCUIAAIBBCUIAAIBBCUIAAIBBCUIAAIBBCUIAAIBBCUIAAIBBCUIAAIBBCUIAAIBBCUIAAIBBCUIAAIBBCUIAAIBBCUIAAIBBCUIAAIBBCUIAAIBBCUIAAIBBCUIAAIBBCUIAAIBBCUIAAIBBCUIAAIBBCUIAAIBBCUIAAIBBCUIAAIBBCUIAAIBBCUIAAIBBCUIAAIBBCUIAAIBBCUIAAIBBCUIAAIBBCUIAAIBBCUIAAIBBCUIAAIBBCUIAAIBBCUIAAIBBCUIAAIBBCUIAAIBBzR6EVfX8qrqmqq6tqtes8/irq+qzVfWZqvpoVR08x5wAAADbzaxBWFV7J3l7khckOSzJKVV12JrDrkiyo7ufluQDSd66uVMCAABsT3O/Q3hUkmu7+7ruviPJOUlOWj6guy/o7lunzU8mOWCTZwQAANiW5g7C/ZPcsLS9a9q3kVOT/OkDOhEAAMAg9pn59Wudfb3ugVUvS7IjyfEbPH5aktOS5KCDDtpT8wEAAGxbc79DuCvJgUvbByT50tqDqup5SX4+yYndfft6T9TdZ3f3ju7esd9++z0gwwIAAGwncwfhp5I8uaqeUFUPSnJykp3LB1TVEUnemUUM/r8ZZgQAANiWZg3C7r4zyelJPpTk6iTv7+6rquqsqjpxOuyXkjw8ye9V1aeraucGTwcAAMC3Ye41hOnu85Kct2bf65a+f96mDwUAADCAuS8ZBQAAYCaCEAAAYFCCEAAAYFCCEAAAYFCCEAAAYFCCEAAAYFCCEAAAYFCCEAAAYFCCEAAAYFCCEAAAYFCCEAAAYFCCEAAAYFCCEAAAYFCCEAAAYFCCEAAAYFCCEAAAYFCCEAAAYFCCEAAAYFCCEAAAYFCCEAAAYFCCEAAAYFCCEAAAYFCCEAAAYFCCEAAAYFCCEAAAYFCCEAAAYFCCEAAAYFCCEAAAYFCCEAAAYFCCEAAAYFCCEAAAYFCCEAAAYFCCEAAAYFCCEAAAYFCCEAAAYFCCEAAAYFCCEAAAYFCCEAAAYFCCEAAAYFCCEAAAYFCCEAAAYFCCEAAAYFCCEAAAYFCCEAAAYFCCEAAAYFCCEAAAYFCCEAAAYFCCEAAAYFCCEAAAYFCCEAAAYFCCEAAAYFCCEAAAYFCCEAAAYFCCEAAAYFCCEAAAYFCCEAAAYFCCEAAAYFCCEAAAYFCCEAAAYFCCEAAAYFCCEAAAYFCCEAAAYFCCEAAAYFCCEAAAYFCCEAAAYFCCEAAAYFCCEAAAYFCCEAAAYFCCEAAAYFCCEAAAYFCCEAAAYFCCEAAAYFCCEAAAYFCCEAAAYFCCEAAAYFCCEAAAYFCCEAAAYFCCEAAAYFCCEAAAYFCCEAAAYFCCEAAAYFCCEAAAYFCCEAAAYFCCEAAAYFCCEAAAYFCCEAAAYFCCEAAAYFCCEAAAYFCCEAAAYFCCEAAAYFCCEAAAYFCCEAAAYFCCEAAAYFCCEAAAYFCCEAAAYFCCEAAAYFCCEAAAYFCCEAAAYFCCEAAAYFCCEAAAYFCCEAAAYFCCEAAAYFCCEAAAYFCCEAAAYFCCEAAAYFCCEAAAYFCCEAAAYFCCEAAAYFCCEAAAYFCCEAAAYFCCEAAAYFCCEAAAYFCCEAAAYFCCEAAAYFCzB2FVPb+qrqmqa6vqNes8/uCqOnd6/NKqOmTzpwQAANh+Zg3Cqto7yduTvCDJYUlOqarD1hx2apK/6+4nJfmVJL+4uVMCAABsT3O/Q3hUkmu7+7ruviPJOUlOWnPMSUneM33/gST/rKpqE2cEAADYlvaZ+fX3T3LD0vauJEdvdEx331lVNyV5TJIvLx9UVaclOW3a/PuquuYBmXhMj82af9+rqLx3PKItcW7mDX6HNagtcX7Wy52fA9oS52b8/n9UK39+nv7OuSf4lh38rRw0dxCu9196fwfHpLvPTnL2nhiKe6qqy7t7x9xzwFrOTVaZ85NV5dxklTk/N9/cl4zuSnLg0vYBSb600TFVtU+SfZN8ZVOmAwAA2MbmDsJPJXlyVT2hqh6U5OQkO9ccszPJT0zfvyTJx7r7Xu8QAgAA8O2Z9ZLRaU3g6Uk+lGTvJO/q7quq6qwkl3f3ziS/leS9VXVtFu8MnjzfxMNyKS6ryrnJKnN+sqqcm6wy5+cmK2+2AQAAjGnuS0YBAACYiSAEAAAYlCAEAAAYlCAEgO9SVe1VVf9q7jlgPc5P4L64qQyw5VTViUmeM21e1N1/NOc8kCRVdXF3P+f+j4TN5/xklfm5Pi9BCGwpVfWWJEcled+065QsPqbmtfNNBUlV/acktyU5N8nXdu/v7q/MNhRMnJ+sKj/X5ycIgS2lqj6T5PDuvmva3jvJFd39tHknY3RV9Vfr7O7ufuKmDwNrOD9ZVX6uz2/WD6YH+A49Msnu32rvO+cgsFt3P2HuGWAjzk9WnJ/rMxKEwFbzliRXVNUFSSqLNQcuK2F2VfXQJK9OclB3n1ZVT07ylO7+45lHA+cnq8zP9Zm5ZBTYcqrq8UmOzOIHx6Xd/TczjwSpqnOT/HmSH+/up1bVQ5L8WXcfPvNo4PxkpS39XE+Sy/xc31w+dgLYUqrqGUken2RXkhuSfH9VHVpVrnhgbod291uT/EOSdPdtWfzSAlaB85NV9qwkJyQ5fvqeTeQvUMBW8+tJnpHkM1n8Zeap0/ePqapXdvf5cw7H0O6Y3nXpJKmqQ5PcPu9IcDfnJyupqn49yZOS/Pdp17+rqud197+fcayhCEJgq7k+yandfVWSVNVhSX42yRuT/I8kgpC5nJnkg0kOrKr3JTk2yctnnQi+yfnJqjo+yValYxUAAAn5SURBVFN7WsdWVe9JcuW8I41FEAJbzQ/sjsEk6e7PVtUR3X1dlauf2HxVdWx3X5Lk4iQvSnJMFu9e/1R3f3nW4WDS3R+uqr+I85PVc02Sg5J8Ydo+MIsrf9gkghDYaq6pqnckOWfafmmSz1XVgzOtjYFN9rYkz8ziBh3PSPInM88DGzk+yXFZXDb6PUn+YN5xIEnymCRXV9Vl0/aRSf6sqnYmSXefONtkg3CXUWBLmdbAvCqLv9RUko9nsa7w60ke2t1/P+N4DKiqPpnk6iQ/kuTctY939xmbPhSssc46rZcm+bx1Wsytqo6/r8e7+6LNmmVUghAAvgtV9dgkz0vyi0let/bx7n7Ppg8Fa1TVVbnnOq29klzZ3T8472SQVNXjkhyVxbvXn/KxE5vLJaPAllJVV2a6S96Sm5JcnuRN3f23mz8VI5vWYZ1TVVd391/OPQ9swDotVlJVvSKLX6Z9LIsrf36tqs7q7nfNO9k4vEMIbClV9dYk30jyu9Ouk7P4AXJTkuO6+4VzzcbYquqAJL+Wxd0bO4vLmX+qu3fNOhgkqaqLslibdY91WkluTazTYj5VdU2SZ+/+hW5VPSbJJ7r7KfNONg7vEAJbzbHdfezS9pVVdUl3H1tVL5ttKkjencUvKn5s2n7ZtO+fzzYRfNO9LmeGFbEryS1L27ckuWGmWYYkCIGt5uFVdXR3X5okVXVUkodPj90531iQf9Td717a/u2q+unZpoEl3X2RdVqsqC8mubSq/jCLc/OkJJdV1auTpLv/85zDjUAQAlvNK5K8q6oensWlojcnObWqHpbkLbNOxuhunN6l3n0Xx1OSWNPKSrBOixX2+emf3f5w+vqIGWYZkjWEwJZUVftm8f+wr849CyRJVR2U5L8meda065Is1hB+YeM/BZvDOi1gI94hBLaUKQTPTPKcafuiJGd1902zDsbwuvuvk7gxB6vKOi1WUlVdkHvfPTzd/U9nGGdI3iEEtpSq+v0k/yvJ7s92+zdJnt7dL5pvKnCXUVZbVf1Okh/K4nK8u9dpJflcYp0W86mqZy5tfm+SFye5s7t/bqaRhiMIgS2lqj7d3Yff3z7YbFX14SzuMvreadfLkvzr7naXUWZXVWfe1+Pd/YbNmgXuT1Vd1N3Hzz3HKFwyCmw1t1XVcd398SSpqmOT3DbzTJAk+7nLKKtK8LGqqurRS5t7JdmR5HEzjTMkQQhsNa9M8jvTWsIk+bskPzHjPLDbl91llFVlnRYr7M/zzXPzziTXJzl1tmkG5JJRYEvY/XlEuzeTPGz6/mtJ2voX5rbmLqOd5BNxl1FWhHVarKqqekiSVyU5Lov/d/7PJO/o7q/POthABCGwJSytf3lKkiOzuDFCJXlhkou7+xVzzQawFVmnxSqoqvdn8ZnC75t2nZLkUd39Y/NNNRZBCGwpVXV+khd39y3T9iOS/F53P3/eyRhVVb3tvh7v7jM2axbYyAbrtH7V5xAyt6r6y+5++v3t44FjDSGw1RyU5I6l7TuSHDLPKJAkeVGSn0/yqCzWtMIqsk6LVXVFVR3T3Z9Mkqo6OsklM880FEEIbDXvTXJZVf1BFn+5+dF88zMJYQ43J7kwyc4kz513FNjQYbn3Oq3LZ50IFo5O8uNV9dfT9kFJrq6qK7O4R8DT5httDC4ZBbacqnpGkh+eNi/u7ivmnIexVdUZSX4yyROTfHH5oSz+MvPEWQaDJdZpsaqq6uD7etyNuR54ghAA9oCqekd3/+Tcc8B6rNMCNrLX3AMAwHYgBllxV1TVMbs3rNMCdvMOIQDANldVV2fxsT33WKeV5K5YpwVDE4QAANucdVrARgQhAADAoKwhBAAAGJQgBAAAGJQgBIAHWFV1VV049xwAsJYgBGDbmkJs+Z9vVNVXqurCqnp5VdUeep3rq+r6PfFcALCZ9pl7AADYBG+Yvn5Pkicl+dEkxyfZkeT0TXj9f5Lk1k14HQD4trjLKADbVlV1knR3rdl/bJKLk1SSQ7v7r77L17l+ep1DvpvnAYDN5pJRAIbT3Zck+d9ZBOEzlx+rqgdV1elVdV5VfaGqbp8uM/1IVb1gzbEnTNF5cJKD11ye+ttLx91rDWFVvX7af0JVvaSqLquqW6fXOqeq9l9v9qo6sqrOr6pbqurmaa5nLT/fnvh3BMAYXDIKwKh2v2v4D2v2PzrJryb5RJIPJ7kxyeOTvDDJeVX1b7v7N6djr8/ictSfnrb/y9LzfPpbnONVSU5MsjPJRUmOTvLSJE+vqsO7+/a7B6764STnZ3Hp6+8n+XySH0pyQZKPfYuvBwB3c8koANvWfVwy+pwsIurOJId09/9ZeuzBSfbr7l1r/sy+SS5J8v1J9u/u25Yeu356nUPuY46LuvuEpX2vT3JmkluSHNvdVy499rtJTkny0u5+/7RvryTXZLEG8ke6+0+Xjn9lkndMm8/t7gvv818MAExcMgrAtjddTvn6qnpzVZ2b5CNZvEP4M8sxmCTdffvaGJz235TkXUkeleTIPTje25ZjcPLfpq9HLe17dhYxeMFyDE7OTvK5PTgTAINwySgAIzhzzXYnObW7373ewVX1g0l+Nslzsrhc9HvXHLLu+r7v0OXr7Lth+vqopX1HTF8/vvbg7r6rqj6R5B/vwbkAGIAgBGDb233JaFU9LMmzkvxWkt+oqi909z3W3lXVMVmsx9snyUezWNt3c5K7khye5KQkD96D4311nX13Tl/3Xtq37/T1/27wPBvtB4ANCUIAhtHdX0vykap6YZK/SPKeqnpKdy9/RuAvJHlI1lmLV1WvzSII53Dz9PX7Nnh8o/0AsCFrCAEYTnd/Jot1egck+Q9rHn5Skq9scGOW4zd4ym/knu/mPRCumL4et/aB6YYzz36AXx+AbUgQAjCqNyX5epKfqarltXrXJ3l0VT1t+eCqOjXJv9jguf42yX5V9ZAHYtDJJVl8zMRz134eYpLTYv0gAN8BQQjAkLr7i0nemeSRSX5u6aHdnyX48ar6zar65aq6KIs7eX5gg6f7aBbrCj9YVW+sql+YLkvdk/PeleQVSW5PsnP68Po3V9UfTTPvvvPoXXvydQHY3gQhACN7S5Jbk5xRVd+XJN39wSw+hP6zWXxA/KlZRNhzk/zJBs/zpiS/keTQJK9N8sYkL97Tw06XsR6f5MIk/zLJGZnWOya5bjrs5vX+LACsxwfTA8A2UFWXJDk6yb7TzXMA4H55hxAAtoiqemhVPXKd/S/P4qYy54tBAL4d3iEEgC2iqn4gi7uNfjjJtVl8fNQRWdx59KtJnt3dV883IQBbjSAEgC1iuhvqL2WxjvBxWdzI5m+SfCTJm7v78zOOB8AWJAgBAAAGZQ0hAADAoAQhAADAoAQhAADAoAQhAADAoAQhAADAoAQhAADAoP4/4LWoLk4b2T0AAAAASUVORK5CYII=\n",
      "text/plain": [
       "<matplotlib.figure.Figure at 0x7f4e9919e748>"
      ]
     },
     "metadata": {
      "needs_background": "light"
     },
     "output_type": "display_data"
    }
   ],
   "source": [
    "twitter_archive_cleaned.groupby('dogs_type')['rating'].mean().plot(kind='bar', figsize=(15,15))\n",
    "plt.title('most Rated dog type', fontsize=40)\n",
    "plt.xlabel('Rating', fontsize=20)\n",
    "plt.ylabel('Dog type', fontsize=20)"
   ]
  },
  {
   "cell_type": "markdown",
   "metadata": {},
   "source": [
    "- floofer have the highest interaction"
   ]
  },
  {
   "cell_type": "markdown",
   "metadata": {},
   "source": [
    "# References"
   ]
  },
  {
   "cell_type": "markdown",
   "metadata": {},
   "source": [
    "-  #### https://towardsdatascience.com/plot-in-python-with-matplotlib-step-by-step-dd69f2e9175a\n",
    "- ####  https://towardsdatascience.com/plot-in-python-with-matplotlib-step-by-step-dd69f2e9175a\n",
    "-  #### https://stackoverflow.com/questions/25146121/extracting-just-month-and-year-separately-from-pandas-datetime-column\n",
    "-  #### https://stackoverflow.com/questions/32370281/how-to-embed-image-or-picture-in-jupyter-notebook-either-from-a-local-machine-o\n",
    "- #### https://www.kite.com/python/answers/how-to-find-the-max-value-of-a-pandas-dataframe-column-in-python\n",
    "- #### https://stackoverflow.com/questions/25146121/extracting-just-month-and-year-separately-from-pandas-datetime-column\n",
    "-  ####  https://github.com/tkannab/Udacity-DAND-T2-P3-DW/blob/master/wrangle_act.ipynb"
   ]
  }
 ],
 "metadata": {
  "kernelspec": {
   "display_name": "Python 3",
   "language": "python",
   "name": "python3"
  },
  "language_info": {
   "codemirror_mode": {
    "name": "ipython",
    "version": 3
   },
   "file_extension": ".py",
   "mimetype": "text/x-python",
   "name": "python",
   "nbconvert_exporter": "python",
   "pygments_lexer": "ipython3",
   "version": "3.6.3"
  }
 },
 "nbformat": 4,
 "nbformat_minor": 2
}
